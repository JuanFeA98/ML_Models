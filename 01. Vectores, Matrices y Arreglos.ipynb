{
 "cells": [
  {
   "cell_type": "markdown",
   "id": "ee2c9f1d",
   "metadata": {},
   "source": [
    "# 1. Vectores, Matrices y Arreglos"
   ]
  },
  {
   "cell_type": "markdown",
   "id": "61118f4a",
   "metadata": {},
   "source": [
    "## Librerias"
   ]
  },
  {
   "cell_type": "code",
   "execution_count": 1,
   "id": "a1d553ff",
   "metadata": {},
   "outputs": [],
   "source": [
    "import numpy as np"
   ]
  },
  {
   "cell_type": "code",
   "execution_count": 2,
   "id": "eb649849",
   "metadata": {},
   "outputs": [],
   "source": [
    "from scipy import sparse"
   ]
  },
  {
   "cell_type": "markdown",
   "id": "38c35f4b",
   "metadata": {},
   "source": [
    "## 1.1 Vectores"
   ]
  },
  {
   "cell_type": "markdown",
   "id": "943021d5",
   "metadata": {},
   "source": [
    "Crear vectores tipo fila"
   ]
  },
  {
   "cell_type": "code",
   "execution_count": 3,
   "id": "bdbc10c0",
   "metadata": {},
   "outputs": [
    {
     "data": {
      "text/plain": [
       "array([1, 2, 3])"
      ]
     },
     "execution_count": 3,
     "metadata": {},
     "output_type": "execute_result"
    }
   ],
   "source": [
    "vector_fila = np.array([1,2,3])\n",
    "vector_fila"
   ]
  },
  {
   "cell_type": "markdown",
   "id": "d2546cfe",
   "metadata": {},
   "source": [
    "Crear vectores tipo columna"
   ]
  },
  {
   "cell_type": "code",
   "execution_count": 4,
   "id": "6bdec86e",
   "metadata": {},
   "outputs": [
    {
     "data": {
      "text/plain": [
       "array([[4],\n",
       "       [5],\n",
       "       [6]])"
      ]
     },
     "execution_count": 4,
     "metadata": {},
     "output_type": "execute_result"
    }
   ],
   "source": [
    "vector_columnas = np.array([[4],[5],[6]])\n",
    "vector_columnas"
   ]
  },
  {
   "cell_type": "markdown",
   "id": "9175a1c1",
   "metadata": {},
   "source": [
    "## 1.2 Matrices"
   ]
  },
  {
   "cell_type": "markdown",
   "id": "265376bb",
   "metadata": {},
   "source": [
    "Crear una matriz a traves de un array"
   ]
  },
  {
   "cell_type": "code",
   "execution_count": 5,
   "id": "aac92d19",
   "metadata": {},
   "outputs": [
    {
     "data": {
      "text/plain": [
       "array([[1, 2],\n",
       "       [3, 4],\n",
       "       [5, 6]])"
      ]
     },
     "execution_count": 5,
     "metadata": {},
     "output_type": "execute_result"
    }
   ],
   "source": [
    "matriz = np.array([\n",
    "    [1,2],\n",
    "    [3,4],\n",
    "    [5,6]])\n",
    "\n",
    "matriz"
   ]
  },
  {
   "cell_type": "code",
   "execution_count": 6,
   "id": "2f52e708",
   "metadata": {},
   "outputs": [
    {
     "data": {
      "text/plain": [
       "matrix([[1, 2],\n",
       "        [3, 4],\n",
       "        [5, 6]])"
      ]
     },
     "execution_count": 6,
     "metadata": {},
     "output_type": "execute_result"
    }
   ],
   "source": [
    "matriz = np.mat([\n",
    "    [1,2],\n",
    "    [3,4],\n",
    "    [5,6]\n",
    "])\n",
    "\n",
    "matriz"
   ]
  },
  {
   "cell_type": "markdown",
   "id": "b50a4c67",
   "metadata": {},
   "source": [
    "## 1.3 Matriz Dispersa"
   ]
  },
  {
   "cell_type": "code",
   "execution_count": 7,
   "id": "eb8c8b5f",
   "metadata": {},
   "outputs": [
    {
     "data": {
      "text/plain": [
       "array([[0, 0],\n",
       "       [0, 1],\n",
       "       [3, 0]])"
      ]
     },
     "execution_count": 7,
     "metadata": {},
     "output_type": "execute_result"
    }
   ],
   "source": [
    "matriz = np.array([\n",
    "    [0,0],\n",
    "    [0,1],\n",
    "    [3,0]\n",
    "])\n",
    "\n",
    "matriz"
   ]
  },
  {
   "cell_type": "markdown",
   "id": "8ccf6af8",
   "metadata": {},
   "source": [
    "Cuando la mayoria de los elementos de una matriz tienen un valor igual a cero, esta se considere una **matriz dispersa**.\n",
    "\n",
    "Una manera para evitar sesgos por la composición de esta matriz es utilizando CSR, que comprime los valores de la matriz y solo toma los valores de los elementos que son diferentes de cero.\n",
    "\n",
    "Trabajando con una matriz dispersa."
   ]
  },
  {
   "cell_type": "code",
   "execution_count": 8,
   "id": "677227aa",
   "metadata": {},
   "outputs": [
    {
     "name": "stdout",
     "output_type": "stream",
     "text": [
      "  (1, 1)\t1\n",
      "  (2, 0)\t3\n"
     ]
    }
   ],
   "source": [
    "matriz_dispersa = sparse.csr_matrix(matriz)\n",
    "print(matriz_dispersa)"
   ]
  },
  {
   "cell_type": "markdown",
   "id": "ed016f3f",
   "metadata": {},
   "source": [
    "## 1.4 Seleccionando elementos"
   ]
  },
  {
   "cell_type": "markdown",
   "id": "ad35dcfe",
   "metadata": {},
   "source": [
    "Seleccionando elementos de vectores y matrices"
   ]
  },
  {
   "cell_type": "markdown",
   "id": "62d49f6f",
   "metadata": {},
   "source": [
    "### Vectores"
   ]
  },
  {
   "cell_type": "code",
   "execution_count": 94,
   "id": "ba17332b",
   "metadata": {},
   "outputs": [
    {
     "data": {
      "text/plain": [
       "array([1, 2, 3, 4, 5, 6])"
      ]
     },
     "execution_count": 94,
     "metadata": {},
     "output_type": "execute_result"
    }
   ],
   "source": [
    "vector = np.array([1,2,3,4,5,6])\n",
    "\n",
    "vector"
   ]
  },
  {
   "cell_type": "code",
   "execution_count": 101,
   "id": "7daab280",
   "metadata": {},
   "outputs": [
    {
     "data": {
      "text/plain": [
       "array([1, 2, 3, 4, 5, 6])"
      ]
     },
     "execution_count": 101,
     "metadata": {},
     "output_type": "execute_result"
    }
   ],
   "source": [
    "# Seleccionar todos los elementos\n",
    "vector[:]"
   ]
  },
  {
   "cell_type": "code",
   "execution_count": 104,
   "id": "96a8f27c",
   "metadata": {},
   "outputs": [
    {
     "data": {
      "text/plain": [
       "array([1, 2, 3])"
      ]
     },
     "execution_count": 104,
     "metadata": {},
     "output_type": "execute_result"
    }
   ],
   "source": [
    "# Seleccionar todo antes del tercer elemento\n",
    "vector[:3]"
   ]
  },
  {
   "cell_type": "code",
   "execution_count": 103,
   "id": "0bf75a3a",
   "metadata": {},
   "outputs": [
    {
     "data": {
      "text/plain": [
       "6"
      ]
     },
     "execution_count": 103,
     "metadata": {},
     "output_type": "execute_result"
    }
   ],
   "source": [
    "# Selecctionar el último elemento\n",
    "vector[-1]"
   ]
  },
  {
   "cell_type": "markdown",
   "id": "0659471b",
   "metadata": {},
   "source": [
    "### Matrices"
   ]
  },
  {
   "cell_type": "code",
   "execution_count": 96,
   "id": "cb3ed82d",
   "metadata": {},
   "outputs": [
    {
     "data": {
      "text/plain": [
       "array([[1, 2, 3],\n",
       "       [4, 5, 6],\n",
       "       [7, 8, 9]])"
      ]
     },
     "execution_count": 96,
     "metadata": {},
     "output_type": "execute_result"
    }
   ],
   "source": [
    "matriz = np.array([\n",
    "    [1,2,3],\n",
    "    [4,5,6],\n",
    "    [7,8,9]\n",
    "])\n",
    "\n",
    "matriz"
   ]
  },
  {
   "cell_type": "code",
   "execution_count": 105,
   "id": "71ace7c8",
   "metadata": {},
   "outputs": [
    {
     "data": {
      "text/plain": [
       "array([[1, 2, 3],\n",
       "       [4, 5, 6]])"
      ]
     },
     "execution_count": 105,
     "metadata": {},
     "output_type": "execute_result"
    }
   ],
   "source": [
    "# Seleccionar las primeras dos filas y todas las columnas\n",
    "matriz[:2,:]"
   ]
  },
  {
   "cell_type": "code",
   "execution_count": 108,
   "id": "2ad26f9b",
   "metadata": {},
   "outputs": [
    {
     "data": {
      "text/plain": [
       "array([[2],\n",
       "       [5],\n",
       "       [8]])"
      ]
     },
     "execution_count": 108,
     "metadata": {},
     "output_type": "execute_result"
    }
   ],
   "source": [
    "# Seleccionar todas las filas de la segunda columna\n",
    "matriz[:,1:2]"
   ]
  },
  {
   "cell_type": "markdown",
   "id": "ce2edee3",
   "metadata": {},
   "source": [
    "## 1.5 Describiendo una matriz"
   ]
  },
  {
   "cell_type": "code",
   "execution_count": 111,
   "id": "479a96c3",
   "metadata": {},
   "outputs": [
    {
     "data": {
      "text/plain": [
       "array([[ 1,  2,  3,  4],\n",
       "       [ 5,  6,  7,  8],\n",
       "       [ 9, 10, 11, 12]])"
      ]
     },
     "execution_count": 111,
     "metadata": {},
     "output_type": "execute_result"
    }
   ],
   "source": [
    "matriz = np.array([\n",
    "    [1,2,3,4],\n",
    "    [5,6,7,8],\n",
    "    [9,10,11,12]\n",
    "])\n",
    "\n",
    "matriz"
   ]
  },
  {
   "cell_type": "code",
   "execution_count": 112,
   "id": "478edc87",
   "metadata": {},
   "outputs": [
    {
     "data": {
      "text/plain": [
       "(3, 4)"
      ]
     },
     "execution_count": 112,
     "metadata": {},
     "output_type": "execute_result"
    }
   ],
   "source": [
    "# Conocer las dimensiones de la matriz\n",
    "matriz.shape"
   ]
  },
  {
   "cell_type": "code",
   "execution_count": 114,
   "id": "cb598e02",
   "metadata": {},
   "outputs": [
    {
     "data": {
      "text/plain": [
       "12"
      ]
     },
     "execution_count": 114,
     "metadata": {},
     "output_type": "execute_result"
    }
   ],
   "source": [
    "# Ver el número de elementos\n",
    "matriz.size"
   ]
  },
  {
   "cell_type": "code",
   "execution_count": 116,
   "id": "a48c111e",
   "metadata": {},
   "outputs": [
    {
     "data": {
      "text/plain": [
       "2"
      ]
     },
     "execution_count": 116,
     "metadata": {},
     "output_type": "execute_result"
    }
   ],
   "source": [
    "# Ver el número de dimensiones\n",
    "matriz.ndim"
   ]
  },
  {
   "cell_type": "code",
   "execution_count": null,
   "id": "b790761a",
   "metadata": {},
   "outputs": [],
   "source": []
  }
 ],
 "metadata": {
  "kernelspec": {
   "display_name": "Python 3",
   "language": "python",
   "name": "python3"
  },
  "language_info": {
   "codemirror_mode": {
    "name": "ipython",
    "version": 3
   },
   "file_extension": ".py",
   "mimetype": "text/x-python",
   "name": "python",
   "nbconvert_exporter": "python",
   "pygments_lexer": "ipython3",
   "version": "3.9.6"
  }
 },
 "nbformat": 4,
 "nbformat_minor": 5
}
