{
 "cells": [
  {
   "cell_type": "markdown",
   "id": "0670d47c",
   "metadata": {},
   "source": [
    "# 1. Vectores, Matrices y Arreglos"
   ]
  },
  {
   "cell_type": "markdown",
   "id": "61118f4a",
   "metadata": {},
   "source": [
    "## Librerias"
   ]
  },
  {
   "cell_type": "code",
   "execution_count": 1,
   "id": "a1d553ff",
   "metadata": {},
   "outputs": [],
   "source": [
    "import numpy as np"
   ]
  },
  {
   "cell_type": "code",
   "execution_count": 2,
   "id": "eb649849",
   "metadata": {},
   "outputs": [],
   "source": [
    "from scipy import sparse"
   ]
  },
  {
   "cell_type": "markdown",
   "id": "38c35f4b",
   "metadata": {},
   "source": [
    "## 1.1 Vectores"
   ]
  },
  {
   "cell_type": "markdown",
   "id": "943021d5",
   "metadata": {},
   "source": [
    "Crear vectores tipo fila"
   ]
  },
  {
   "cell_type": "code",
   "execution_count": 3,
   "id": "bdbc10c0",
   "metadata": {},
   "outputs": [
    {
     "data": {
      "text/plain": [
       "array([1, 2, 3])"
      ]
     },
     "execution_count": 3,
     "metadata": {},
     "output_type": "execute_result"
    }
   ],
   "source": [
    "vector_fila = np.array([1,2,3])\n",
    "vector_fila"
   ]
  },
  {
   "cell_type": "markdown",
   "id": "d2546cfe",
   "metadata": {},
   "source": [
    "Crear vectores tipo columna"
   ]
  },
  {
   "cell_type": "code",
   "execution_count": 4,
   "id": "6bdec86e",
   "metadata": {},
   "outputs": [
    {
     "data": {
      "text/plain": [
       "array([[4],\n",
       "       [5],\n",
       "       [6]])"
      ]
     },
     "execution_count": 4,
     "metadata": {},
     "output_type": "execute_result"
    }
   ],
   "source": [
    "vector_columnas = np.array([[4],[5],[6]])\n",
    "vector_columnas"
   ]
  },
  {
   "cell_type": "markdown",
   "id": "9175a1c1",
   "metadata": {},
   "source": [
    "## 1.2 Matrices"
   ]
  },
  {
   "cell_type": "markdown",
   "id": "265376bb",
   "metadata": {},
   "source": [
    "Crear una matriz a traves de un array"
   ]
  },
  {
   "cell_type": "code",
   "execution_count": 5,
   "id": "aac92d19",
   "metadata": {},
   "outputs": [
    {
     "data": {
      "text/plain": [
       "array([[1, 2],\n",
       "       [3, 4],\n",
       "       [5, 6]])"
      ]
     },
     "execution_count": 5,
     "metadata": {},
     "output_type": "execute_result"
    }
   ],
   "source": [
    "matriz = np.array([\n",
    "    [1,2],\n",
    "    [3,4],\n",
    "    [5,6]])\n",
    "\n",
    "matriz"
   ]
  },
  {
   "cell_type": "code",
   "execution_count": 6,
   "id": "2f52e708",
   "metadata": {},
   "outputs": [
    {
     "data": {
      "text/plain": [
       "matrix([[1, 2],\n",
       "        [3, 4],\n",
       "        [5, 6]])"
      ]
     },
     "execution_count": 6,
     "metadata": {},
     "output_type": "execute_result"
    }
   ],
   "source": [
    "matriz = np.mat([\n",
    "    [1,2],\n",
    "    [3,4],\n",
    "    [5,6]\n",
    "])\n",
    "\n",
    "matriz"
   ]
  },
  {
   "cell_type": "markdown",
   "id": "e974a940",
   "metadata": {},
   "source": [
    "## 1.3 Matriz Dispersa"
   ]
  },
  {
   "cell_type": "code",
   "execution_count": 7,
   "id": "eb8c8b5f",
   "metadata": {},
   "outputs": [
    {
     "data": {
      "text/plain": [
       "array([[0, 0],\n",
       "       [0, 1],\n",
       "       [3, 0]])"
      ]
     },
     "execution_count": 7,
     "metadata": {},
     "output_type": "execute_result"
    }
   ],
   "source": [
    "matriz = np.array([\n",
    "    [0,0],\n",
    "    [0,1],\n",
    "    [3,0]\n",
    "])\n",
    "\n",
    "matriz"
   ]
  },
  {
   "cell_type": "markdown",
   "id": "8ccf6af8",
   "metadata": {},
   "source": [
    "Cuando la mayoria de los elementos de una matriz tienen un valor igual a cero, esta se considere una **matriz dispersa**.\n",
    "\n",
    "Una manera para evitar sesgos por la composición de esta matriz es utilizando CSR, que comprime los valores de la matriz y solo toma los valores de los elementos que son diferentes de cero.\n",
    "\n",
    "Trabajando con una matriz dispersa."
   ]
  },
  {
   "cell_type": "code",
   "execution_count": 8,
   "id": "677227aa",
   "metadata": {},
   "outputs": [
    {
     "name": "stdout",
     "output_type": "stream",
     "text": [
      "  (1, 1)\t1\n",
      "  (2, 0)\t3\n"
     ]
    }
   ],
   "source": [
    "matriz_dispersa = sparse.csr_matrix(matriz)\n",
    "print(matriz_dispersa)"
   ]
  },
  {
   "cell_type": "markdown",
   "id": "a5cf732c",
   "metadata": {},
   "source": [
    "## 1.4 Seleccionando elementos"
   ]
  },
  {
   "cell_type": "markdown",
   "id": "5e563432",
   "metadata": {},
   "source": [
    "Seleccionando elementos de vectores y matrices"
   ]
  },
  {
   "cell_type": "markdown",
   "id": "7f01829e",
   "metadata": {},
   "source": [
    "### Vectores"
   ]
  },
  {
   "cell_type": "code",
   "execution_count": 9,
   "id": "19cb3051",
   "metadata": {},
   "outputs": [
    {
     "data": {
      "text/plain": [
       "array([1, 2, 3, 4, 5, 6])"
      ]
     },
     "execution_count": 9,
     "metadata": {},
     "output_type": "execute_result"
    }
   ],
   "source": [
    "vector = np.array([1,2,3,4,5,6])\n",
    "\n",
    "vector"
   ]
  },
  {
   "cell_type": "code",
   "execution_count": 10,
   "id": "5a6f01c2",
   "metadata": {},
   "outputs": [
    {
     "data": {
      "text/plain": [
       "array([1, 2, 3, 4, 5, 6])"
      ]
     },
     "execution_count": 10,
     "metadata": {},
     "output_type": "execute_result"
    }
   ],
   "source": [
    "# Seleccionar todos los elementos\n",
    "vector[:]"
   ]
  },
  {
   "cell_type": "code",
   "execution_count": 11,
   "id": "9fb6bb77",
   "metadata": {},
   "outputs": [
    {
     "data": {
      "text/plain": [
       "array([1, 2, 3])"
      ]
     },
     "execution_count": 11,
     "metadata": {},
     "output_type": "execute_result"
    }
   ],
   "source": [
    "# Seleccionar todo antes del tercer elemento\n",
    "vector[:3]"
   ]
  },
  {
   "cell_type": "code",
   "execution_count": 12,
   "id": "3f0a6f5d",
   "metadata": {},
   "outputs": [
    {
     "data": {
      "text/plain": [
       "6"
      ]
     },
     "execution_count": 12,
     "metadata": {},
     "output_type": "execute_result"
    }
   ],
   "source": [
    "# Selecctionar el último elemento\n",
    "vector[-1]"
   ]
  },
  {
   "cell_type": "markdown",
   "id": "4b5afe68",
   "metadata": {},
   "source": [
    "### Matrices"
   ]
  },
  {
   "cell_type": "code",
   "execution_count": 13,
   "id": "211acc5e",
   "metadata": {},
   "outputs": [
    {
     "data": {
      "text/plain": [
       "array([[1, 2, 3],\n",
       "       [4, 5, 6],\n",
       "       [7, 8, 9]])"
      ]
     },
     "execution_count": 13,
     "metadata": {},
     "output_type": "execute_result"
    }
   ],
   "source": [
    "matriz = np.array([\n",
    "    [1,2,3],\n",
    "    [4,5,6],\n",
    "    [7,8,9]\n",
    "])\n",
    "\n",
    "matriz"
   ]
  },
  {
   "cell_type": "code",
   "execution_count": 14,
   "id": "7d4b9170",
   "metadata": {},
   "outputs": [
    {
     "data": {
      "text/plain": [
       "array([[1, 2, 3],\n",
       "       [4, 5, 6]])"
      ]
     },
     "execution_count": 14,
     "metadata": {},
     "output_type": "execute_result"
    }
   ],
   "source": [
    "# Seleccionar las primeras dos filas y todas las columnas\n",
    "matriz[:2,:]"
   ]
  },
  {
   "cell_type": "code",
   "execution_count": 15,
   "id": "4220a0e4",
   "metadata": {},
   "outputs": [
    {
     "data": {
      "text/plain": [
       "array([[2],\n",
       "       [5],\n",
       "       [8]])"
      ]
     },
     "execution_count": 15,
     "metadata": {},
     "output_type": "execute_result"
    }
   ],
   "source": [
    "# Seleccionar todas las filas de la segunda columna\n",
    "matriz[:,1:2]"
   ]
  },
  {
   "cell_type": "markdown",
   "id": "48803db4",
   "metadata": {},
   "source": [
    "## 1.5 Describiendo una matriz"
   ]
  },
  {
   "cell_type": "code",
   "execution_count": 16,
   "id": "c9aa469d",
   "metadata": {},
   "outputs": [
    {
     "data": {
      "text/plain": [
       "(3, 3)"
      ]
     },
     "execution_count": 16,
     "metadata": {},
     "output_type": "execute_result"
    }
   ],
   "source": [
    "# Conocer las dimensiones de la matriz\n",
    "matriz.shape"
   ]
  },
  {
   "cell_type": "code",
   "execution_count": 17,
   "id": "7ab46626",
   "metadata": {},
   "outputs": [
    {
     "data": {
      "text/plain": [
       "9"
      ]
     },
     "execution_count": 17,
     "metadata": {},
     "output_type": "execute_result"
    }
   ],
   "source": [
    "# Ver el número de elementos\n",
    "matriz.size"
   ]
  },
  {
   "cell_type": "code",
   "execution_count": 18,
   "id": "1076fd92",
   "metadata": {},
   "outputs": [
    {
     "data": {
      "text/plain": [
       "2"
      ]
     },
     "execution_count": 18,
     "metadata": {},
     "output_type": "execute_result"
    }
   ],
   "source": [
    "# Ver el número de dimensiones\n",
    "matriz.ndim"
   ]
  },
  {
   "cell_type": "markdown",
   "id": "60765bfd",
   "metadata": {},
   "source": [
    "## 1.6 Aplicando operaciones a los elementos"
   ]
  },
  {
   "cell_type": "code",
   "execution_count": 19,
   "id": "00f32afb",
   "metadata": {},
   "outputs": [],
   "source": [
    "# Creamos una función que sume 100 \n",
    "suma_100 = lambda x: x + 100"
   ]
  },
  {
   "cell_type": "code",
   "execution_count": 20,
   "id": "7412525f",
   "metadata": {},
   "outputs": [],
   "source": [
    "# Creamos una función vectorizada\n",
    "suma_100_vec = np.vectorize(suma_100)"
   ]
  },
  {
   "cell_type": "code",
   "execution_count": 21,
   "id": "6c8ff607",
   "metadata": {},
   "outputs": [
    {
     "data": {
      "text/plain": [
       "array([[101, 102, 103],\n",
       "       [104, 105, 106],\n",
       "       [107, 108, 109]])"
      ]
     },
     "execution_count": 21,
     "metadata": {},
     "output_type": "execute_result"
    }
   ],
   "source": [
    "# Aplicamos la función vectorizada a nuestro vector\n",
    "suma_100_vec(matriz)"
   ]
  },
  {
   "cell_type": "code",
   "execution_count": 22,
   "id": "39719982",
   "metadata": {},
   "outputs": [
    {
     "data": {
      "text/plain": [
       "array([[101, 102, 103],\n",
       "       [104, 105, 106],\n",
       "       [107, 108, 109]])"
      ]
     },
     "execution_count": 22,
     "metadata": {},
     "output_type": "execute_result"
    }
   ],
   "source": [
    "# Tambien podemos hacerlo de manera directa\n",
    "matriz + 100"
   ]
  },
  {
   "cell_type": "markdown",
   "id": "6679bc0e",
   "metadata": {},
   "source": [
    "## 1.7 Encontrando valores máximos y mínimos"
   ]
  },
  {
   "cell_type": "code",
   "execution_count": 23,
   "id": "c0e40832",
   "metadata": {},
   "outputs": [
    {
     "data": {
      "text/plain": [
       "9"
      ]
     },
     "execution_count": 23,
     "metadata": {},
     "output_type": "execute_result"
    }
   ],
   "source": [
    "# Encontrar el valor máximo\n",
    "np.max(matriz)"
   ]
  },
  {
   "cell_type": "code",
   "execution_count": 24,
   "id": "a25eb120",
   "metadata": {},
   "outputs": [
    {
     "data": {
      "text/plain": [
       "1"
      ]
     },
     "execution_count": 24,
     "metadata": {},
     "output_type": "execute_result"
    }
   ],
   "source": [
    "# Encontrar el valor mínimo\n",
    "np.min(matriz)"
   ]
  },
  {
   "cell_type": "code",
   "execution_count": 25,
   "id": "5d6735a5",
   "metadata": {},
   "outputs": [
    {
     "data": {
      "text/plain": [
       "(array([7, 8, 9]), array([3, 6, 9]))"
      ]
     },
     "execution_count": 25,
     "metadata": {},
     "output_type": "execute_result"
    }
   ],
   "source": [
    "# Podemos encontrar los valores máximos para las filas o columnas\n",
    "np.max(matriz, axis=0), np.max(matriz, axis=1)"
   ]
  },
  {
   "cell_type": "code",
   "execution_count": 26,
   "id": "65f5789a",
   "metadata": {},
   "outputs": [
    {
     "data": {
      "text/plain": [
       "(array([1, 2, 3]), array([1, 4, 7]))"
      ]
     },
     "execution_count": 26,
     "metadata": {},
     "output_type": "execute_result"
    }
   ],
   "source": [
    "# Podemos encontrar los valores mínimos para las filas o columnas\n",
    "np.min(matriz, axis=0), np.min(matriz, axis=1)"
   ]
  },
  {
   "cell_type": "markdown",
   "id": "5806ace8",
   "metadata": {},
   "source": [
    "## 1.8 Calculando promedio, varianza y desviación estándar"
   ]
  },
  {
   "cell_type": "code",
   "execution_count": 27,
   "id": "1a59af61",
   "metadata": {},
   "outputs": [
    {
     "data": {
      "text/plain": [
       "5.0"
      ]
     },
     "execution_count": 27,
     "metadata": {},
     "output_type": "execute_result"
    }
   ],
   "source": [
    "# Promedio\n",
    "np.mean(matriz)"
   ]
  },
  {
   "cell_type": "code",
   "execution_count": 28,
   "id": "c0a7f2bc",
   "metadata": {},
   "outputs": [
    {
     "data": {
      "text/plain": [
       "6.666666666666667"
      ]
     },
     "execution_count": 28,
     "metadata": {},
     "output_type": "execute_result"
    }
   ],
   "source": [
    "# Varianza\n",
    "np.var(matriz)"
   ]
  },
  {
   "cell_type": "code",
   "execution_count": 29,
   "id": "ab6551fa",
   "metadata": {},
   "outputs": [
    {
     "data": {
      "text/plain": [
       "2.581988897471611"
      ]
     },
     "execution_count": 29,
     "metadata": {},
     "output_type": "execute_result"
    }
   ],
   "source": [
    "# Desviación estándar\n",
    "np.std(matriz)"
   ]
  },
  {
   "cell_type": "markdown",
   "id": "23a4a774",
   "metadata": {},
   "source": [
    "## 1.9 Reorganizando arrays"
   ]
  },
  {
   "cell_type": "code",
   "execution_count": 30,
   "id": "1839e04a",
   "metadata": {},
   "outputs": [
    {
     "data": {
      "text/plain": [
       "array([[1, 2, 3],\n",
       "       [4, 5, 6],\n",
       "       [7, 8, 9]])"
      ]
     },
     "execution_count": 30,
     "metadata": {},
     "output_type": "execute_result"
    }
   ],
   "source": [
    "matriz"
   ]
  },
  {
   "cell_type": "code",
   "execution_count": 31,
   "id": "8612db76",
   "metadata": {},
   "outputs": [
    {
     "data": {
      "text/plain": [
       "array([[1, 2, 3, 4, 5, 6, 7, 8, 9]])"
      ]
     },
     "execution_count": 31,
     "metadata": {},
     "output_type": "execute_result"
    }
   ],
   "source": [
    "matriz.reshape(1,9)"
   ]
  },
  {
   "cell_type": "markdown",
   "id": "9a01916d",
   "metadata": {},
   "source": [
    "## 1.10 Trasponiendo vectores o matrices"
   ]
  },
  {
   "cell_type": "code",
   "execution_count": 32,
   "id": "6698be1a",
   "metadata": {},
   "outputs": [
    {
     "data": {
      "text/plain": [
       "array([[1, 4, 7],\n",
       "       [2, 5, 8],\n",
       "       [3, 6, 9]])"
      ]
     },
     "execution_count": 32,
     "metadata": {},
     "output_type": "execute_result"
    }
   ],
   "source": [
    "matriz.T"
   ]
  },
  {
   "cell_type": "markdown",
   "id": "0f19f959",
   "metadata": {},
   "source": [
    "## 1.11 Aplastar una matriz"
   ]
  },
  {
   "cell_type": "code",
   "execution_count": 33,
   "id": "815e32ce",
   "metadata": {},
   "outputs": [
    {
     "data": {
      "text/plain": [
       "array([1, 2, 3, 4, 5, 6, 7, 8, 9])"
      ]
     },
     "execution_count": 33,
     "metadata": {},
     "output_type": "execute_result"
    }
   ],
   "source": [
    "matriz.flatten()"
   ]
  },
  {
   "cell_type": "markdown",
   "id": "4b80c55c",
   "metadata": {},
   "source": [
    "## 1.12 Encontrar el rango de una matriz"
   ]
  },
  {
   "cell_type": "code",
   "execution_count": 34,
   "id": "df6b10d1",
   "metadata": {},
   "outputs": [
    {
     "data": {
      "text/plain": [
       "2"
      ]
     },
     "execution_count": 34,
     "metadata": {},
     "output_type": "execute_result"
    }
   ],
   "source": [
    "np.linalg.matrix_rank(matriz)"
   ]
  },
  {
   "cell_type": "markdown",
   "id": "96642976",
   "metadata": {},
   "source": [
    "## 1.13 Calcular el determinante"
   ]
  },
  {
   "cell_type": "code",
   "execution_count": 35,
   "id": "866de966",
   "metadata": {},
   "outputs": [
    {
     "data": {
      "text/plain": [
       "-9.51619735392994e-16"
      ]
     },
     "execution_count": 35,
     "metadata": {},
     "output_type": "execute_result"
    }
   ],
   "source": [
    "np.linalg.det(matriz)"
   ]
  },
  {
   "cell_type": "markdown",
   "id": "09afa847",
   "metadata": {},
   "source": [
    "## 1.14 Llamar la diagonal de una matriz"
   ]
  },
  {
   "cell_type": "code",
   "execution_count": 36,
   "id": "4fe20a86",
   "metadata": {},
   "outputs": [
    {
     "data": {
      "text/plain": [
       "array([1, 5, 9])"
      ]
     },
     "execution_count": 36,
     "metadata": {},
     "output_type": "execute_result"
    }
   ],
   "source": [
    "# Llamando a la diagonal principal\n",
    "matriz.diagonal()"
   ]
  },
  {
   "cell_type": "code",
   "execution_count": 38,
   "id": "0a344681",
   "metadata": {},
   "outputs": [
    {
     "data": {
      "text/plain": [
       "(array([2, 6]), array([4, 8]))"
      ]
     },
     "execution_count": 38,
     "metadata": {},
     "output_type": "execute_result"
    }
   ],
   "source": [
    "# Llamando a las diagonales secundarias\n",
    "matriz.diagonal(offset=1), matriz.diagonal(offset=-1)"
   ]
  },
  {
   "cell_type": "markdown",
   "id": "0167e28b",
   "metadata": {},
   "source": [
    "## 1.15 Calculando el trazo de una matriz"
   ]
  },
  {
   "cell_type": "code",
   "execution_count": 39,
   "id": "11a3f80e",
   "metadata": {},
   "outputs": [
    {
     "data": {
      "text/plain": [
       "15"
      ]
     },
     "execution_count": 39,
     "metadata": {},
     "output_type": "execute_result"
    }
   ],
   "source": [
    "matriz.trace()"
   ]
  },
  {
   "cell_type": "markdown",
   "id": "4c7a2557",
   "metadata": {},
   "source": [
    "## 1.16 Encontrar Eigenvalores y Eigenvectores"
   ]
  },
  {
   "cell_type": "code",
   "execution_count": 40,
   "id": "ce12218c",
   "metadata": {},
   "outputs": [],
   "source": [
    "eigenvalores, eigenvectores = np.linalg.eig(matriz)"
   ]
  },
  {
   "cell_type": "code",
   "execution_count": 41,
   "id": "a357dceb",
   "metadata": {},
   "outputs": [
    {
     "data": {
      "text/plain": [
       "array([ 1.61168440e+01, -1.11684397e+00, -3.38433605e-16])"
      ]
     },
     "execution_count": 41,
     "metadata": {},
     "output_type": "execute_result"
    }
   ],
   "source": [
    "eigenvalores"
   ]
  },
  {
   "cell_type": "code",
   "execution_count": 42,
   "id": "95ab2912",
   "metadata": {},
   "outputs": [
    {
     "data": {
      "text/plain": [
       "array([[-0.23197069, -0.78583024,  0.40824829],\n",
       "       [-0.52532209, -0.08675134, -0.81649658],\n",
       "       [-0.8186735 ,  0.61232756,  0.40824829]])"
      ]
     },
     "execution_count": 42,
     "metadata": {},
     "output_type": "execute_result"
    }
   ],
   "source": [
    "eigenvectores"
   ]
  },
  {
   "cell_type": "markdown",
   "id": "8085a9a0",
   "metadata": {},
   "source": [
    "## 1.17 Calculando el producto punto"
   ]
  },
  {
   "cell_type": "code",
   "execution_count": 43,
   "id": "51436d2b",
   "metadata": {},
   "outputs": [],
   "source": [
    "vector_a = np.array([1,2,3])\n",
    "vector_b = np.array([4,5,6])"
   ]
  },
  {
   "cell_type": "code",
   "execution_count": 44,
   "id": "dd2f70f9",
   "metadata": {},
   "outputs": [
    {
     "data": {
      "text/plain": [
       "32"
      ]
     },
     "execution_count": 44,
     "metadata": {},
     "output_type": "execute_result"
    }
   ],
   "source": [
    "np.dot(vector_a, vector_b)"
   ]
  },
  {
   "cell_type": "markdown",
   "id": "7803e24c",
   "metadata": {},
   "source": [
    "## 1.18 Sumar y restar matrices"
   ]
  },
  {
   "cell_type": "code",
   "execution_count": 45,
   "id": "b7af1f2d",
   "metadata": {},
   "outputs": [],
   "source": [
    "matriz_a = np.array([\n",
    "    [1,2,3],\n",
    "    [4,5,6],\n",
    "    [7,8,9]\n",
    "])\n",
    "\n",
    "matriz_b = np.array([\n",
    "    [4,5,6],\n",
    "    [7,8,9],\n",
    "    [10,11,12]\n",
    "])"
   ]
  },
  {
   "cell_type": "code",
   "execution_count": 46,
   "id": "9488bde3",
   "metadata": {},
   "outputs": [
    {
     "data": {
      "text/plain": [
       "array([[ 5,  7,  9],\n",
       "       [11, 13, 15],\n",
       "       [17, 19, 21]])"
      ]
     },
     "execution_count": 46,
     "metadata": {},
     "output_type": "execute_result"
    }
   ],
   "source": [
    "np.add(matriz_a, matriz_b)"
   ]
  },
  {
   "cell_type": "code",
   "execution_count": 47,
   "id": "3b734869",
   "metadata": {},
   "outputs": [
    {
     "data": {
      "text/plain": [
       "array([[3, 3, 3],\n",
       "       [3, 3, 3],\n",
       "       [3, 3, 3]])"
      ]
     },
     "execution_count": 47,
     "metadata": {},
     "output_type": "execute_result"
    }
   ],
   "source": [
    "np.subtract(matriz_b, matriz_a)"
   ]
  },
  {
   "cell_type": "markdown",
   "id": "33cb8658",
   "metadata": {},
   "source": [
    "## 1.19 Multiplicando matrices"
   ]
  },
  {
   "cell_type": "code",
   "execution_count": 48,
   "id": "cf5617ff",
   "metadata": {},
   "outputs": [
    {
     "data": {
      "text/plain": [
       "array([[ 48,  54,  60],\n",
       "       [111, 126, 141],\n",
       "       [174, 198, 222]])"
      ]
     },
     "execution_count": 48,
     "metadata": {},
     "output_type": "execute_result"
    }
   ],
   "source": [
    "np.dot(matriz_a, matriz_b)"
   ]
  },
  {
   "cell_type": "code",
   "execution_count": 50,
   "id": "963afa0c",
   "metadata": {},
   "outputs": [
    {
     "data": {
      "text/plain": [
       "array([[ 48,  54,  60],\n",
       "       [111, 126, 141],\n",
       "       [174, 198, 222]])"
      ]
     },
     "execution_count": 50,
     "metadata": {},
     "output_type": "execute_result"
    }
   ],
   "source": [
    "matriz_a @ matriz_b"
   ]
  },
  {
   "cell_type": "markdown",
   "id": "b01a0bf8",
   "metadata": {},
   "source": [
    "## 1.20 Invertir una matriz"
   ]
  },
  {
   "cell_type": "markdown",
   "id": "eda8ca95",
   "metadata": {},
   "source": [
    "np.linalg.inv(matriz)"
   ]
  },
  {
   "cell_type": "code",
   "execution_count": 57,
   "id": "d2420105",
   "metadata": {},
   "outputs": [
    {
     "data": {
      "text/plain": [
       "array([[1.00000000e+00, 0.00000000e+00],\n",
       "       [1.11022302e-16, 1.00000000e+00]])"
      ]
     },
     "execution_count": 57,
     "metadata": {},
     "output_type": "execute_result"
    }
   ],
   "source": [
    "matriz @ np.linalg.inv(matriz)"
   ]
  },
  {
   "cell_type": "markdown",
   "id": "44366175",
   "metadata": {},
   "source": [
    "## 1.21 Gererando valores aleatorios"
   ]
  },
  {
   "cell_type": "code",
   "execution_count": 68,
   "id": "8762ca4d",
   "metadata": {},
   "outputs": [],
   "source": [
    "# Establecer la semilla\n",
    "np.random.seed(0)"
   ]
  },
  {
   "cell_type": "code",
   "execution_count": 62,
   "id": "0c2338ef",
   "metadata": {},
   "outputs": [
    {
     "data": {
      "text/plain": [
       "array([0.0514672 , 0.44080984, 0.02987621])"
      ]
     },
     "execution_count": 62,
     "metadata": {},
     "output_type": "execute_result"
    }
   ],
   "source": [
    "# Generar un array con valores aleatorios entre 0 y 1\n",
    "np.random.random(3)"
   ]
  },
  {
   "cell_type": "code",
   "execution_count": 64,
   "id": "dfe332d9",
   "metadata": {},
   "outputs": [
    {
     "data": {
      "text/plain": [
       "array([91, 23, 67])"
      ]
     },
     "execution_count": 64,
     "metadata": {},
     "output_type": "execute_result"
    }
   ],
   "source": [
    "# Generar valores aleatorios entre un rango\n",
    "np.random.randint(1,100,3)"
   ]
  },
  {
   "cell_type": "code",
   "execution_count": 65,
   "id": "17d14f19",
   "metadata": {},
   "outputs": [
    {
     "data": {
      "text/plain": [
       "array([-0.34733018,  0.06629873, -1.62758528])"
      ]
     },
     "execution_count": 65,
     "metadata": {},
     "output_type": "execute_result"
    }
   ],
   "source": [
    "# Generar valores aleatorios de una distribución normal con media cero y desviación estandar 1\n",
    "np.random.normal(0, 1, 3)"
   ]
  },
  {
   "cell_type": "code",
   "execution_count": 66,
   "id": "20b3c1d1",
   "metadata": {},
   "outputs": [
    {
     "data": {
      "text/plain": [
       "array([-0.34291651, -0.92704265,  0.81483059])"
      ]
     },
     "execution_count": 66,
     "metadata": {},
     "output_type": "execute_result"
    }
   ],
   "source": [
    "# Generar valores aleatorios de una distribución logistica con media cero y desviación estandar 1\n",
    "np.random.logistic(0, 1, 3)"
   ]
  },
  {
   "cell_type": "code",
   "execution_count": 67,
   "id": "29b0225a",
   "metadata": {},
   "outputs": [
    {
     "data": {
      "text/plain": [
       "array([1.44045372, 1.15686774, 1.54464902])"
      ]
     },
     "execution_count": 67,
     "metadata": {},
     "output_type": "execute_result"
    }
   ],
   "source": [
    "# Generar valores aleatorios entre un rando\n",
    "np.random.uniform(1, 2, 3)"
   ]
  }
 ],
 "metadata": {
  "kernelspec": {
   "display_name": "Python 3",
   "language": "python",
   "name": "python3"
  },
  "language_info": {
   "codemirror_mode": {
    "name": "ipython",
    "version": 3
   },
   "file_extension": ".py",
   "mimetype": "text/x-python",
   "name": "python",
   "nbconvert_exporter": "python",
   "pygments_lexer": "ipython3",
   "version": "3.9.6"
  }
 },
 "nbformat": 4,
 "nbformat_minor": 5
}
