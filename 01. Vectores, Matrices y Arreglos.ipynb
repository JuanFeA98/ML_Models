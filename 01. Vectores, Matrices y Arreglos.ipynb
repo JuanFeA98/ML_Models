{
 "cells": [
  {
   "cell_type": "markdown",
   "id": "61118f4a",
   "metadata": {},
   "source": [
    "## Librerias"
   ]
  },
  {
   "cell_type": "code",
   "execution_count": 1,
   "id": "a1d553ff",
   "metadata": {},
   "outputs": [],
   "source": [
    "import numpy as np"
   ]
  },
  {
   "cell_type": "code",
   "execution_count": 14,
   "id": "eb649849",
   "metadata": {},
   "outputs": [],
   "source": [
    "from scipy import sparse"
   ]
  },
  {
   "cell_type": "markdown",
   "id": "38c35f4b",
   "metadata": {},
   "source": [
    "## 1. Vectores"
   ]
  },
  {
   "cell_type": "markdown",
   "id": "943021d5",
   "metadata": {},
   "source": [
    "Crear vectores tipo fila"
   ]
  },
  {
   "cell_type": "code",
   "execution_count": 4,
   "id": "bdbc10c0",
   "metadata": {},
   "outputs": [
    {
     "data": {
      "text/plain": [
       "array([1, 2, 3])"
      ]
     },
     "execution_count": 4,
     "metadata": {},
     "output_type": "execute_result"
    }
   ],
   "source": [
    "vector_fila = np.array([1,2,3])\n",
    "vector_fila"
   ]
  },
  {
   "cell_type": "markdown",
   "id": "d2546cfe",
   "metadata": {},
   "source": [
    "Crear vectores tipo columna"
   ]
  },
  {
   "cell_type": "code",
   "execution_count": 6,
   "id": "6bdec86e",
   "metadata": {},
   "outputs": [
    {
     "data": {
      "text/plain": [
       "array([[4],\n",
       "       [5],\n",
       "       [6]])"
      ]
     },
     "execution_count": 6,
     "metadata": {},
     "output_type": "execute_result"
    }
   ],
   "source": [
    "vector_columnas = np.array([[4],[5],[6]])\n",
    "vector_columnas"
   ]
  },
  {
   "cell_type": "markdown",
   "id": "9175a1c1",
   "metadata": {},
   "source": [
    "## 2. Matrices"
   ]
  },
  {
   "cell_type": "markdown",
   "id": "265376bb",
   "metadata": {},
   "source": [
    "Crear una matriz a traves de un array"
   ]
  },
  {
   "cell_type": "code",
   "execution_count": 11,
   "id": "aac92d19",
   "metadata": {},
   "outputs": [
    {
     "data": {
      "text/plain": [
       "array([[1, 2],\n",
       "       [3, 4],\n",
       "       [5, 6]])"
      ]
     },
     "execution_count": 11,
     "metadata": {},
     "output_type": "execute_result"
    }
   ],
   "source": [
    "matriz = np.array([\n",
    "    [1,2],\n",
    "    [3,4],\n",
    "    [5,6]])\n",
    "\n",
    "matriz"
   ]
  },
  {
   "cell_type": "code",
   "execution_count": 10,
   "id": "2f52e708",
   "metadata": {},
   "outputs": [
    {
     "data": {
      "text/plain": [
       "matrix([[1, 2],\n",
       "        [3, 4],\n",
       "        [5, 6]])"
      ]
     },
     "execution_count": 10,
     "metadata": {},
     "output_type": "execute_result"
    }
   ],
   "source": [
    "matriz = np.mat([\n",
    "    [1,2],\n",
    "    [3,4],\n",
    "    [5,6]\n",
    "])\n",
    "\n",
    "matriz"
   ]
  },
  {
   "cell_type": "markdown",
   "id": "8ccf6af8",
   "metadata": {},
   "source": [
    "Una **matriz dispersa** es aquella que contiene varios elementos con valor igual a cero\n",
    "\n",
    "Trabajando con una matriz dispersa"
   ]
  },
  {
   "cell_type": "code",
   "execution_count": 17,
   "id": "eb8c8b5f",
   "metadata": {},
   "outputs": [
    {
     "data": {
      "text/plain": [
       "array([[0, 0],\n",
       "       [0, 1],\n",
       "       [3, 0]])"
      ]
     },
     "execution_count": 17,
     "metadata": {},
     "output_type": "execute_result"
    }
   ],
   "source": [
    "matriz = np.array([\n",
    "    [0,0],\n",
    "    [0,1],\n",
    "    [3,0]\n",
    "])\n",
    "\n",
    "matriz"
   ]
  },
  {
   "cell_type": "code",
   "execution_count": 19,
   "id": "677227aa",
   "metadata": {},
   "outputs": [
    {
     "name": "stdout",
     "output_type": "stream",
     "text": [
      "  (1, 1)\t1\n",
      "  (2, 0)\t3\n"
     ]
    }
   ],
   "source": [
    "matriz_dispersa = sparse.csr_matrix(matriz)\n",
    "print(matriz_dispersa)"
   ]
  },
  {
   "cell_type": "code",
   "execution_count": null,
   "id": "5e366510",
   "metadata": {},
   "outputs": [],
   "source": []
  },
  {
   "cell_type": "code",
   "execution_count": null,
   "id": "57c02ee9",
   "metadata": {},
   "outputs": [],
   "source": []
  },
  {
   "cell_type": "code",
   "execution_count": null,
   "id": "d59d48c9",
   "metadata": {},
   "outputs": [],
   "source": []
  }
 ],
 "metadata": {
  "kernelspec": {
   "display_name": "Python 3",
   "language": "python",
   "name": "python3"
  },
  "language_info": {
   "codemirror_mode": {
    "name": "ipython",
    "version": 3
   },
   "file_extension": ".py",
   "mimetype": "text/x-python",
   "name": "python",
   "nbconvert_exporter": "python",
   "pygments_lexer": "ipython3",
   "version": "3.9.6"
  }
 },
 "nbformat": 4,
 "nbformat_minor": 5
}
