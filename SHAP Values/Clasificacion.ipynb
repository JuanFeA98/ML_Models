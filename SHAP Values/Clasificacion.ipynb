{
 "cells": [
  {
   "cell_type": "markdown",
   "id": "8714410e-eaf8-46ff-888c-7c973392f837",
   "metadata": {},
   "source": [
    "# **XGBoost**"
   ]
  },
  {
   "cell_type": "markdown",
   "id": "3cac4329-36c3-41f0-9223-d0db54dbb08e",
   "metadata": {},
   "source": [
    "## **Librerías**"
   ]
  },
  {
   "cell_type": "code",
   "execution_count": 1,
   "id": "e1d7db18-aca3-49b0-a7a0-af22ea8bfbcc",
   "metadata": {},
   "outputs": [],
   "source": [
    "import pandas as pd\n",
    "import numpy as np\n",
    "import matplotlib.pyplot as plt\n",
    "import seaborn as sns"
   ]
  },
  {
   "cell_type": "code",
   "execution_count": 2,
   "id": "79b70874-1c32-4737-9ff9-18465626c288",
   "metadata": {},
   "outputs": [],
   "source": [
    "pd.options.display.max_columns = False"
   ]
  },
  {
   "cell_type": "code",
   "execution_count": 3,
   "id": "a288e783-016a-4918-b200-849ba641c748",
   "metadata": {},
   "outputs": [],
   "source": [
    "from sklearn.model_selection import train_test_split\n",
    "from sklearn.metrics import classification_report, confusion_matrix"
   ]
  },
  {
   "cell_type": "code",
   "execution_count": 90,
   "id": "20b25902-0b1f-468b-93a6-e323cbe578d3",
   "metadata": {},
   "outputs": [],
   "source": [
    "import xgboost as xgb"
   ]
  },
  {
   "cell_type": "code",
   "execution_count": 81,
   "id": "0ff57830-6e63-4c97-9f57-587cd081bbae",
   "metadata": {},
   "outputs": [
    {
     "name": "stderr",
     "output_type": "stream",
     "text": [
      "C:\\Users\\jmart\\anaconda3\\envs\\StarterPack\\lib\\site-packages\\tqdm\\auto.py:22: TqdmWarning: IProgress not found. Please update jupyter and ipywidgets. See https://ipywidgets.readthedocs.io/en/stable/user_install.html\n",
      "  from .autonotebook import tqdm as notebook_tqdm\n"
     ]
    }
   ],
   "source": [
    "import shap"
   ]
  },
  {
   "cell_type": "markdown",
   "id": "7cc7c80b-b16b-4890-941a-2aed55273488",
   "metadata": {},
   "source": [
    "## **Datos**"
   ]
  },
  {
   "cell_type": "code",
   "execution_count": 21,
   "id": "356b0f65-d301-427c-9a16-fe69594e599c",
   "metadata": {},
   "outputs": [],
   "source": [
    "base = pd.read_csv('../Datos/titanic.csv')"
   ]
  },
  {
   "cell_type": "code",
   "execution_count": 28,
   "id": "4882cb1a-bd9b-4341-bb55-e96797ca2aea",
   "metadata": {},
   "outputs": [],
   "source": [
    "df = base.copy()"
   ]
  },
  {
   "cell_type": "code",
   "execution_count": 29,
   "id": "9198aeb4-8d63-4990-b190-74a4ef6fd041",
   "metadata": {},
   "outputs": [],
   "source": [
    "df.drop(['PassengerId', 'Name', 'Ticket', 'Cabin'], axis=1, inplace=True)"
   ]
  },
  {
   "cell_type": "code",
   "execution_count": 30,
   "id": "0eec987a-6bea-4cc3-8249-ed648128d0e0",
   "metadata": {},
   "outputs": [
    {
     "data": {
      "text/plain": [
       "3    491\n",
       "1    216\n",
       "2    184\n",
       "Name: Pclass, dtype: int64"
      ]
     },
     "execution_count": 30,
     "metadata": {},
     "output_type": "execute_result"
    }
   ],
   "source": [
    "df['Pclass'].value_counts()"
   ]
  },
  {
   "cell_type": "code",
   "execution_count": 38,
   "id": "448e250c-1f76-42b5-9431-112241e29343",
   "metadata": {},
   "outputs": [],
   "source": [
    "df_class = pd.get_dummies(df['Pclass']).reset_index()\n",
    "df_sex = pd.get_dummies(df['Sex']).reset_index()\n",
    "df_embarked = pd.get_dummies(df['Embarked']).reset_index()"
   ]
  },
  {
   "cell_type": "code",
   "execution_count": 49,
   "id": "a3754cd5-d8b9-437a-a685-083c02270279",
   "metadata": {},
   "outputs": [],
   "source": [
    "df['Age'].fillna(int(df['Age'].mean()), inplace=True)"
   ]
  },
  {
   "cell_type": "code",
   "execution_count": 67,
   "id": "7afde733-af02-4b41-a105-d28ef194a3cd",
   "metadata": {},
   "outputs": [],
   "source": [
    "wf = pd.merge(df.reset_index(), df_class, how='left', left_on='index', right_on='index')\n",
    "wf = pd.merge(wf, df_sex, how='left', left_on='index', right_on='index')\n",
    "wf = pd.merge(wf, df_embarked, how='left', left_on='index', right_on='index')"
   ]
  },
  {
   "cell_type": "code",
   "execution_count": 68,
   "id": "a70eb03c-64dd-4bfb-8a37-931eb884eab4",
   "metadata": {},
   "outputs": [],
   "source": [
    "wf.drop(['index', 'Sex', 'Embarked', 'Pclass'], axis=1, inplace=True)"
   ]
  },
  {
   "cell_type": "code",
   "execution_count": 72,
   "id": "76203585-99a4-4de2-af7b-f9f694aebd1b",
   "metadata": {},
   "outputs": [],
   "source": [
    "wf.drop([3, 'male', 'S'], axis=1, inplace=True)"
   ]
  },
  {
   "cell_type": "markdown",
   "id": "158fe0f7-6599-411c-bf96-c31f54c0d139",
   "metadata": {},
   "source": [
    "## **Modelo**"
   ]
  },
  {
   "cell_type": "code",
   "execution_count": 74,
   "id": "71d3b2fa-2c49-442d-a2b0-8046066253f4",
   "metadata": {},
   "outputs": [],
   "source": [
    "X = wf.drop(['Survived'], axis=1).copy()\n",
    "y = wf[['Survived']]"
   ]
  },
  {
   "cell_type": "code",
   "execution_count": 77,
   "id": "c9fd50ef-33bd-40d6-bf87-b07eff8b3bc6",
   "metadata": {},
   "outputs": [],
   "source": [
    "X_train, X_test, y_train, y_test = train_test_split(X, y, random_state=13, test_size=0.2)"
   ]
  },
  {
   "cell_type": "code",
   "execution_count": 96,
   "id": "48b8ab5a-bad4-4980-9d6b-4879bb19f8ae",
   "metadata": {},
   "outputs": [],
   "source": [
    "model = xgb.XGBClassifier(random_state=13)"
   ]
  },
  {
   "cell_type": "code",
   "execution_count": 97,
   "id": "4f1d5ff3-9bab-4a48-9635-5e51d7526e42",
   "metadata": {},
   "outputs": [
    {
     "name": "stdout",
     "output_type": "stream",
     "text": [
      "[23:51:27] WARNING: D:\\bld\\xgboost-split_1645118015404\\work\\src\\learner.cc:1115: Starting in XGBoost 1.3.0, the default evaluation metric used with the objective 'binary:logistic' was changed from 'error' to 'logloss'. Explicitly set eval_metric if you'd like to restore the old behavior.\n"
     ]
    },
    {
     "data": {
      "text/plain": [
       "XGBClassifier(base_score=0.5, booster='gbtree', colsample_bylevel=1,\n",
       "              colsample_bynode=1, colsample_bytree=1, enable_categorical=False,\n",
       "              gamma=0, gpu_id=-1, importance_type=None,\n",
       "              interaction_constraints='', learning_rate=0.300000012,\n",
       "              max_delta_step=0, max_depth=6, min_child_weight=1, missing=nan,\n",
       "              monotone_constraints='()', n_estimators=100, n_jobs=4,\n",
       "              num_parallel_tree=1, predictor='auto', random_state=13,\n",
       "              reg_alpha=0, reg_lambda=1, scale_pos_weight=1, subsample=1,\n",
       "              tree_method='exact', validate_parameters=1, verbosity=None)"
      ]
     },
     "execution_count": 97,
     "metadata": {},
     "output_type": "execute_result"
    }
   ],
   "source": [
    "model.fit(X_train, y_train)"
   ]
  },
  {
   "cell_type": "code",
   "execution_count": 98,
   "id": "0d384c36-1515-4f59-910f-3e598a7b654d",
   "metadata": {},
   "outputs": [],
   "source": [
    "y_pred = model.predict(X_test)"
   ]
  },
  {
   "cell_type": "code",
   "execution_count": 99,
   "id": "d0a8ff2f-ccdd-44af-b9cf-5595cbab7e12",
   "metadata": {},
   "outputs": [
    {
     "data": {
      "text/plain": [
       "array([1, 0, 1, 0, 0, 1, 0, 0, 0, 1, 1, 1, 1, 0, 0, 1, 1, 0, 0, 0, 1, 1,\n",
       "       0, 0, 0, 1, 0, 0, 0, 0, 1, 1, 0, 0, 0, 0, 0, 0, 1, 1, 0, 0, 0, 0,\n",
       "       0, 1, 0, 1, 0, 0, 0, 1, 0, 0, 0, 1, 0, 0, 0, 1, 1, 1, 0, 0, 0, 0,\n",
       "       1, 1, 0, 1, 0, 0, 0, 0, 0, 1, 0, 1, 0, 1, 1, 0, 1, 1, 1, 0, 0, 1,\n",
       "       0, 0, 1, 0, 0, 1, 1, 1, 0, 0, 1, 0, 0, 1, 0, 1, 1, 0, 1, 0, 0, 0,\n",
       "       0, 1, 1, 1, 1, 0, 0, 0, 0, 0, 0, 1, 0, 0, 0, 1, 1, 1, 0, 1, 0, 1,\n",
       "       1, 0, 0, 0, 1, 1, 1, 0, 0, 1, 0, 1, 0, 0, 0, 0, 0, 0, 0, 1, 1, 0,\n",
       "       0, 0, 1, 1, 0, 1, 1, 0, 0, 0, 0, 0, 0, 1, 1, 0, 1, 1, 0, 1, 1, 1,\n",
       "       0, 1, 0], dtype=int64)"
      ]
     },
     "execution_count": 99,
     "metadata": {},
     "output_type": "execute_result"
    }
   ],
   "source": [
    "y_pred"
   ]
  },
  {
   "cell_type": "code",
   "execution_count": 105,
   "id": "1836fc5d-f115-4429-a38b-b807f117e908",
   "metadata": {},
   "outputs": [
    {
     "data": {
      "image/png": "[encoded data removed]",
      "text/plain": [
       "<Figure size 432x288 with 2 Axes>"
      ]
     },
     "metadata": {
      "needs_background": "light"
     },
     "output_type": "display_data"
    }
   ],
   "source": [
    "sns.heatmap(confusion_matrix(y_test, y_pred)/len(y_test)*100, annot=True)\n",
    "plt.show()"
   ]
  },
  {
   "cell_type": "code",
   "execution_count": 107,
   "id": "81482b03-bb84-4267-b63b-cd3dfb92fa0a",
   "metadata": {},
   "outputs": [
    {
     "name": "stdout",
     "output_type": "stream",
     "text": [
      "              precision    recall  f1-score   support\n",
      "\n",
      "           0       0.87      0.84      0.85       110\n",
      "           1       0.75      0.80      0.77        69\n",
      "\n",
      "    accuracy                           0.82       179\n",
      "   macro avg       0.81      0.82      0.81       179\n",
      "weighted avg       0.82      0.82      0.82       179\n",
      "\n"
     ]
    }
   ],
   "source": [
    "print(classification_report(y_test, y_pred))"
   ]
  },
  {
   "cell_type": "code",
   "execution_count": null,
   "id": "aaf81575-97c6-4995-9975-82ab22ee6e85",
   "metadata": {},
   "outputs": [],
   "source": []
  }
 ],
 "metadata": {
  "kernelspec": {
   "display_name": "Python 3 (ipykernel)",
   "language": "python",
   "name": "python3"
  },
  "language_info": {
   "codemirror_mode": {
    "name": "ipython",
    "version": 3
   },
   "file_extension": ".py",
   "mimetype": "text/x-python",
   "name": "python",
   "nbconvert_exporter": "python",
   "pygments_lexer": "ipython3",
   "version": "3.10.4"
  }
 },
 "nbformat": 4,
 "nbformat_minor": 5
}
