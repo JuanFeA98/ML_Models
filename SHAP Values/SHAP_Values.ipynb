{
 "cells": [
  {
   "cell_type": "markdown",
   "id": "9ba0c5d1-1bec-4765-816a-5f91b7ee2eec",
   "metadata": {},
   "source": [
    "# **SHAP Values** "
   ]
  },
  {
   "cell_type": "markdown",
   "id": "d873ec11-48c2-4ad3-b4ea-a58dfe11b8f7",
   "metadata": {},
   "source": [
    "## **Librerias**"
   ]
  },
  {
   "cell_type": "code",
   "execution_count": 42,
   "id": "15338331-f806-465f-a7da-8c1b26bcece7",
   "metadata": {},
   "outputs": [],
   "source": [
    "import pandas as pd\n",
    "import numpy as np\n",
    "import matplotlib.pyplot as plt\n",
    "import seaborn as sns"
   ]
  },
  {
   "cell_type": "code",
   "execution_count": 2,
   "id": "a3f66502-90ff-41ed-b712-e312f36471fc",
   "metadata": {},
   "outputs": [],
   "source": [
    "pd.options.display.max_columns = False"
   ]
  },
  {
   "cell_type": "code",
   "execution_count": 3,
   "id": "ca021549-a2bd-40c8-a098-492e78c34708",
   "metadata": {},
   "outputs": [
    {
     "name": "stderr",
     "output_type": "stream",
     "text": [
      "C:\\Users\\jmart\\anaconda3\\envs\\StarterPack\\lib\\site-packages\\xgboost\\compat.py:36: FutureWarning: pandas.Int64Index is deprecated and will be removed from pandas in a future version. Use pandas.Index with the appropriate dtype instead.\n",
      "  from pandas import MultiIndex, Int64Index\n",
      "C:\\Users\\jmart\\anaconda3\\envs\\StarterPack\\lib\\site-packages\\tqdm\\auto.py:22: TqdmWarning: IProgress not found. Please update jupyter and ipywidgets. See https://ipywidgets.readthedocs.io/en/stable/user_install.html\n",
      "  from .autonotebook import tqdm as notebook_tqdm\n"
     ]
    }
   ],
   "source": [
    "import xgboost\n",
    "import shap"
   ]
  },
  {
   "cell_type": "code",
   "execution_count": 25,
   "id": "b33d228f-d213-45f9-9171-0173b6f0f30d",
   "metadata": {},
   "outputs": [],
   "source": [
    "from sklearn.datasets import fetch_california_housing\n",
    "from sklearn.model_selection import train_test_split"
   ]
  },
  {
   "cell_type": "markdown",
   "id": "1ef05e03-3467-4a46-999f-3f8ec79bf561",
   "metadata": {},
   "source": [
    "## **Datos**"
   ]
  },
  {
   "cell_type": "code",
   "execution_count": 9,
   "id": "f7e793ad-6b6f-49fb-91fa-97c3d554a417",
   "metadata": {},
   "outputs": [],
   "source": [
    "housing = fetch_california_housing()"
   ]
  },
  {
   "cell_type": "code",
   "execution_count": 16,
   "id": "70b1ae0f-a343-4cb2-b54d-ef82fa27b87d",
   "metadata": {},
   "outputs": [],
   "source": [
    "X = pd.DataFrame(housing['data'], columns=housing['feature_names'])\n",
    "y = pd.DataFrame(housing['target'], columns=housing['target_names'])"
   ]
  },
  {
   "cell_type": "code",
   "execution_count": 26,
   "id": "709d7562-bc40-4325-a190-e5bf4ead7c77",
   "metadata": {},
   "outputs": [],
   "source": [
    "X_train, X_test, y_train, y_test = train_test_split(X, y, test_size=0.2, random_state=13)"
   ]
  },
  {
   "cell_type": "code",
   "execution_count": 32,
   "id": "558bb433-137f-41ec-914e-b8e14e780652",
   "metadata": {},
   "outputs": [],
   "source": [
    "model = xgboost.XGBRegressor()"
   ]
  },
  {
   "cell_type": "code",
   "execution_count": 33,
   "id": "3a23fbb7-73d1-48e8-becc-d33261c660fd",
   "metadata": {},
   "outputs": [
    {
     "name": "stderr",
     "output_type": "stream",
     "text": [
      "pandas.Int64Index is deprecated and will be removed from pandas in a future version. Use pandas.Index with the appropriate dtype instead.\n"
     ]
    },
    {
     "data": {
      "text/plain": [
       "XGBRegressor(base_score=0.5, booster='gbtree', colsample_bylevel=1,\n",
       "             colsample_bynode=1, colsample_bytree=1, enable_categorical=False,\n",
       "             gamma=0, gpu_id=-1, importance_type=None,\n",
       "             interaction_constraints='', learning_rate=0.300000012,\n",
       "             max_delta_step=0, max_depth=6, min_child_weight=1, missing=nan,\n",
       "             monotone_constraints='()', n_estimators=100, n_jobs=4,\n",
       "             num_parallel_tree=1, predictor='auto', random_state=0, reg_alpha=0,\n",
       "             reg_lambda=1, scale_pos_weight=1, subsample=1, tree_method='exact',\n",
       "             validate_parameters=1, verbosity=None)"
      ]
     },
     "execution_count": 33,
     "metadata": {},
     "output_type": "execute_result"
    }
   ],
   "source": [
    "model.fit(X_train, y_train)"
   ]
  },
  {
   "cell_type": "code",
   "execution_count": 34,
   "id": "9edffcf8-7145-41e7-b770-dd3ae1f2ceca",
   "metadata": {},
   "outputs": [],
   "source": [
    "explainer = shap.Explainer(model)"
   ]
  },
  {
   "cell_type": "code",
   "execution_count": 37,
   "id": "febbf26a-fea7-4fdc-8047-95199033efa5",
   "metadata": {},
   "outputs": [
    {
     "name": "stderr",
     "output_type": "stream",
     "text": [
      "ntree_limit is deprecated, use `iteration_range` or model slicing instead.\n"
     ]
    }
   ],
   "source": [
    "shap_values = explainer(X_train)"
   ]
  },
  {
   "cell_type": "code",
   "execution_count": 49,
   "id": "1dd24623-beff-455e-aac6-8afcc9781be4",
   "metadata": {},
   "outputs": [
    {
     "ename": "TypeError",
     "evalue": "waterfall() got an unexpected keyword argument 'color'",
     "output_type": "error",
     "traceback": [
      "\u001b[1;31m---------------------------------------------------------------------------\u001b[0m",
      "\u001b[1;31mTypeError\u001b[0m                                 Traceback (most recent call last)",
      "Input \u001b[1;32mIn [49]\u001b[0m, in \u001b[0;36m<cell line: 1>\u001b[1;34m()\u001b[0m\n\u001b[1;32m----> 1\u001b[0m \u001b[43mshap\u001b[49m\u001b[38;5;241;43m.\u001b[39;49m\u001b[43mplots\u001b[49m\u001b[38;5;241;43m.\u001b[39;49m\u001b[43mwaterfall\u001b[49m\u001b[43m(\u001b[49m\u001b[43mshap_values\u001b[49m\u001b[43m[\u001b[49m\u001b[38;5;241;43m0\u001b[39;49m\u001b[43m]\u001b[49m\u001b[43m,\u001b[49m\u001b[43m \u001b[49m\u001b[43mcolor\u001b[49m\u001b[38;5;241;43m=\u001b[39;49m\u001b[38;5;124;43m'\u001b[39;49m\u001b[38;5;124;43mred\u001b[39;49m\u001b[38;5;124;43m'\u001b[39;49m\u001b[43m)\u001b[49m\n",
      "\u001b[1;31mTypeError\u001b[0m: waterfall() got an unexpected keyword argument 'color'"
     ]
    }
   ],
   "source": [
    "shap.plots.waterfall(shap_values[0], color='red')"
   ]
  }
 ],
 "metadata": {
  "kernelspec": {
   "display_name": "Python 3 (ipykernel)",
   "language": "python",
   "name": "python3"
  },
  "language_info": {
   "codemirror_mode": {
    "name": "ipython",
    "version": 3
   },
   "file_extension": ".py",
   "mimetype": "text/x-python",
   "name": "python",
   "nbconvert_exporter": "python",
   "pygments_lexer": "ipython3",
   "version": "3.10.4"
  }
 },
 "nbformat": 4,
 "nbformat_minor": 5
}
