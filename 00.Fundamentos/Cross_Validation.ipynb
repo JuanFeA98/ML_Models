{
 "cells": [
  {
   "cell_type": "markdown",
   "id": "a2bfa4ce-950c-4153-a568-f3ffe7c8484b",
   "metadata": {},
   "source": [
    "## **Librerías**"
   ]
  },
  {
   "cell_type": "code",
   "execution_count": 1,
   "id": "e5967133-b4e3-4f15-860b-9db57b7f37c1",
   "metadata": {},
   "outputs": [],
   "source": [
    "import pandas as pd\n",
    "import numpy as np\n",
    "import matplotlib.pyplot as plt\n",
    "import seaborn as sns"
   ]
  },
  {
   "cell_type": "code",
   "execution_count": 2,
   "id": "ae56a307-56a6-4b37-9457-5c004f6938d3",
   "metadata": {},
   "outputs": [],
   "source": [
    "pd.options.display.max_columns = False"
   ]
  },
  {
   "cell_type": "code",
   "execution_count": 3,
   "id": "008c56b0-ead8-4d90-a8cc-5e4c22cd9e71",
   "metadata": {},
   "outputs": [],
   "source": [
    "from sklearn import datasets\n",
    "\n",
    "from sklearn.metrics import accuracy_score, confusion_matrix, classification_report\n",
    "from sklearn.model_selection import train_test_split, cross_val_score\n",
    "\n",
    "from sklearn.ensemble import RandomForestClassifier"
   ]
  },
  {
   "cell_type": "code",
   "execution_count": 4,
   "id": "aceab072-5247-4954-be9d-0f943fb590cc",
   "metadata": {},
   "outputs": [],
   "source": [
    "import warnings\n",
    "warnings.filterwarnings('ignore')"
   ]
  },
  {
   "cell_type": "markdown",
   "id": "9e083b0b-4368-4da9-97d7-267d59efdbab",
   "metadata": {},
   "source": [
    "## **Datos**"
   ]
  },
  {
   "cell_type": "code",
   "execution_count": 5,
   "id": "4ac19569-4433-4448-b033-5c912e5f7ad0",
   "metadata": {},
   "outputs": [],
   "source": [
    "iris = datasets.load_iris()"
   ]
  },
  {
   "cell_type": "code",
   "execution_count": 6,
   "id": "38dd2a44-c412-49b9-b43d-bf3b2e436ed2",
   "metadata": {},
   "outputs": [],
   "source": [
    "df_features = pd.DataFrame(iris['data'])\n",
    "df_features.columns = list(iris['feature_names'])"
   ]
  },
  {
   "cell_type": "code",
   "execution_count": 7,
   "id": "886fe909-e8e9-405b-b1b1-c2f2e686eb8f",
   "metadata": {},
   "outputs": [],
   "source": [
    "df_target = pd.DataFrame(iris['target'])\n",
    "df_target.columns = ['species']"
   ]
  },
  {
   "cell_type": "code",
   "execution_count": 8,
   "id": "2513c839-56cc-4f99-aa12-91928d9f2135",
   "metadata": {},
   "outputs": [],
   "source": [
    "df_iris = pd.merge(\n",
    "    df_target.reset_index(),\n",
    "    df_features.reset_index()\n",
    ")\n",
    "\n",
    "df_iris.drop('index', axis=1, inplace=True)"
   ]
  },
  {
   "cell_type": "code",
   "execution_count": 9,
   "id": "709fb5e1-bb54-4ad0-980f-12e2b35750a4",
   "metadata": {},
   "outputs": [],
   "source": [
    "X_train, X_test, y_train, y_test = train_test_split(\n",
    "    df_features, \n",
    "    df_target, \n",
    "    random_state=13, \n",
    "    test_size=0.1\n",
    ")"
   ]
  },
  {
   "cell_type": "markdown",
   "id": "2a84dcb4-0bd2-4f87-90c0-26254bcb0568",
   "metadata": {},
   "source": [
    "## **Modelo**"
   ]
  },
  {
   "cell_type": "code",
   "execution_count": 10,
   "id": "a02039a9-400c-401f-b2c0-b9de5d84c37d",
   "metadata": {},
   "outputs": [],
   "source": [
    "model = RandomForestClassifier(random_state=13)"
   ]
  },
  {
   "cell_type": "code",
   "execution_count": 24,
   "id": "b6bd703b-f9ac-4c96-8428-5929d8824995",
   "metadata": {},
   "outputs": [
    {
     "data": {
      "text/html": [
       "<style>#sk-container-id-2 {color: black;background-color: white;}#sk-container-id-2 pre{padding: 0;}#sk-container-id-2 div.sk-toggleable {background-color: white;}#sk-container-id-2 label.sk-toggleable__label {cursor: pointer;display: block;width: 100%;margin-bottom: 0;padding: 0.3em;box-sizing: border-box;text-align: center;}#sk-container-id-2 label.sk-toggleable__label-arrow:before {content: \"▸\";float: left;margin-right: 0.25em;color: #696969;}#sk-container-id-2 label.sk-toggleable__label-arrow:hover:before {color: black;}#sk-container-id-2 div.sk-estimator:hover label.sk-toggleable__label-arrow:before {color: black;}#sk-container-id-2 div.sk-toggleable__content {max-height: 0;max-width: 0;overflow: hidden;text-align: left;background-color: #f0f8ff;}#sk-container-id-2 div.sk-toggleable__content pre {margin: 0.2em;color: black;border-radius: 0.25em;background-color: #f0f8ff;}#sk-container-id-2 input.sk-toggleable__control:checked~div.sk-toggleable__content {max-height: 200px;max-width: 100%;overflow: auto;}#sk-container-id-2 input.sk-toggleable__control:checked~label.sk-toggleable__label-arrow:before {content: \"▾\";}#sk-container-id-2 div.sk-estimator input.sk-toggleable__control:checked~label.sk-toggleable__label {background-color: #d4ebff;}#sk-container-id-2 div.sk-label input.sk-toggleable__control:checked~label.sk-toggleable__label {background-color: #d4ebff;}#sk-container-id-2 input.sk-hidden--visually {border: 0;clip: rect(1px 1px 1px 1px);clip: rect(1px, 1px, 1px, 1px);height: 1px;margin: -1px;overflow: hidden;padding: 0;position: absolute;width: 1px;}#sk-container-id-2 div.sk-estimator {font-family: monospace;background-color: #f0f8ff;border: 1px dotted black;border-radius: 0.25em;box-sizing: border-box;margin-bottom: 0.5em;}#sk-container-id-2 div.sk-estimator:hover {background-color: #d4ebff;}#sk-container-id-2 div.sk-parallel-item::after {content: \"\";width: 100%;border-bottom: 1px solid gray;flex-grow: 1;}#sk-container-id-2 div.sk-label:hover label.sk-toggleable__label {background-color: #d4ebff;}#sk-container-id-2 div.sk-serial::before {content: \"\";position: absolute;border-left: 1px solid gray;box-sizing: border-box;top: 0;bottom: 0;left: 50%;z-index: 0;}#sk-container-id-2 div.sk-serial {display: flex;flex-direction: column;align-items: center;background-color: white;padding-right: 0.2em;padding-left: 0.2em;position: relative;}#sk-container-id-2 div.sk-item {position: relative;z-index: 1;}#sk-container-id-2 div.sk-parallel {display: flex;align-items: stretch;justify-content: center;background-color: white;position: relative;}#sk-container-id-2 div.sk-item::before, #sk-container-id-2 div.sk-parallel-item::before {content: \"\";position: absolute;border-left: 1px solid gray;box-sizing: border-box;top: 0;bottom: 0;left: 50%;z-index: -1;}#sk-container-id-2 div.sk-parallel-item {display: flex;flex-direction: column;z-index: 1;position: relative;background-color: white;}#sk-container-id-2 div.sk-parallel-item:first-child::after {align-self: flex-end;width: 50%;}#sk-container-id-2 div.sk-parallel-item:last-child::after {align-self: flex-start;width: 50%;}#sk-container-id-2 div.sk-parallel-item:only-child::after {width: 0;}#sk-container-id-2 div.sk-dashed-wrapped {border: 1px dashed gray;margin: 0 0.4em 0.5em 0.4em;box-sizing: border-box;padding-bottom: 0.4em;background-color: white;}#sk-container-id-2 div.sk-label label {font-family: monospace;font-weight: bold;display: inline-block;line-height: 1.2em;}#sk-container-id-2 div.sk-label-container {text-align: center;}#sk-container-id-2 div.sk-container {/* jupyter's `normalize.less` sets `[hidden] { display: none; }` but bootstrap.min.css set `[hidden] { display: none !important; }` so we also need the `!important` here to be able to override the default hidden behavior on the sphinx rendered scikit-learn.org. See: https://github.com/scikit-learn/scikit-learn/issues/21755 */display: inline-block !important;position: relative;}#sk-container-id-2 div.sk-text-repr-fallback {display: none;}</style><div id=\"sk-container-id-2\" class=\"sk-top-container\"><div class=\"sk-text-repr-fallback\"><pre>RandomForestClassifier(random_state=13)</pre><b>In a Jupyter environment, please rerun this cell to show the HTML representation or trust the notebook. <br />On GitHub, the HTML representation is unable to render, please try loading this page with nbviewer.org.</b></div><div class=\"sk-container\" hidden><div class=\"sk-item\"><div class=\"sk-estimator sk-toggleable\"><input class=\"sk-toggleable__control sk-hidden--visually\" id=\"sk-estimator-id-2\" type=\"checkbox\" checked><label for=\"sk-estimator-id-2\" class=\"sk-toggleable__label sk-toggleable__label-arrow\">RandomForestClassifier</label><div class=\"sk-toggleable__content\"><pre>RandomForestClassifier(random_state=13)</pre></div></div></div></div></div>"
      ],
      "text/plain": [
       "RandomForestClassifier(random_state=13)"
      ]
     },
     "execution_count": 24,
     "metadata": {},
     "output_type": "execute_result"
    }
   ],
   "source": [
    "model.fit(X_train, y_train)"
   ]
  },
  {
   "cell_type": "code",
   "execution_count": 11,
   "id": "bd1b70cb-befc-43b9-832a-240972aaecd0",
   "metadata": {},
   "outputs": [],
   "source": [
    "accuracy = cross_val_score(model, X_train, y_train, scoring='accuracy', cv=10)"
   ]
  },
  {
   "cell_type": "code",
   "execution_count": 12,
   "id": "3d428371-84ee-4a4a-95bc-0a216c86b9ad",
   "metadata": {},
   "outputs": [
    {
     "name": "stdout",
     "output_type": "stream",
     "text": [
      "La precisión promedio del modelo es de 97.09%\n"
     ]
    }
   ],
   "source": [
    "print(f'La precisión promedio del modelo es de {round(accuracy.mean() * 100, 2)}%')"
   ]
  },
  {
   "cell_type": "code",
   "execution_count": 13,
   "id": "50c03179-88f1-4a43-bc4d-1ffa87c573a6",
   "metadata": {},
   "outputs": [
    {
     "ename": "NotFittedError",
     "evalue": "This RandomForestClassifier instance is not fitted yet. Call 'fit' with appropriate arguments before using this estimator.",
     "output_type": "error",
     "traceback": [
      "\u001b[1;31m---------------------------------------------------------------------------\u001b[0m",
      "\u001b[1;31mNotFittedError\u001b[0m                            Traceback (most recent call last)",
      "Cell \u001b[1;32mIn[13], line 1\u001b[0m\n\u001b[1;32m----> 1\u001b[0m y_pred \u001b[38;5;241m=\u001b[39m \u001b[43mmodel\u001b[49m\u001b[38;5;241;43m.\u001b[39;49m\u001b[43mpredict\u001b[49m\u001b[43m(\u001b[49m\u001b[43mX_test\u001b[49m\u001b[43m)\u001b[49m\n",
      "File \u001b[1;32m~\\anaconda3\\lib\\site-packages\\sklearn\\ensemble\\_forest.py:820\u001b[0m, in \u001b[0;36mForestClassifier.predict\u001b[1;34m(self, X)\u001b[0m\n\u001b[0;32m    799\u001b[0m \u001b[38;5;28;01mdef\u001b[39;00m \u001b[38;5;21mpredict\u001b[39m(\u001b[38;5;28mself\u001b[39m, X):\n\u001b[0;32m    800\u001b[0m     \u001b[38;5;124;03m\"\"\"\u001b[39;00m\n\u001b[0;32m    801\u001b[0m \u001b[38;5;124;03m    Predict class for X.\u001b[39;00m\n\u001b[0;32m    802\u001b[0m \n\u001b[1;32m   (...)\u001b[0m\n\u001b[0;32m    818\u001b[0m \u001b[38;5;124;03m        The predicted classes.\u001b[39;00m\n\u001b[0;32m    819\u001b[0m \u001b[38;5;124;03m    \"\"\"\u001b[39;00m\n\u001b[1;32m--> 820\u001b[0m     proba \u001b[38;5;241m=\u001b[39m \u001b[38;5;28;43mself\u001b[39;49m\u001b[38;5;241;43m.\u001b[39;49m\u001b[43mpredict_proba\u001b[49m\u001b[43m(\u001b[49m\u001b[43mX\u001b[49m\u001b[43m)\u001b[49m\n\u001b[0;32m    822\u001b[0m     \u001b[38;5;28;01mif\u001b[39;00m \u001b[38;5;28mself\u001b[39m\u001b[38;5;241m.\u001b[39mn_outputs_ \u001b[38;5;241m==\u001b[39m \u001b[38;5;241m1\u001b[39m:\n\u001b[0;32m    823\u001b[0m         \u001b[38;5;28;01mreturn\u001b[39;00m \u001b[38;5;28mself\u001b[39m\u001b[38;5;241m.\u001b[39mclasses_\u001b[38;5;241m.\u001b[39mtake(np\u001b[38;5;241m.\u001b[39margmax(proba, axis\u001b[38;5;241m=\u001b[39m\u001b[38;5;241m1\u001b[39m), axis\u001b[38;5;241m=\u001b[39m\u001b[38;5;241m0\u001b[39m)\n",
      "File \u001b[1;32m~\\anaconda3\\lib\\site-packages\\sklearn\\ensemble\\_forest.py:860\u001b[0m, in \u001b[0;36mForestClassifier.predict_proba\u001b[1;34m(self, X)\u001b[0m\n\u001b[0;32m    838\u001b[0m \u001b[38;5;28;01mdef\u001b[39;00m \u001b[38;5;21mpredict_proba\u001b[39m(\u001b[38;5;28mself\u001b[39m, X):\n\u001b[0;32m    839\u001b[0m     \u001b[38;5;124;03m\"\"\"\u001b[39;00m\n\u001b[0;32m    840\u001b[0m \u001b[38;5;124;03m    Predict class probabilities for X.\u001b[39;00m\n\u001b[0;32m    841\u001b[0m \n\u001b[1;32m   (...)\u001b[0m\n\u001b[0;32m    858\u001b[0m \u001b[38;5;124;03m        classes corresponds to that in the attribute :term:`classes_`.\u001b[39;00m\n\u001b[0;32m    859\u001b[0m \u001b[38;5;124;03m    \"\"\"\u001b[39;00m\n\u001b[1;32m--> 860\u001b[0m     \u001b[43mcheck_is_fitted\u001b[49m\u001b[43m(\u001b[49m\u001b[38;5;28;43mself\u001b[39;49m\u001b[43m)\u001b[49m\n\u001b[0;32m    861\u001b[0m     \u001b[38;5;66;03m# Check data\u001b[39;00m\n\u001b[0;32m    862\u001b[0m     X \u001b[38;5;241m=\u001b[39m \u001b[38;5;28mself\u001b[39m\u001b[38;5;241m.\u001b[39m_validate_X_predict(X)\n",
      "File \u001b[1;32m~\\anaconda3\\lib\\site-packages\\sklearn\\utils\\validation.py:1390\u001b[0m, in \u001b[0;36mcheck_is_fitted\u001b[1;34m(estimator, attributes, msg, all_or_any)\u001b[0m\n\u001b[0;32m   1385\u001b[0m     fitted \u001b[38;5;241m=\u001b[39m [\n\u001b[0;32m   1386\u001b[0m         v \u001b[38;5;28;01mfor\u001b[39;00m v \u001b[38;5;129;01min\u001b[39;00m \u001b[38;5;28mvars\u001b[39m(estimator) \u001b[38;5;28;01mif\u001b[39;00m v\u001b[38;5;241m.\u001b[39mendswith(\u001b[38;5;124m\"\u001b[39m\u001b[38;5;124m_\u001b[39m\u001b[38;5;124m\"\u001b[39m) \u001b[38;5;129;01mand\u001b[39;00m \u001b[38;5;129;01mnot\u001b[39;00m v\u001b[38;5;241m.\u001b[39mstartswith(\u001b[38;5;124m\"\u001b[39m\u001b[38;5;124m__\u001b[39m\u001b[38;5;124m\"\u001b[39m)\n\u001b[0;32m   1387\u001b[0m     ]\n\u001b[0;32m   1389\u001b[0m \u001b[38;5;28;01mif\u001b[39;00m \u001b[38;5;129;01mnot\u001b[39;00m fitted:\n\u001b[1;32m-> 1390\u001b[0m     \u001b[38;5;28;01mraise\u001b[39;00m NotFittedError(msg \u001b[38;5;241m%\u001b[39m {\u001b[38;5;124m\"\u001b[39m\u001b[38;5;124mname\u001b[39m\u001b[38;5;124m\"\u001b[39m: \u001b[38;5;28mtype\u001b[39m(estimator)\u001b[38;5;241m.\u001b[39m\u001b[38;5;18m__name__\u001b[39m})\n",
      "\u001b[1;31mNotFittedError\u001b[0m: This RandomForestClassifier instance is not fitted yet. Call 'fit' with appropriate arguments before using this estimator."
     ]
    }
   ],
   "source": [
    "y_pred = model.predict(X_test)"
   ]
  },
  {
   "cell_type": "code",
   "execution_count": 28,
   "id": "24a7be06-d0de-4b61-bc45-052e0b9b6e95",
   "metadata": {},
   "outputs": [
    {
     "data": {
      "image/png": "[encoded data removed]",
      "text/plain": [
       "<Figure size 640x480 with 2 Axes>"
      ]
     },
     "metadata": {},
     "output_type": "display_data"
    }
   ],
   "source": [
    "sns.heatmap(confusion_matrix(y_pred, y_test)/len(y_pred)*100, annot=True)\n",
    "\n",
    "plt.show()"
   ]
  },
  {
   "cell_type": "code",
   "execution_count": 31,
   "id": "03fe0eea-6f5c-410b-a713-37d3fc118ae2",
   "metadata": {},
   "outputs": [
    {
     "name": "stdout",
     "output_type": "stream",
     "text": [
      "              precision    recall  f1-score   support\n",
      "\n",
      "           0       1.00      1.00      1.00         4\n",
      "           1       1.00      0.80      0.89         5\n",
      "           2       0.86      1.00      0.92         6\n",
      "\n",
      "    accuracy                           0.93        15\n",
      "   macro avg       0.95      0.93      0.94        15\n",
      "weighted avg       0.94      0.93      0.93        15\n",
      "\n"
     ]
    }
   ],
   "source": [
    "print(classification_report(y_pred, y_test))"
   ]
  },
  {
   "cell_type": "code",
   "execution_count": null,
   "id": "b66d92e3-f2fd-4a22-8177-447b7240f173",
   "metadata": {},
   "outputs": [],
   "source": []
  },
  {
   "cell_type": "code",
   "execution_count": null,
   "id": "90656a7b-7f79-4530-8703-9707d06a0af3",
   "metadata": {},
   "outputs": [],
   "source": []
  },
  {
   "cell_type": "markdown",
   "id": "9494a73e-e2b9-4ce8-ad5a-41816253c08d",
   "metadata": {},
   "source": [
    "## **Librerías**"
   ]
  },
  {
   "cell_type": "code",
   "execution_count": 146,
   "id": "0b4a5edc-d1a0-4016-ae8f-e2d2003d397a",
   "metadata": {},
   "outputs": [],
   "source": [
    "import pandas as pd\n",
    "import numpy as np\n",
    "import matplotlib.pyplot as plt"
   ]
  },
  {
   "cell_type": "code",
   "execution_count": 130,
   "id": "f2784b6b",
   "metadata": {},
   "outputs": [],
   "source": [
    "from matplotlib.patches import Patch"
   ]
  },
  {
   "cell_type": "code",
   "execution_count": 131,
   "id": "7cc75cd8",
   "metadata": {},
   "outputs": [],
   "source": [
    "cmap_data = plt.cm.Paired\n",
    "cmap_cv = plt.cm.coolwarm"
   ]
  },
  {
   "cell_type": "code",
   "execution_count": 73,
   "id": "1773cc20-25e9-446e-900a-498addc52170",
   "metadata": {},
   "outputs": [],
   "source": [
    "import lightgbm as lgbm"
   ]
  },
  {
   "cell_type": "code",
   "execution_count": 118,
   "id": "3a04a4e9-0062-4315-be8d-25f39ecb4240",
   "metadata": {},
   "outputs": [],
   "source": [
    "from sklearn.model_selection import (\n",
    "    train_test_split, \n",
    "    TimeSeriesSplit, \n",
    "    KFold, \n",
    "    StratifiedKFold, \n",
    "    GroupKFold, \n",
    "    StratifiedGroupKFold\n",
    ") \n",
    "\n",
    "from sklearn.metrics import (\n",
    "    accuracy_score, \n",
    "    roc_auc_score, \n",
    "    classification_report,\n",
    "    confusion_matrix\n",
    ")\n"
   ]
  },
  {
   "cell_type": "code",
   "execution_count": 144,
   "id": "f27e8108",
   "metadata": {},
   "outputs": [],
   "source": [
    "import utils.functions as utils"
   ]
  },
  {
   "cell_type": "markdown",
   "id": "b148b149-1bd2-467f-8530-3618cddcf35d",
   "metadata": {},
   "source": [
    "## **Datos**"
   ]
  },
  {
   "cell_type": "code",
   "execution_count": 8,
   "id": "f02c8c94-596a-4d49-bd20-e69b64c27863",
   "metadata": {},
   "outputs": [],
   "source": [
    "df = pd.read_csv('./Datos/healthcare-dataset-stroke-data.csv')"
   ]
  },
  {
   "cell_type": "code",
   "execution_count": 10,
   "id": "cca1c96f",
   "metadata": {},
   "outputs": [
    {
     "data": {
      "text/html": [
       "<div>\n",
       "<style scoped>\n",
       "    .dataframe tbody tr th:only-of-type {\n",
       "        vertical-align: middle;\n",
       "    }\n",
       "\n",
       "    .dataframe tbody tr th {\n",
       "        vertical-align: top;\n",
       "    }\n",
       "\n",
       "    .dataframe thead th {\n",
       "        text-align: right;\n",
       "    }\n",
       "</style>\n",
       "<table border=\"1\" class=\"dataframe\">\n",
       "  <thead>\n",
       "    <tr style=\"text-align: right;\">\n",
       "      <th></th>\n",
       "      <th>id</th>\n",
       "      <th>gender</th>\n",
       "      <th>age</th>\n",
       "      <th>hypertension</th>\n",
       "      <th>heart_disease</th>\n",
       "      <th>ever_married</th>\n",
       "      <th>work_type</th>\n",
       "      <th>Residence_type</th>\n",
       "      <th>avg_glucose_level</th>\n",
       "      <th>bmi</th>\n",
       "      <th>smoking_status</th>\n",
       "      <th>stroke</th>\n",
       "    </tr>\n",
       "  </thead>\n",
       "  <tbody>\n",
       "    <tr>\n",
       "      <th>1550</th>\n",
       "      <td>25935</td>\n",
       "      <td>Female</td>\n",
       "      <td>50.0</td>\n",
       "      <td>0</td>\n",
       "      <td>0</td>\n",
       "      <td>No</td>\n",
       "      <td>Self-employed</td>\n",
       "      <td>Urban</td>\n",
       "      <td>77.67</td>\n",
       "      <td>34.5</td>\n",
       "      <td>Unknown</td>\n",
       "      <td>0</td>\n",
       "    </tr>\n",
       "  </tbody>\n",
       "</table>\n",
       "</div>"
      ],
      "text/plain": [
       "         id  gender   age  hypertension  heart_disease ever_married  \\\n",
       "1550  25935  Female  50.0             0              0           No   \n",
       "\n",
       "          work_type Residence_type  avg_glucose_level   bmi smoking_status  \\\n",
       "1550  Self-employed          Urban              77.67  34.5        Unknown   \n",
       "\n",
       "      stroke  \n",
       "1550       0  "
      ]
     },
     "execution_count": 10,
     "metadata": {},
     "output_type": "execute_result"
    }
   ],
   "source": [
    "df.sample()"
   ]
  },
  {
   "cell_type": "markdown",
   "id": "04cd6d25",
   "metadata": {},
   "source": [
    "### **Limpieza de datos**"
   ]
  },
  {
   "cell_type": "code",
   "execution_count": 17,
   "id": "4b2a6863",
   "metadata": {},
   "outputs": [],
   "source": [
    "# Volvemos booleana la variable ever_married\n",
    "df['ever_married'].replace({\n",
    "    'Yes': True,\n",
    "    'No': False\n",
    "    }, inplace=True) "
   ]
  },
  {
   "cell_type": "code",
   "execution_count": 24,
   "id": "0c8aaea0",
   "metadata": {},
   "outputs": [],
   "source": [
    "# Ajustamos el formato de nuestras variables categoricas\n",
    "df['gender'] = df['gender'].astype('category')\n",
    "df['smoking_status'] = df['smoking_status'].astype('category')\n",
    "df['Residence_type'] = df['Residence_type'].astype('category')\n",
    "df['work_type'] = df['work_type'].astype('category')"
   ]
  },
  {
   "cell_type": "code",
   "execution_count": 25,
   "id": "8cd45e97",
   "metadata": {},
   "outputs": [],
   "source": [
    "# Creamos una variable aleatoria doctor\n",
    "df['doctor'] = np.random.randint(0, 8, size=len(df))"
   ]
  },
  {
   "cell_type": "code",
   "execution_count": 34,
   "id": "b06e881a",
   "metadata": {},
   "outputs": [],
   "source": [
    "# Escogemos aleatoriamente 500 ids que quedaran fuera de nuestro dataset de entrenamiento\n",
    "holdout_ids = df.sample(n=500, random_state=529).index"
   ]
  },
  {
   "cell_type": "code",
   "execution_count": 52,
   "id": "3a7bb324",
   "metadata": {},
   "outputs": [],
   "source": [
    "# Preparamos nuestra dataset de entrenamiento\n",
    "df_train = df.loc[\n",
    "        ~df.index.isin(holdout_ids)\n",
    "    ].sample(\n",
    "        frac=1, \n",
    "        random_state=529\n",
    "        ).sort_values(\n",
    "            'doctor'\n",
    "            ).reset_index(\n",
    "                drop=True\n",
    "                )"
   ]
  },
  {
   "cell_type": "code",
   "execution_count": 54,
   "id": "3d87aa71",
   "metadata": {},
   "outputs": [],
   "source": [
    "# Preparamos nuestro dataset de validación\n",
    "df_holdout = df.loc[\n",
    "        df.index.isin(holdout_ids)\n",
    "    ].sample(\n",
    "        frac=1, \n",
    "        random_state=529\n",
    "        ).sort_values(\n",
    "            'doctor'\n",
    "            ).reset_index(\n",
    "                drop=True\n",
    "                )"
   ]
  },
  {
   "cell_type": "markdown",
   "id": "08fbfe4a",
   "metadata": {},
   "source": [
    "### **Datos para el modelo**"
   ]
  },
  {
   "cell_type": "code",
   "execution_count": 95,
   "id": "9598caa1",
   "metadata": {},
   "outputs": [],
   "source": [
    "features = [\n",
    "    'gender',\n",
    "    'age',\n",
    "    'hypertension', \n",
    "    'heart_disease', \n",
    "    'ever_married',\n",
    "    'work_type', \n",
    "    'Residence_type', \n",
    "    'avg_glucose_level', \n",
    "    'bmi',\n",
    "    'smoking_status', \n",
    "]\n",
    "\n",
    "group = 'doctor'\n",
    "target = 'stroke'"
   ]
  },
  {
   "cell_type": "code",
   "execution_count": 96,
   "id": "cf76ab51",
   "metadata": {},
   "outputs": [],
   "source": [
    "X = df_train[features]\n",
    "y = df_train[target]\n",
    "groups = df_train[group]"
   ]
  },
  {
   "cell_type": "markdown",
   "id": "3a6e5446",
   "metadata": {},
   "source": [
    "## **Modelo**"
   ]
  },
  {
   "cell_type": "code",
   "execution_count": 97,
   "id": "eb7757c5",
   "metadata": {},
   "outputs": [],
   "source": [
    "clf = lgbm.LGBMClassifier(n_estimators=100)"
   ]
  },
  {
   "cell_type": "code",
   "execution_count": 98,
   "id": "2000b2f5",
   "metadata": {},
   "outputs": [
    {
     "name": "stdout",
     "output_type": "stream",
     "text": [
      "[LightGBM] [Info] Number of positive: 223, number of negative: 4387\n",
      "[LightGBM] [Warning] Auto-choosing row-wise multi-threading, the overhead of testing was 0.001130 seconds.\n",
      "You can set `force_row_wise=true` to remove the overhead.\n",
      "And if memory is not enough, you can set `force_col_wise=true`.\n",
      "[LightGBM] [Info] Total Bins 635\n",
      "[LightGBM] [Info] Number of data points in the train set: 4610, number of used features: 10\n",
      "[LightGBM] [Info] [binary:BoostFromScore]: pavg=0.048373 -> initscore=-2.979229\n",
      "[LightGBM] [Info] Start training from score -2.979229\n"
     ]
    },
    {
     "data": {
      "text/html": [
       "<style>#sk-container-id-2 {color: black;background-color: white;}#sk-container-id-2 pre{padding: 0;}#sk-container-id-2 div.sk-toggleable {background-color: white;}#sk-container-id-2 label.sk-toggleable__label {cursor: pointer;display: block;width: 100%;margin-bottom: 0;padding: 0.3em;box-sizing: border-box;text-align: center;}#sk-container-id-2 label.sk-toggleable__label-arrow:before {content: \"▸\";float: left;margin-right: 0.25em;color: #696969;}#sk-container-id-2 label.sk-toggleable__label-arrow:hover:before {color: black;}#sk-container-id-2 div.sk-estimator:hover label.sk-toggleable__label-arrow:before {color: black;}#sk-container-id-2 div.sk-toggleable__content {max-height: 0;max-width: 0;overflow: hidden;text-align: left;background-color: #f0f8ff;}#sk-container-id-2 div.sk-toggleable__content pre {margin: 0.2em;color: black;border-radius: 0.25em;background-color: #f0f8ff;}#sk-container-id-2 input.sk-toggleable__control:checked~div.sk-toggleable__content {max-height: 200px;max-width: 100%;overflow: auto;}#sk-container-id-2 input.sk-toggleable__control:checked~label.sk-toggleable__label-arrow:before {content: \"▾\";}#sk-container-id-2 div.sk-estimator input.sk-toggleable__control:checked~label.sk-toggleable__label {background-color: #d4ebff;}#sk-container-id-2 div.sk-label input.sk-toggleable__control:checked~label.sk-toggleable__label {background-color: #d4ebff;}#sk-container-id-2 input.sk-hidden--visually {border: 0;clip: rect(1px 1px 1px 1px);clip: rect(1px, 1px, 1px, 1px);height: 1px;margin: -1px;overflow: hidden;padding: 0;position: absolute;width: 1px;}#sk-container-id-2 div.sk-estimator {font-family: monospace;background-color: #f0f8ff;border: 1px dotted black;border-radius: 0.25em;box-sizing: border-box;margin-bottom: 0.5em;}#sk-container-id-2 div.sk-estimator:hover {background-color: #d4ebff;}#sk-container-id-2 div.sk-parallel-item::after {content: \"\";width: 100%;border-bottom: 1px solid gray;flex-grow: 1;}#sk-container-id-2 div.sk-label:hover label.sk-toggleable__label {background-color: #d4ebff;}#sk-container-id-2 div.sk-serial::before {content: \"\";position: absolute;border-left: 1px solid gray;box-sizing: border-box;top: 0;bottom: 0;left: 50%;z-index: 0;}#sk-container-id-2 div.sk-serial {display: flex;flex-direction: column;align-items: center;background-color: white;padding-right: 0.2em;padding-left: 0.2em;position: relative;}#sk-container-id-2 div.sk-item {position: relative;z-index: 1;}#sk-container-id-2 div.sk-parallel {display: flex;align-items: stretch;justify-content: center;background-color: white;position: relative;}#sk-container-id-2 div.sk-item::before, #sk-container-id-2 div.sk-parallel-item::before {content: \"\";position: absolute;border-left: 1px solid gray;box-sizing: border-box;top: 0;bottom: 0;left: 50%;z-index: -1;}#sk-container-id-2 div.sk-parallel-item {display: flex;flex-direction: column;z-index: 1;position: relative;background-color: white;}#sk-container-id-2 div.sk-parallel-item:first-child::after {align-self: flex-end;width: 50%;}#sk-container-id-2 div.sk-parallel-item:last-child::after {align-self: flex-start;width: 50%;}#sk-container-id-2 div.sk-parallel-item:only-child::after {width: 0;}#sk-container-id-2 div.sk-dashed-wrapped {border: 1px dashed gray;margin: 0 0.4em 0.5em 0.4em;box-sizing: border-box;padding-bottom: 0.4em;background-color: white;}#sk-container-id-2 div.sk-label label {font-family: monospace;font-weight: bold;display: inline-block;line-height: 1.2em;}#sk-container-id-2 div.sk-label-container {text-align: center;}#sk-container-id-2 div.sk-container {/* jupyter's `normalize.less` sets `[hidden] { display: none; }` but bootstrap.min.css set `[hidden] { display: none !important; }` so we also need the `!important` here to be able to override the default hidden behavior on the sphinx rendered scikit-learn.org. See: https://github.com/scikit-learn/scikit-learn/issues/21755 */display: inline-block !important;position: relative;}#sk-container-id-2 div.sk-text-repr-fallback {display: none;}</style><div id=\"sk-container-id-2\" class=\"sk-top-container\"><div class=\"sk-text-repr-fallback\"><pre>LGBMClassifier()</pre><b>In a Jupyter environment, please rerun this cell to show the HTML representation or trust the notebook. <br />On GitHub, the HTML representation is unable to render, please try loading this page with nbviewer.org.</b></div><div class=\"sk-container\" hidden><div class=\"sk-item\"><div class=\"sk-estimator sk-toggleable\"><input class=\"sk-toggleable__control sk-hidden--visually\" id=\"sk-estimator-id-2\" type=\"checkbox\" checked><label for=\"sk-estimator-id-2\" class=\"sk-toggleable__label sk-toggleable__label-arrow\">LGBMClassifier</label><div class=\"sk-toggleable__content\"><pre>LGBMClassifier()</pre></div></div></div></div></div>"
      ],
      "text/plain": [
       "LGBMClassifier()"
      ]
     },
     "execution_count": 98,
     "metadata": {},
     "output_type": "execute_result"
    }
   ],
   "source": [
    "clf.fit(X, y)"
   ]
  },
  {
   "cell_type": "code",
   "execution_count": 99,
   "id": "f1e3f656",
   "metadata": {},
   "outputs": [],
   "source": [
    "y_pred = clf.predict(X)\n",
    "y_pred_proba = clf.predict_proba(X)[:, 1]"
   ]
  },
  {
   "cell_type": "code",
   "execution_count": 100,
   "id": "2c6b2232",
   "metadata": {},
   "outputs": [
    {
     "data": {
      "text/plain": [
       "array([3.16678711e-02, 9.72631927e-04, 2.22963744e-05, ...,\n",
       "       1.08076843e-02, 4.91105774e-03, 1.85916815e-01])"
      ]
     },
     "execution_count": 100,
     "metadata": {},
     "output_type": "execute_result"
    }
   ],
   "source": [
    "y_pred_proba"
   ]
  },
  {
   "cell_type": "code",
   "execution_count": 101,
   "id": "50d63be7",
   "metadata": {},
   "outputs": [
    {
     "data": {
      "text/plain": [
       "0.9911062906724512"
      ]
     },
     "execution_count": 101,
     "metadata": {},
     "output_type": "execute_result"
    }
   ],
   "source": [
    "acc_score = accuracy_score(y, y_pred)\n",
    "acc_score"
   ]
  },
  {
   "cell_type": "code",
   "execution_count": 102,
   "id": "34cdbbca",
   "metadata": {},
   "outputs": [
    {
     "data": {
      "text/plain": [
       "0.9997403662063107"
      ]
     },
     "execution_count": 102,
     "metadata": {},
     "output_type": "execute_result"
    }
   ],
   "source": [
    "roc_score = roc_auc_score(y, y_pred_proba)\n",
    "roc_score"
   ]
  },
  {
   "cell_type": "markdown",
   "id": "b586c45f",
   "metadata": {},
   "source": [
    "### **Validación**"
   ]
  },
  {
   "cell_type": "code",
   "execution_count": 103,
   "id": "a8f519a8",
   "metadata": {},
   "outputs": [],
   "source": [
    "X_val = df_holdout[features]\n",
    "y_val = df_holdout[target]\n",
    "groups_val = df_holdout[group]"
   ]
  },
  {
   "cell_type": "code",
   "execution_count": 107,
   "id": "17557ccf",
   "metadata": {},
   "outputs": [],
   "source": [
    "y_pred_val = clf.predict(X_val)\n",
    "y_pred_proba_val = clf.predict_proba(X_val)[:, 1]"
   ]
  },
  {
   "cell_type": "code",
   "execution_count": 110,
   "id": "cb38291b",
   "metadata": {},
   "outputs": [
    {
     "data": {
      "text/plain": [
       "0.938"
      ]
     },
     "execution_count": 110,
     "metadata": {},
     "output_type": "execute_result"
    }
   ],
   "source": [
    "acc_score = accuracy_score(y_val, y_pred_val)\n",
    "acc_score"
   ]
  },
  {
   "cell_type": "code",
   "execution_count": 112,
   "id": "8f739fff",
   "metadata": {},
   "outputs": [
    {
     "data": {
      "text/plain": [
       "0.7801850048685491"
      ]
     },
     "execution_count": 112,
     "metadata": {},
     "output_type": "execute_result"
    }
   ],
   "source": [
    "roc_score = roc_auc_score(y_val, y_pred_proba_val)\n",
    "roc_score"
   ]
  },
  {
   "cell_type": "code",
   "execution_count": 116,
   "id": "3956c81d",
   "metadata": {},
   "outputs": [
    {
     "name": "stdout",
     "output_type": "stream",
     "text": [
      "              precision    recall  f1-score   support\n",
      "\n",
      "           0       0.95      0.99      0.97       474\n",
      "           1       0.00      0.00      0.00        26\n",
      "\n",
      "    accuracy                           0.94       500\n",
      "   macro avg       0.47      0.49      0.48       500\n",
      "weighted avg       0.90      0.94      0.92       500\n",
      "\n"
     ]
    }
   ],
   "source": [
    "print(classification_report(y_val, y_pred_val))"
   ]
  },
  {
   "cell_type": "markdown",
   "id": "f552043b",
   "metadata": {},
   "source": [
    "### **Train_test_split**"
   ]
  },
  {
   "cell_type": "code",
   "execution_count": 122,
   "id": "c694db59",
   "metadata": {},
   "outputs": [],
   "source": [
    "X_train, X_test, y_train, y_test = train_test_split(X, y, random_state=13, test_size=0.1)"
   ]
  },
  {
   "cell_type": "code",
   "execution_count": 123,
   "id": "1e3a6575",
   "metadata": {},
   "outputs": [],
   "source": [
    "clf = lgbm.LGBMClassifier(n_estimators=100)"
   ]
  },
  {
   "cell_type": "code",
   "execution_count": 124,
   "id": "bd0058b1",
   "metadata": {},
   "outputs": [
    {
     "name": "stdout",
     "output_type": "stream",
     "text": [
      "[LightGBM] [Info] Number of positive: 201, number of negative: 3948\n",
      "[LightGBM] [Warning] Auto-choosing row-wise multi-threading, the overhead of testing was 0.011027 seconds.\n",
      "You can set `force_row_wise=true` to remove the overhead.\n",
      "And if memory is not enough, you can set `force_col_wise=true`.\n",
      "[LightGBM] [Info] Total Bins 634\n",
      "[LightGBM] [Info] Number of data points in the train set: 4149, number of used features: 10\n",
      "[LightGBM] [Info] [binary:BoostFromScore]: pavg=0.048445 -> initscore=-2.977659\n",
      "[LightGBM] [Info] Start training from score -2.977659\n"
     ]
    },
    {
     "data": {
      "text/html": [
       "<style>#sk-container-id-3 {color: black;background-color: white;}#sk-container-id-3 pre{padding: 0;}#sk-container-id-3 div.sk-toggleable {background-color: white;}#sk-container-id-3 label.sk-toggleable__label {cursor: pointer;display: block;width: 100%;margin-bottom: 0;padding: 0.3em;box-sizing: border-box;text-align: center;}#sk-container-id-3 label.sk-toggleable__label-arrow:before {content: \"▸\";float: left;margin-right: 0.25em;color: #696969;}#sk-container-id-3 label.sk-toggleable__label-arrow:hover:before {color: black;}#sk-container-id-3 div.sk-estimator:hover label.sk-toggleable__label-arrow:before {color: black;}#sk-container-id-3 div.sk-toggleable__content {max-height: 0;max-width: 0;overflow: hidden;text-align: left;background-color: #f0f8ff;}#sk-container-id-3 div.sk-toggleable__content pre {margin: 0.2em;color: black;border-radius: 0.25em;background-color: #f0f8ff;}#sk-container-id-3 input.sk-toggleable__control:checked~div.sk-toggleable__content {max-height: 200px;max-width: 100%;overflow: auto;}#sk-container-id-3 input.sk-toggleable__control:checked~label.sk-toggleable__label-arrow:before {content: \"▾\";}#sk-container-id-3 div.sk-estimator input.sk-toggleable__control:checked~label.sk-toggleable__label {background-color: #d4ebff;}#sk-container-id-3 div.sk-label input.sk-toggleable__control:checked~label.sk-toggleable__label {background-color: #d4ebff;}#sk-container-id-3 input.sk-hidden--visually {border: 0;clip: rect(1px 1px 1px 1px);clip: rect(1px, 1px, 1px, 1px);height: 1px;margin: -1px;overflow: hidden;padding: 0;position: absolute;width: 1px;}#sk-container-id-3 div.sk-estimator {font-family: monospace;background-color: #f0f8ff;border: 1px dotted black;border-radius: 0.25em;box-sizing: border-box;margin-bottom: 0.5em;}#sk-container-id-3 div.sk-estimator:hover {background-color: #d4ebff;}#sk-container-id-3 div.sk-parallel-item::after {content: \"\";width: 100%;border-bottom: 1px solid gray;flex-grow: 1;}#sk-container-id-3 div.sk-label:hover label.sk-toggleable__label {background-color: #d4ebff;}#sk-container-id-3 div.sk-serial::before {content: \"\";position: absolute;border-left: 1px solid gray;box-sizing: border-box;top: 0;bottom: 0;left: 50%;z-index: 0;}#sk-container-id-3 div.sk-serial {display: flex;flex-direction: column;align-items: center;background-color: white;padding-right: 0.2em;padding-left: 0.2em;position: relative;}#sk-container-id-3 div.sk-item {position: relative;z-index: 1;}#sk-container-id-3 div.sk-parallel {display: flex;align-items: stretch;justify-content: center;background-color: white;position: relative;}#sk-container-id-3 div.sk-item::before, #sk-container-id-3 div.sk-parallel-item::before {content: \"\";position: absolute;border-left: 1px solid gray;box-sizing: border-box;top: 0;bottom: 0;left: 50%;z-index: -1;}#sk-container-id-3 div.sk-parallel-item {display: flex;flex-direction: column;z-index: 1;position: relative;background-color: white;}#sk-container-id-3 div.sk-parallel-item:first-child::after {align-self: flex-end;width: 50%;}#sk-container-id-3 div.sk-parallel-item:last-child::after {align-self: flex-start;width: 50%;}#sk-container-id-3 div.sk-parallel-item:only-child::after {width: 0;}#sk-container-id-3 div.sk-dashed-wrapped {border: 1px dashed gray;margin: 0 0.4em 0.5em 0.4em;box-sizing: border-box;padding-bottom: 0.4em;background-color: white;}#sk-container-id-3 div.sk-label label {font-family: monospace;font-weight: bold;display: inline-block;line-height: 1.2em;}#sk-container-id-3 div.sk-label-container {text-align: center;}#sk-container-id-3 div.sk-container {/* jupyter's `normalize.less` sets `[hidden] { display: none; }` but bootstrap.min.css set `[hidden] { display: none !important; }` so we also need the `!important` here to be able to override the default hidden behavior on the sphinx rendered scikit-learn.org. See: https://github.com/scikit-learn/scikit-learn/issues/21755 */display: inline-block !important;position: relative;}#sk-container-id-3 div.sk-text-repr-fallback {display: none;}</style><div id=\"sk-container-id-3\" class=\"sk-top-container\"><div class=\"sk-text-repr-fallback\"><pre>LGBMClassifier()</pre><b>In a Jupyter environment, please rerun this cell to show the HTML representation or trust the notebook. <br />On GitHub, the HTML representation is unable to render, please try loading this page with nbviewer.org.</b></div><div class=\"sk-container\" hidden><div class=\"sk-item\"><div class=\"sk-estimator sk-toggleable\"><input class=\"sk-toggleable__control sk-hidden--visually\" id=\"sk-estimator-id-3\" type=\"checkbox\" checked><label for=\"sk-estimator-id-3\" class=\"sk-toggleable__label sk-toggleable__label-arrow\">LGBMClassifier</label><div class=\"sk-toggleable__content\"><pre>LGBMClassifier()</pre></div></div></div></div></div>"
      ],
      "text/plain": [
       "LGBMClassifier()"
      ]
     },
     "execution_count": 124,
     "metadata": {},
     "output_type": "execute_result"
    }
   ],
   "source": [
    "clf.fit(X_train, y_train)"
   ]
  },
  {
   "cell_type": "code",
   "execution_count": 125,
   "id": "2bedd428",
   "metadata": {},
   "outputs": [],
   "source": [
    "y_pred = clf.predict(X_test)\n",
    "y_pred_proba = clf.predict_proba(X_test)[:, 1]"
   ]
  },
  {
   "cell_type": "code",
   "execution_count": 126,
   "id": "b7979fd8",
   "metadata": {},
   "outputs": [
    {
     "data": {
      "text/plain": [
       "0.9522776572668112"
      ]
     },
     "execution_count": 126,
     "metadata": {},
     "output_type": "execute_result"
    }
   ],
   "source": [
    "acc_score = accuracy_score(y_test, y_pred)\n",
    "acc_score"
   ]
  },
  {
   "cell_type": "code",
   "execution_count": 128,
   "id": "2226b23f",
   "metadata": {},
   "outputs": [
    {
     "data": {
      "text/plain": [
       "0.8143507972665149"
      ]
     },
     "execution_count": 128,
     "metadata": {},
     "output_type": "execute_result"
    }
   ],
   "source": [
    "roc_score = roc_auc_score(y_test, y_pred_proba)\n",
    "roc_score"
   ]
  },
  {
   "cell_type": "code",
   "execution_count": 129,
   "id": "233b41cb",
   "metadata": {},
   "outputs": [
    {
     "name": "stdout",
     "output_type": "stream",
     "text": [
      "              precision    recall  f1-score   support\n",
      "\n",
      "           0       0.96      0.99      0.98       439\n",
      "           1       0.50      0.18      0.27        22\n",
      "\n",
      "    accuracy                           0.95       461\n",
      "   macro avg       0.73      0.59      0.62       461\n",
      "weighted avg       0.94      0.95      0.94       461\n",
      "\n"
     ]
    }
   ],
   "source": [
    "print(classification_report(y_test, y_pred))"
   ]
  },
  {
   "cell_type": "markdown",
   "id": "a44da3bd",
   "metadata": {},
   "source": [
    "### **Cross Validation**"
   ]
  },
  {
   "cell_type": "code",
   "execution_count": 147,
   "id": "49bcb899",
   "metadata": {},
   "outputs": [
    {
     "ename": "NameError",
     "evalue": "name 'np' is not defined",
     "output_type": "error",
     "traceback": [
      "\u001b[1;31m---------------------------------------------------------------------------\u001b[0m",
      "\u001b[1;31mNameError\u001b[0m                                 Traceback (most recent call last)",
      "Cell \u001b[1;32mIn[147], line 1\u001b[0m\n\u001b[1;32m----> 1\u001b[0m X_, y_, groups_ \u001b[39m=\u001b[39m utils\u001b[39m.\u001b[39;49mget_fake_X_y()\n",
      "File \u001b[1;32mc:\\Users\\jmart\\Documents\\Proyectos\\Proyectos web\\Data Science\\05. Machine Learning\\Machine Learning\\00.Fundamentos\\utils\\functions.py:95\u001b[0m, in \u001b[0;36mget_fake_X_y\u001b[1;34m()\u001b[0m\n\u001b[0;32m     92\u001b[0m \u001b[39mdef\u001b[39;00m \u001b[39mget_fake_X_y\u001b[39m():\n\u001b[0;32m     93\u001b[0m     \u001b[39m# Fake Generate the class/group data for an example\u001b[39;00m\n\u001b[0;32m     94\u001b[0m     n_points \u001b[39m=\u001b[39m \u001b[39m100\u001b[39m\n\u001b[1;32m---> 95\u001b[0m     X_ \u001b[39m=\u001b[39m np\u001b[39m.\u001b[39mrandom\u001b[39m.\u001b[39mrandn(\u001b[39m100\u001b[39m, \u001b[39m10\u001b[39m)\n\u001b[0;32m     97\u001b[0m     percentiles_classes \u001b[39m=\u001b[39m [\u001b[39m0.1\u001b[39m, \u001b[39m0.9\u001b[39m]\n\u001b[0;32m     98\u001b[0m     y_ \u001b[39m=\u001b[39m np\u001b[39m.\u001b[39mhstack([[ii] \u001b[39m*\u001b[39m \u001b[39mint\u001b[39m(\u001b[39m100\u001b[39m \u001b[39m*\u001b[39m perc) \u001b[39mfor\u001b[39;00m ii, perc \u001b[39min\u001b[39;00m \u001b[39menumerate\u001b[39m(percentiles_classes)])\n",
      "\u001b[1;31mNameError\u001b[0m: name 'np' is not defined"
     ]
    }
   ],
   "source": [
    "X_, y_, groups_ = utils.get_fake_X_y()"
   ]
  },
  {
   "cell_type": "code",
   "execution_count": null,
   "id": "c596899a",
   "metadata": {},
   "outputs": [],
   "source": []
  }
 ],
 "metadata": {
  "kernelspec": {
   "display_name": "Python 3 (ipykernel)",
   "language": "python",
   "name": "python3"
  },
  "language_info": {
   "codemirror_mode": {
    "name": "ipython",
    "version": 3
   },
   "file_extension": ".py",
   "mimetype": "text/x-python",
   "name": "python",
   "nbconvert_exporter": "python",
   "pygments_lexer": "ipython3",
   "version": "3.9.16"
  }
 },
 "nbformat": 4,
 "nbformat_minor": 5
}
