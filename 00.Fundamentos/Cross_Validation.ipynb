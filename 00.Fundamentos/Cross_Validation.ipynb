{
 "cells": [
  {
   "cell_type": "markdown",
   "id": "9494a73e-e2b9-4ce8-ad5a-41816253c08d",
   "metadata": {},
   "source": [
    "## **Librerías**"
   ]
  },
  {
   "cell_type": "code",
   "execution_count": 65,
   "id": "0b4a5edc-d1a0-4016-ae8f-e2d2003d397a",
   "metadata": {},
   "outputs": [],
   "source": [
    "import pandas as pd\n",
    "import numpy as np\n",
    "import matplotlib.pyplot as plt\n",
    "import seaborn as sns"
   ]
  },
  {
   "cell_type": "code",
   "execution_count": 100,
   "id": "3a04a4e9-0062-4315-be8d-25f39ecb4240",
   "metadata": {},
   "outputs": [],
   "source": [
    "from sklearn.model_selection import (\n",
    "    train_test_split, \n",
    "    KFold, \n",
    "    StratifiedKFold, \n",
    "    GroupKFold, \n",
    "    StratifiedGroupKFold,\n",
    "    cross_val_score\n",
    ") \n",
    "\n",
    "from sklearn.ensemble import RandomForestClassifier\n",
    "\n",
    "from sklearn.metrics import (\n",
    "    accuracy_score, \n",
    "    roc_auc_score, \n",
    "    classification_report,\n",
    "    confusion_matrix\n",
    ")"
   ]
  },
  {
   "cell_type": "code",
   "execution_count": null,
   "id": "b33f1add-d135-4f0a-b6ce-6ed92a2ba6a3",
   "metadata": {},
   "outputs": [],
   "source": []
  },
  {
   "cell_type": "code",
   "execution_count": 4,
   "id": "f27e8108",
   "metadata": {},
   "outputs": [],
   "source": [
    "import utils.functions as utils"
   ]
  },
  {
   "cell_type": "markdown",
   "id": "b148b149-1bd2-467f-8530-3618cddcf35d",
   "metadata": {},
   "source": [
    "## **Datos**"
   ]
  },
  {
   "cell_type": "code",
   "execution_count": 30,
   "id": "2e0c907a-c2cd-42d2-826f-db38dcfeea4e",
   "metadata": {},
   "outputs": [],
   "source": [
    "churn = pd.read_csv('./Datos/customer_churn_dataset-train.csv')"
   ]
  },
  {
   "cell_type": "markdown",
   "id": "0a301369-e21b-414d-953c-b43ab326c552",
   "metadata": {},
   "source": [
    "### **Limpieza de datos**"
   ]
  },
  {
   "cell_type": "code",
   "execution_count": 31,
   "id": "963d2572-84e6-4172-a280-b9450a113620",
   "metadata": {},
   "outputs": [],
   "source": [
    "churn = pd.get_dummies(churn, drop_first=True)"
   ]
  },
  {
   "cell_type": "code",
   "execution_count": 37,
   "id": "f2926d54-1af9-470e-a13d-5bad5e0514ca",
   "metadata": {},
   "outputs": [],
   "source": [
    "# Ajustamos los valores booleanos a dummies\n",
    "churn['Gender_Male'].replace({\n",
    "    False: 0,\n",
    "    True: 1\n",
    "}, inplace=True)\n",
    "\n",
    "churn['Subscription Type_Premium'].replace({\n",
    "    False: 0,\n",
    "    True: 1\n",
    "}, inplace=True)\n",
    "\n",
    "churn['Subscription Type_Standard'].replace({\n",
    "    False: 0,\n",
    "    True: 1\n",
    "}, inplace=True)\n",
    "\n",
    "churn['Contract Length_Monthly'].replace({\n",
    "    False: 0,\n",
    "    True: 1\n",
    "}, inplace=True)\n",
    "\n",
    "churn['Contract Length_Quarterly'].replace({\n",
    "    False: 0,\n",
    "    True: 1\n",
    "}, inplace=True)"
   ]
  },
  {
   "cell_type": "markdown",
   "id": "324a6b9b-fb30-4ddd-b3ac-57ca31eaba70",
   "metadata": {},
   "source": [
    "### **Preparamos nuestros datos para el modelo**"
   ]
  },
  {
   "cell_type": "code",
   "execution_count": 55,
   "id": "8bb4020c-c914-45c7-9750-6b6c52850707",
   "metadata": {},
   "outputs": [],
   "source": [
    "churn.drop(199295, inplace=True)"
   ]
  },
  {
   "cell_type": "markdown",
   "id": "00afd483-fc52-441e-b05e-0f34a4117721",
   "metadata": {},
   "source": [
    "### **Limpieza de datos**"
   ]
  },
  {
   "cell_type": "code",
   "execution_count": 57,
   "id": "0361cc00-2d80-4363-968e-bdc14eb5cc8a",
   "metadata": {},
   "outputs": [],
   "source": [
    "X = churn.drop(['CustomerID', 'Churn'], axis=1).copy()\n",
    "y = churn[['Churn']].copy()"
   ]
  },
  {
   "cell_type": "code",
   "execution_count": 58,
   "id": "61e692eb-6001-4e8a-83de-191f37349b98",
   "metadata": {},
   "outputs": [],
   "source": [
    "X_train, X_test, y_train, y_test = train_test_split(X, y, random_state=13, test_size=0.3)"
   ]
  },
  {
   "cell_type": "markdown",
   "id": "dc5649c8-52e6-4a45-85a2-01a72b262297",
   "metadata": {},
   "source": [
    "## **Modelo**"
   ]
  },
  {
   "cell_type": "code",
   "execution_count": 59,
   "id": "3ade5416-5ac6-40a5-b0e3-ffc1672175f0",
   "metadata": {},
   "outputs": [],
   "source": [
    "modelo = RandomForestClassifier(random_state=13)"
   ]
  },
  {
   "cell_type": "code",
   "execution_count": 60,
   "id": "7635a5a5-7739-4eef-9248-79d29d53f5c7",
   "metadata": {},
   "outputs": [
    {
     "name": "stderr",
     "output_type": "stream",
     "text": [
      "C:\\Users\\jmart\\AppData\\Local\\Temp\\ipykernel_17908\\2554334259.py:1: DataConversionWarning: A column-vector y was passed when a 1d array was expected. Please change the shape of y to (n_samples,), for example using ravel().\n",
      "  modelo.fit(X_train, y_train)\n"
     ]
    },
    {
     "data": {
      "text/html": [
       "<style>#sk-container-id-1 {color: black;background-color: white;}#sk-container-id-1 pre{padding: 0;}#sk-container-id-1 div.sk-toggleable {background-color: white;}#sk-container-id-1 label.sk-toggleable__label {cursor: pointer;display: block;width: 100%;margin-bottom: 0;padding: 0.3em;box-sizing: border-box;text-align: center;}#sk-container-id-1 label.sk-toggleable__label-arrow:before {content: \"▸\";float: left;margin-right: 0.25em;color: #696969;}#sk-container-id-1 label.sk-toggleable__label-arrow:hover:before {color: black;}#sk-container-id-1 div.sk-estimator:hover label.sk-toggleable__label-arrow:before {color: black;}#sk-container-id-1 div.sk-toggleable__content {max-height: 0;max-width: 0;overflow: hidden;text-align: left;background-color: #f0f8ff;}#sk-container-id-1 div.sk-toggleable__content pre {margin: 0.2em;color: black;border-radius: 0.25em;background-color: #f0f8ff;}#sk-container-id-1 input.sk-toggleable__control:checked~div.sk-toggleable__content {max-height: 200px;max-width: 100%;overflow: auto;}#sk-container-id-1 input.sk-toggleable__control:checked~label.sk-toggleable__label-arrow:before {content: \"▾\";}#sk-container-id-1 div.sk-estimator input.sk-toggleable__control:checked~label.sk-toggleable__label {background-color: #d4ebff;}#sk-container-id-1 div.sk-label input.sk-toggleable__control:checked~label.sk-toggleable__label {background-color: #d4ebff;}#sk-container-id-1 input.sk-hidden--visually {border: 0;clip: rect(1px 1px 1px 1px);clip: rect(1px, 1px, 1px, 1px);height: 1px;margin: -1px;overflow: hidden;padding: 0;position: absolute;width: 1px;}#sk-container-id-1 div.sk-estimator {font-family: monospace;background-color: #f0f8ff;border: 1px dotted black;border-radius: 0.25em;box-sizing: border-box;margin-bottom: 0.5em;}#sk-container-id-1 div.sk-estimator:hover {background-color: #d4ebff;}#sk-container-id-1 div.sk-parallel-item::after {content: \"\";width: 100%;border-bottom: 1px solid gray;flex-grow: 1;}#sk-container-id-1 div.sk-label:hover label.sk-toggleable__label {background-color: #d4ebff;}#sk-container-id-1 div.sk-serial::before {content: \"\";position: absolute;border-left: 1px solid gray;box-sizing: border-box;top: 0;bottom: 0;left: 50%;z-index: 0;}#sk-container-id-1 div.sk-serial {display: flex;flex-direction: column;align-items: center;background-color: white;padding-right: 0.2em;padding-left: 0.2em;position: relative;}#sk-container-id-1 div.sk-item {position: relative;z-index: 1;}#sk-container-id-1 div.sk-parallel {display: flex;align-items: stretch;justify-content: center;background-color: white;position: relative;}#sk-container-id-1 div.sk-item::before, #sk-container-id-1 div.sk-parallel-item::before {content: \"\";position: absolute;border-left: 1px solid gray;box-sizing: border-box;top: 0;bottom: 0;left: 50%;z-index: -1;}#sk-container-id-1 div.sk-parallel-item {display: flex;flex-direction: column;z-index: 1;position: relative;background-color: white;}#sk-container-id-1 div.sk-parallel-item:first-child::after {align-self: flex-end;width: 50%;}#sk-container-id-1 div.sk-parallel-item:last-child::after {align-self: flex-start;width: 50%;}#sk-container-id-1 div.sk-parallel-item:only-child::after {width: 0;}#sk-container-id-1 div.sk-dashed-wrapped {border: 1px dashed gray;margin: 0 0.4em 0.5em 0.4em;box-sizing: border-box;padding-bottom: 0.4em;background-color: white;}#sk-container-id-1 div.sk-label label {font-family: monospace;font-weight: bold;display: inline-block;line-height: 1.2em;}#sk-container-id-1 div.sk-label-container {text-align: center;}#sk-container-id-1 div.sk-container {/* jupyter's `normalize.less` sets `[hidden] { display: none; }` but bootstrap.min.css set `[hidden] { display: none !important; }` so we also need the `!important` here to be able to override the default hidden behavior on the sphinx rendered scikit-learn.org. See: https://github.com/scikit-learn/scikit-learn/issues/21755 */display: inline-block !important;position: relative;}#sk-container-id-1 div.sk-text-repr-fallback {display: none;}</style><div id=\"sk-container-id-1\" class=\"sk-top-container\"><div class=\"sk-text-repr-fallback\"><pre>RandomForestClassifier(random_state=13)</pre><b>In a Jupyter environment, please rerun this cell to show the HTML representation or trust the notebook. <br />On GitHub, the HTML representation is unable to render, please try loading this page with nbviewer.org.</b></div><div class=\"sk-container\" hidden><div class=\"sk-item\"><div class=\"sk-estimator sk-toggleable\"><input class=\"sk-toggleable__control sk-hidden--visually\" id=\"sk-estimator-id-1\" type=\"checkbox\" checked><label for=\"sk-estimator-id-1\" class=\"sk-toggleable__label sk-toggleable__label-arrow\">RandomForestClassifier</label><div class=\"sk-toggleable__content\"><pre>RandomForestClassifier(random_state=13)</pre></div></div></div></div></div>"
      ],
      "text/plain": [
       "RandomForestClassifier(random_state=13)"
      ]
     },
     "execution_count": 60,
     "metadata": {},
     "output_type": "execute_result"
    }
   ],
   "source": [
    "modelo.fit(X_train, y_train)"
   ]
  },
  {
   "cell_type": "code",
   "execution_count": 78,
   "id": "f2e6e835-53ab-48bc-918c-458bd4424ea3",
   "metadata": {},
   "outputs": [],
   "source": [
    "y_pred = modelo.predict(X_test)\n",
    "y_pred_proba = modelo.predict_proba(X_test)"
   ]
  },
  {
   "cell_type": "code",
   "execution_count": 96,
   "id": "95abd790-97bc-491b-8f5f-7ebb0af08d17",
   "metadata": {},
   "outputs": [
    {
     "data": {
      "text/plain": [
       "99.99998644776227"
      ]
     },
     "execution_count": 96,
     "metadata": {},
     "output_type": "execute_result"
    }
   ],
   "source": [
    "roc_auc_score(y_test, pd.DataFrame(y_pred_proba)[1])*100"
   ]
  },
  {
   "cell_type": "code",
   "execution_count": 62,
   "id": "e0bd9d68-49a6-4f8d-893b-98f754a90d80",
   "metadata": {},
   "outputs": [
    {
     "name": "stdout",
     "output_type": "stream",
     "text": [
      "              precision    recall  f1-score   support\n",
      "\n",
      "         0.0       1.00      1.00      1.00     57353\n",
      "         1.0       1.00      1.00      1.00     74897\n",
      "\n",
      "    accuracy                           1.00    132250\n",
      "   macro avg       1.00      1.00      1.00    132250\n",
      "weighted avg       1.00      1.00      1.00    132250\n",
      "\n"
     ]
    }
   ],
   "source": [
    "print(classification_report(y_pred, y_test))"
   ]
  },
  {
   "cell_type": "code",
   "execution_count": 77,
   "id": "552e67ae-3ddd-4fc9-9c6a-09f0a0880fb2",
   "metadata": {},
   "outputs": [
    {
     "data": {
      "image/png": "[encoded data removed]",
      "text/plain": [
       "<Figure size 600x300 with 2 Axes>"
      ]
     },
     "metadata": {},
     "output_type": "display_data"
    }
   ],
   "source": [
    "fig, ax = plt.subplots(figsize=(6, 3))\n",
    "sns.heatmap(confusion_matrix(y_pred, y_test)/len(y_pred)*100, annot=True)\n",
    "plt.show()"
   ]
  },
  {
   "cell_type": "markdown",
   "id": "01e46830-e71f-46ad-8946-6ce693c0c9e0",
   "metadata": {},
   "source": [
    "### **Cross Validation**"
   ]
  },
  {
   "cell_type": "markdown",
   "id": "1e63d248-f39d-4d8f-8af6-422d88d9a4bf",
   "metadata": {},
   "source": [
    "#### **1. KFold**"
   ]
  },
  {
   "cell_type": "code",
   "execution_count": 98,
   "id": "bc948afb-562a-4cbf-a296-53a993a43eb9",
   "metadata": {},
   "outputs": [],
   "source": [
    "kfold = KFold(n_splits=5, shuffle=True, random_state=13)"
   ]
  },
  {
   "cell_type": "code",
   "execution_count": 101,
   "id": "5bb6ee89-1e1c-404b-baad-66984fc5feec",
   "metadata": {},
   "outputs": [
    {
     "name": "stderr",
     "output_type": "stream",
     "text": [
      "C:\\Users\\jmart\\anaconda3\\lib\\site-packages\\sklearn\\model_selection\\_validation.py:686: DataConversionWarning: A column-vector y was passed when a 1d array was expected. Please change the shape of y to (n_samples,), for example using ravel().\n",
      "  estimator.fit(X_train, y_train, **fit_params)\n",
      "C:\\Users\\jmart\\anaconda3\\lib\\site-packages\\sklearn\\model_selection\\_validation.py:686: DataConversionWarning: A column-vector y was passed when a 1d array was expected. Please change the shape of y to (n_samples,), for example using ravel().\n",
      "  estimator.fit(X_train, y_train, **fit_params)\n",
      "C:\\Users\\jmart\\anaconda3\\lib\\site-packages\\sklearn\\model_selection\\_validation.py:686: DataConversionWarning: A column-vector y was passed when a 1d array was expected. Please change the shape of y to (n_samples,), for example using ravel().\n",
      "  estimator.fit(X_train, y_train, **fit_params)\n",
      "C:\\Users\\jmart\\anaconda3\\lib\\site-packages\\sklearn\\model_selection\\_validation.py:686: DataConversionWarning: A column-vector y was passed when a 1d array was expected. Please change the shape of y to (n_samples,), for example using ravel().\n",
      "  estimator.fit(X_train, y_train, **fit_params)\n",
      "C:\\Users\\jmart\\anaconda3\\lib\\site-packages\\sklearn\\model_selection\\_validation.py:686: DataConversionWarning: A column-vector y was passed when a 1d array was expected. Please change the shape of y to (n_samples,), for example using ravel().\n",
      "  estimator.fit(X_train, y_train, **fit_params)\n"
     ]
    }
   ],
   "source": [
    "scores_kfold = cross_val_score(modelo, X, y['Churn'], cv=kfold)"
   ]
  },
  {
   "cell_type": "code",
   "execution_count": 102,
   "id": "d72978ea-e498-4e11-ad5f-3831dcf641f8",
   "metadata": {},
   "outputs": [
    {
     "data": {
      "text/plain": [
       "array([0.99963705, 0.99973913, 0.99963705, 0.99950094, 0.99947826])"
      ]
     },
     "execution_count": 102,
     "metadata": {},
     "output_type": "execute_result"
    }
   ],
   "source": [
    "scores_kfold"
   ]
  },
  {
   "cell_type": "code",
   "execution_count": 104,
   "id": "3237c09c-d9e6-413d-92b5-d26ee12f4d74",
   "metadata": {},
   "outputs": [
    {
     "data": {
      "text/plain": [
       "0.9995984860917273"
      ]
     },
     "execution_count": 104,
     "metadata": {},
     "output_type": "execute_result"
    }
   ],
   "source": [
    "scores_kfold.mean()"
   ]
  },
  {
   "cell_type": "markdown",
   "id": "dfd8f9cb-8c9a-4f7d-a65e-03047906459f",
   "metadata": {},
   "source": [
    "#### **2. Stratified KFold Cross Validation**"
   ]
  },
  {
   "cell_type": "code",
   "execution_count": 105,
   "id": "8913a69b-c0ad-41bf-9362-fa9776b090ec",
   "metadata": {},
   "outputs": [],
   "source": [
    "stratified_kfold = StratifiedKFold(n_splits=5, shuffle=True, random_state=13)"
   ]
  },
  {
   "cell_type": "code",
   "execution_count": 109,
   "id": "92a78d9c-daf2-4565-95f8-f356f58d1b21",
   "metadata": {},
   "outputs": [],
   "source": [
    "scores_stratified_kfold = cross_val_score(modelo, X, y['Churn'], cv=stratified_kfold)"
   ]
  },
  {
   "cell_type": "code",
   "execution_count": 110,
   "id": "1eb74819-17a3-4a52-870c-6ba6fffd64e7",
   "metadata": {},
   "outputs": [
    {
     "data": {
      "text/plain": [
       "array([0.999569  , 0.99953497, 0.99969376, 0.99942155, 0.99968242])"
      ]
     },
     "execution_count": 110,
     "metadata": {},
     "output_type": "execute_result"
    }
   ],
   "source": [
    "scores_stratified_kfold"
   ]
  },
  {
   "cell_type": "code",
   "execution_count": 111,
   "id": "e210853b-894a-440e-a8d2-fefa744a3e33",
   "metadata": {},
   "outputs": [
    {
     "data": {
      "text/plain": [
       "0.9995803391239864"
      ]
     },
     "execution_count": 111,
     "metadata": {},
     "output_type": "execute_result"
    }
   ],
   "source": [
    "scores_stratified_kfold.mean()"
   ]
  },
  {
   "cell_type": "markdown",
   "id": "7aef06f5-2084-4bd5-9cf7-836e1b6ba8e9",
   "metadata": {},
   "source": [
    "#### **3. Group KFold**"
   ]
  },
  {
   "cell_type": "code",
   "execution_count": 113,
   "id": "95d02db1-0773-4fc9-af39-53c50e268176",
   "metadata": {},
   "outputs": [],
   "source": [
    "group_kfold = GroupKFold(n_splits=5)"
   ]
  },
  {
   "cell_type": "code",
   "execution_count": null,
   "id": "c3e86996-4506-4d3c-a840-d8d0cb4c8e59",
   "metadata": {},
   "outputs": [],
   "source": [
    "scores_group_kfold = cross_val_score(modelo, X, y['Churn'])"
   ]
  },
  {
   "cell_type": "code",
   "execution_count": null,
   "id": "04862e92-8d31-44cb-974b-f94d65d0aa87",
   "metadata": {},
   "outputs": [],
   "source": [
    "scores_group_kfold"
   ]
  },
  {
   "cell_type": "code",
   "execution_count": null,
   "id": "a6009d32-f33a-4282-a060-95d825e7ae83",
   "metadata": {},
   "outputs": [],
   "source": [
    "scores_group_kfold.mean()"
   ]
  },
  {
   "cell_type": "markdown",
   "id": "61bd9688-b3e6-40ac-b453-54154201a731",
   "metadata": {},
   "source": [
    "#### **4. Stratified Group KFold**"
   ]
  },
  {
   "cell_type": "code",
   "execution_count": null,
   "id": "9807f382-2343-404d-af49-4f07adeb4dda",
   "metadata": {},
   "outputs": [],
   "source": [
    "stratified_group_kfold = StratifiedGroupKFold(n_splits=5)"
   ]
  },
  {
   "cell_type": "code",
   "execution_count": null,
   "id": "c66ae297-9797-4b16-9481-b5b7a73cc149",
   "metadata": {},
   "outputs": [],
   "source": [
    "scores_stratified_group_kfold = cross_val_score(modelo, X, y['Churn'])"
   ]
  },
  {
   "cell_type": "code",
   "execution_count": null,
   "id": "2d2d0003-feab-4beb-a38a-acabfd6522c9",
   "metadata": {},
   "outputs": [],
   "source": [
    "scores_stratified_group_kfold"
   ]
  },
  {
   "cell_type": "code",
   "execution_count": null,
   "id": "8ea99163-b76e-431e-a102-22fb9ec07052",
   "metadata": {},
   "outputs": [],
   "source": [
    "scores_stratified_group_kfold.mean()"
   ]
  }
 ],
 "metadata": {
  "kernelspec": {
   "display_name": "Python 3 (ipykernel)",
   "language": "python",
   "name": "python3"
  },
  "language_info": {
   "codemirror_mode": {
    "name": "ipython",
    "version": 3
   },
   "file_extension": ".py",
   "mimetype": "text/x-python",
   "name": "python",
   "nbconvert_exporter": "python",
   "pygments_lexer": "ipython3",
   "version": "3.9.13"
  }
 },
 "nbformat": 4,
 "nbformat_minor": 5
}
