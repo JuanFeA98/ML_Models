{
 "cells": [
  {
   "cell_type": "markdown",
   "metadata": {},
   "source": [
    "# Algoritmo de Naive Bayes"
   ]
  },
  {
   "cell_type": "markdown",
   "metadata": {},
   "source": [
    "### Importamos nuestras librerias"
   ]
  },
  {
   "cell_type": "code",
   "execution_count": 1,
   "metadata": {},
   "outputs": [],
   "source": [
    "import os"
   ]
  },
  {
   "cell_type": "code",
   "execution_count": 2,
   "metadata": {},
   "outputs": [],
   "source": [
    "import numpy as np"
   ]
  },
  {
   "cell_type": "code",
   "execution_count": 3,
   "metadata": {},
   "outputs": [],
   "source": [
    "from collections import Counter\n",
    "from sklearn.naive_bayes import GaussianNB\n",
    "from sklearn.metrics import accuracy_score"
   ]
  },
  {
   "cell_type": "markdown",
   "metadata": {},
   "source": [
    "### Cargamos y limpiamos nuestros datos"
   ]
  },
  {
   "cell_type": "markdown",
   "metadata": {},
   "source": [
    "Creamos una función para crear un diccionario en el que se indique la cantidad de veces que aparece cada palabra a lo largo de todos nuestros archivos."
   ]
  },
  {
   "cell_type": "code",
   "execution_count": 44,
   "metadata": {},
   "outputs": [],
   "source": [
    "def make_Dictionary(root_dir):\n",
    "    all_words = []\n",
    "    emails = [os.path.join(root_dir, f) for f in os.listdir(root_dir)] ## Llamamos las rutas de nuestros archivos\n",
    "    for i in emails:\n",
    "        with open(i) as m: ## Abre los archivos\n",
    "            for line in m: ## Lee las lineas de cada archivo\n",
    "                words = line.split() ## Separa las palabras de cada linea\n",
    "                all_words += words ## Vamos a crear una lista con todas las palabras que obtengamos\n",
    "    dict_words = Counter(all_words) ## Creamos un diccionario en el que se cuenten las veces que cada palabra aparece\n",
    "\n",
    "    ## Realizamos algo de limpieza sobre nuestras palabras\n",
    "    \n",
    "    for key in list(dict_words.keys()):\n",
    "        if key.isalpha() == False:\n",
    "            del dict_words[key] ## Quitamos aquellas palabras que contengan algún caracter númerico\n",
    "        elif len(key) == 1:\n",
    "            del dict_words[key] ## Quitamos aquellas palabras cuya extensión sea de un caracter\n",
    "    \n",
    "    dict_words = dict_words.most_common(3000) ## Solo tendremos en cuenta las 3000 palabras más usadas    \n",
    "\n",
    "    return(dict_words) ## Devuelve nuestro diccionario"
   ]
  },
  {
   "cell_type": "code",
   "execution_count": 6,
   "metadata": {
    "scrolled": true
   },
   "outputs": [],
   "source": [
    "# print(make_Dictionary('./Data/train-mails'))"
   ]
  },
  {
   "cell_type": "markdown",
   "metadata": {},
   "source": [
    "#### Generamos nuestro diccionario"
   ]
  },
  {
   "cell_type": "code",
   "execution_count": 47,
   "metadata": {},
   "outputs": [],
   "source": [
    "dictionary = make_Dictionary('./Data/train-mails')"
   ]
  },
  {
   "cell_type": "code",
   "execution_count": 83,
   "metadata": {
    "scrolled": false
   },
   "outputs": [
    {
     "name": "stdout",
     "output_type": "stream",
     "text": [
      "('order', 1414)\n",
      "Jumm\n"
     ]
    }
   ],
   "source": [
    "print(dictionary[0])\n",
    "\n",
    "if enumerate(dictionary[0]) == 'order':\n",
    "    print('Ehh?')\n",
    "else:\n",
    "    print('Jumm')"
   ]
  },
  {
   "cell_type": "code",
   "execution_count": 81,
   "metadata": {},
   "outputs": [
    {
     "name": "stdout",
     "output_type": "stream",
     "text": [
      "<enumerate object at 0x0000015BB2F5D040>\n"
     ]
    }
   ],
   "source": [
    "print(enumerate(dictionary))"
   ]
  },
  {
   "cell_type": "code",
   "execution_count": 130,
   "metadata": {},
   "outputs": [],
   "source": [
    "def extract_features(mail_dir):\n",
    "    files = [os.path.join(mail_dir, fi) for fi in os.listdir(mail_dir)] ## Llamamos las rutas de nuestros archivos\n",
    "    features_matrix = np.zeros((len(files), 3000)) ## Creamos una matriz de ceros para los features de nuestro modelo\n",
    "    train_labels = np.zeros(len(files)) ## Creamos una matriz de ceros para los labels de nuestro modelo\n",
    "\n",
    "    count = 0\n",
    "    docID = 0\n",
    "    for fil in files:\n",
    "        with open (fil) as file:  ## Abre los archivos de entrenamiento\n",
    "            for i, line in enumerate(file):\n",
    "                if i == 2: ## Solo trabajaremos con los datos de la linea dos de cada archivo, allí se encuentran los mensajes\n",
    "                    words = line.split() ## Separa las palabras de cada linea\n",
    "                    for word in words:\n",
    "                        wordID = 0\n",
    "                        for i,d in enumerate(dictionary): ## Para nuestra lista de palabras más usadas toma el indice y el valor\n",
    "                            if d[0] == word: ## Si la palabra en nuestra lista es igual a la palabra en la linea entonces...\n",
    "                                wordID = i ## ...guardamos el indice en el que se encuentra la palabra en cuestion\n",
    "                                features_matrix[docID, wordID] = words.count(word) ## Nuestra matriz entonces queda asi: \n",
    "                                                                                   ## filas -> documentos.\n",
    "                                                                                   ## columnas -> palabras de nuestra lista.\n",
    "                                                                                   ## registro -> número de veces que una de \n",
    "                                                                                   ##             las palabras de nuestra lista\n",
    "                                                                                   ##             aparece por cada texto.\n",
    "                                train_labels[docID] = 0\n",
    "                                filepathTokens = fil.split('/')\n",
    "                                lastToken = filepathTokens[len(filepathTokens) - 1]\n",
    "                                if 'spmsg' in filepathTokens:\n",
    "                                    print('spam')\n",
    "                                "
   ]
  },
  {
   "cell_type": "code",
   "execution_count": 131,
   "metadata": {},
   "outputs": [
    {
     "name": "stdout",
     "output_type": "stream",
     "text": [
      "702\n"
     ]
    }
   ],
   "source": [
    "prueba = extract_features('./Data/train-mails')"
   ]
  },
  {
   "cell_type": "code",
   "execution_count": 127,
   "metadata": {},
   "outputs": [
    {
     "name": "stdout",
     "output_type": "stream",
     "text": [
      "Oh Yeah\n"
     ]
    }
   ],
   "source": [
    "import re\n",
    "\n",
    "texto = 'Hola, como estas'\n",
    "\n",
    "if 'Hola' in texto:\n",
    "    print('Oh Yeah')"
   ]
  }
 ],
 "metadata": {
  "kernelspec": {
   "display_name": "Python 3",
   "language": "python",
   "name": "python3"
  },
  "language_info": {
   "codemirror_mode": {
    "name": "ipython",
    "version": 3
   },
   "file_extension": ".py",
   "mimetype": "text/x-python",
   "name": "python",
   "nbconvert_exporter": "python",
   "pygments_lexer": "ipython3",
   "version": "3.8.5"
  }
 },
 "nbformat": 4,
 "nbformat_minor": 4
}
