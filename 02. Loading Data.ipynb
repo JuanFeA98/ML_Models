{
 "cells": [
  {
   "cell_type": "markdown",
   "id": "4c154ae5",
   "metadata": {},
   "source": [
    "## 2. Cargando datos"
   ]
  },
  {
   "cell_type": "markdown",
   "id": "ca9f9031",
   "metadata": {},
   "source": [
    "## Librerias"
   ]
  },
  {
   "cell_type": "code",
   "execution_count": 1,
   "id": "740072c1",
   "metadata": {},
   "outputs": [],
   "source": [
    "import pandas as pd\n",
    "import numpy as np"
   ]
  },
  {
   "cell_type": "code",
   "execution_count": 2,
   "id": "3c5107c2",
   "metadata": {},
   "outputs": [],
   "source": [
    "pd.options.display.max_columns = False"
   ]
  },
  {
   "cell_type": "code",
   "execution_count": 3,
   "id": "5da30afa",
   "metadata": {},
   "outputs": [],
   "source": [
    "from sklearn import datasets"
   ]
  },
  {
   "cell_type": "markdown",
   "id": "07a9b170",
   "metadata": {},
   "source": [
    "## 2.1 Cargando un dataset de muestra"
   ]
  },
  {
   "cell_type": "code",
   "execution_count": 4,
   "id": "d25cd5e4",
   "metadata": {},
   "outputs": [],
   "source": [
    "digitos = datasets.load_digits()"
   ]
  },
  {
   "cell_type": "code",
   "execution_count": 6,
   "id": "338ddbd4",
   "metadata": {},
   "outputs": [],
   "source": [
    "features = digitos.data"
   ]
  },
  {
   "cell_type": "code",
   "execution_count": 7,
   "id": "3bd923d1",
   "metadata": {},
   "outputs": [
    {
     "data": {
      "text/plain": [
       "array([[ 0.,  0.,  5., ...,  0.,  0.,  0.],\n",
       "       [ 0.,  0.,  0., ..., 10.,  0.,  0.],\n",
       "       [ 0.,  0.,  0., ..., 16.,  9.,  0.],\n",
       "       ...,\n",
       "       [ 0.,  0.,  1., ...,  6.,  0.,  0.],\n",
       "       [ 0.,  0.,  2., ..., 12.,  0.,  0.],\n",
       "       [ 0.,  0., 10., ..., 12.,  1.,  0.]])"
      ]
     },
     "execution_count": 7,
     "metadata": {},
     "output_type": "execute_result"
    }
   ],
   "source": [
    "features"
   ]
  },
  {
   "cell_type": "code",
   "execution_count": 18,
   "id": "4d0e3d5a",
   "metadata": {},
   "outputs": [
    {
     "data": {
      "text/plain": [
       "array([ 0.,  0.,  5., 13.,  9.,  1.,  0.,  0.,  0.,  0., 13., 15., 10.,\n",
       "       15.,  5.,  0.,  0.,  3., 15.,  2.,  0., 11.,  8.,  0.,  0.,  4.,\n",
       "       12.,  0.,  0.,  8.,  8.,  0.,  0.,  5.,  8.,  0.,  0.,  9.,  8.,\n",
       "        0.,  0.,  4., 11.,  0.,  1., 12.,  7.,  0.,  0.,  2., 14.,  5.,\n",
       "       10., 12.,  0.,  0.,  0.,  0.,  6., 13., 10.,  0.,  0.,  0.])"
      ]
     },
     "execution_count": 18,
     "metadata": {},
     "output_type": "execute_result"
    }
   ],
   "source": [
    "features[0]"
   ]
  },
  {
   "cell_type": "code",
   "execution_count": 10,
   "id": "81c672ee",
   "metadata": {},
   "outputs": [],
   "source": [
    "target = digitos.target"
   ]
  },
  {
   "cell_type": "code",
   "execution_count": 11,
   "id": "490975c4",
   "metadata": {},
   "outputs": [
    {
     "data": {
      "text/plain": [
       "array([0, 1, 2, ..., 8, 9, 8])"
      ]
     },
     "execution_count": 11,
     "metadata": {},
     "output_type": "execute_result"
    }
   ],
   "source": [
    "target"
   ]
  },
  {
   "cell_type": "markdown",
   "id": "ba99a357",
   "metadata": {},
   "source": [
    "## 2.2 Crear una simulación"
   ]
  },
  {
   "cell_type": "code",
   "execution_count": 19,
   "id": "ddf8e98d",
   "metadata": {},
   "outputs": [],
   "source": [
    "from sklearn.datasets import make_regression"
   ]
  },
  {
   "cell_type": "markdown",
   "id": "62311c6e",
   "metadata": {},
   "source": [
    "**Dataset para Regresión Lineal**"
   ]
  },
  {
   "cell_type": "code",
   "execution_count": 20,
   "id": "7f12bd0f",
   "metadata": {},
   "outputs": [],
   "source": [
    "# Generamos una matriz de features, un vector objetivo y los coeficientes\n",
    "features, target, coeficientes = make_regression(\n",
    "    n_samples=100, \n",
    "    n_features=3, \n",
    "    n_informative=3, \n",
    "    n_targets=1,\n",
    "    noise=0.0, \n",
    "    coef=True,\n",
    "    random_state=1\n",
    ")"
   ]
  },
  {
   "cell_type": "code",
   "execution_count": 30,
   "id": "b0054988",
   "metadata": {},
   "outputs": [
    {
     "name": "stdout",
     "output_type": "stream",
     "text": [
      "Matriz de features\n",
      " \n",
      "[[ 1.29322588 -0.61736206 -0.11044703]\n",
      " [-2.793085    0.36633201  1.93752881]\n",
      " [ 0.80186103 -0.18656977  0.0465673 ]]\n",
      "\n",
      "Vector Objetivo\n",
      "\n",
      "[-10.37865986  25.5124503   19.67705609]\n"
     ]
    }
   ],
   "source": [
    "print('Matriz de features')\n",
    "print(' ')\n",
    "print(features[:3])\n",
    "print('')\n",
    "print('Vector Objetivo')\n",
    "print('')\n",
    "print(target[:3])"
   ]
  },
  {
   "cell_type": "markdown",
   "id": "66d7f22d",
   "metadata": {},
   "source": [
    "**Dataset para Regresión Logistica**"
   ]
  },
  {
   "cell_type": "code",
   "execution_count": 24,
   "id": "22e91683",
   "metadata": {},
   "outputs": [],
   "source": [
    "from sklearn.datasets import make_classification"
   ]
  },
  {
   "cell_type": "code",
   "execution_count": null,
   "id": "6766b923",
   "metadata": {},
   "outputs": [],
   "source": [
    "features, target, coeficientes = make_classification()"
   ]
  },
  {
   "cell_type": "code",
   "execution_count": null,
   "id": "7ae2d606",
   "metadata": {},
   "outputs": [],
   "source": []
  },
  {
   "cell_type": "code",
   "execution_count": null,
   "id": "8e1b0b54",
   "metadata": {},
   "outputs": [],
   "source": []
  },
  {
   "cell_type": "code",
   "execution_count": null,
   "id": "47c880c9",
   "metadata": {},
   "outputs": [],
   "source": []
  },
  {
   "cell_type": "code",
   "execution_count": null,
   "id": "0c7b8889",
   "metadata": {},
   "outputs": [],
   "source": []
  }
 ],
 "metadata": {
  "kernelspec": {
   "display_name": "Python 3",
   "language": "python",
   "name": "python3"
  },
  "language_info": {
   "codemirror_mode": {
    "name": "ipython",
    "version": 3
   },
   "file_extension": ".py",
   "mimetype": "text/x-python",
   "name": "python",
   "nbconvert_exporter": "python",
   "pygments_lexer": "ipython3",
   "version": "3.9.6"
  }
 },
 "nbformat": 4,
 "nbformat_minor": 5
}
