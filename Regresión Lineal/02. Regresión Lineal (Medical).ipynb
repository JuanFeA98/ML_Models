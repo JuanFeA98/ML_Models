{
 "cells": [
  {
   "cell_type": "markdown",
   "id": "f8b5c202-cfe8-41a8-8592-58eb81ca57d2",
   "metadata": {},
   "source": [
    "# **Regresión Lineal**"
   ]
  },
  {
   "cell_type": "markdown",
   "id": "c8b142db-8989-4ee5-8554-221569601457",
   "metadata": {},
   "source": [
    "## **Librerias**"
   ]
  },
  {
   "cell_type": "code",
   "execution_count": 1,
   "id": "8abf053b-f868-458b-92d3-e1d684455253",
   "metadata": {},
   "outputs": [],
   "source": [
    "import pandas as pd\n",
    "import numpy as np\n",
    "import matplotlib.pyplot as plt\n",
    "import seaborn as sns"
   ]
  },
  {
   "cell_type": "code",
   "execution_count": 2,
   "id": "8701dc82-77b4-4629-963e-645369e4c7e4",
   "metadata": {},
   "outputs": [],
   "source": [
    "pd.options.display.max_columns = False"
   ]
  },
  {
   "cell_type": "code",
   "execution_count": 3,
   "id": "9c79661f-200f-442b-a269-53d175bde8cb",
   "metadata": {},
   "outputs": [],
   "source": [
    "from datetime import datetime, timedelta\n",
    "import winsound"
   ]
  },
  {
   "cell_type": "code",
   "execution_count": 2,
   "id": "4ecca58e-ba31-4d05-8ca4-7e6449dd80d0",
   "metadata": {},
   "outputs": [],
   "source": [
    "from sklearn.preprocessing import MinMaxScaler, StandardScaler, Normalizer\n",
    "from sklearn.model_selection import train_test_split"
   ]
  },
  {
   "cell_type": "code",
   "execution_count": 114,
   "id": "6e216d5d-bdbd-41c0-a451-4db2d916ceac",
   "metadata": {},
   "outputs": [],
   "source": [
    "from sklearn.linear_model import LinearRegression\n",
    "\n",
    "from sklearn.metrics import r2_score, mean_squared_error"
   ]
  },
  {
   "cell_type": "markdown",
   "id": "cadd88d4-68e3-4bf5-91fa-da9225b93da2",
   "metadata": {},
   "source": [
    "## **Datos**"
   ]
  },
  {
   "cell_type": "code",
   "execution_count": 57,
   "id": "cd147b00-8393-46d9-be7f-7cd2ca696fb2",
   "metadata": {},
   "outputs": [],
   "source": [
    "df = pd.read_csv('Data/insurance.csv')"
   ]
  },
  {
   "cell_type": "code",
   "execution_count": 58,
   "id": "6996fefb-f4e5-4a88-a275-24a5bb43ea95",
   "metadata": {},
   "outputs": [],
   "source": [
    "df.reset_index(inplace=True)\n",
    "df = df.rename(columns={'index':'ID'})"
   ]
  },
  {
   "cell_type": "code",
   "execution_count": 59,
   "id": "30ab8f90-c997-4606-b61b-34b9682605c0",
   "metadata": {},
   "outputs": [
    {
     "data": {
      "text/html": [
       "<div>\n",
       "<style scoped>\n",
       "    .dataframe tbody tr th:only-of-type {\n",
       "        vertical-align: middle;\n",
       "    }\n",
       "\n",
       "    .dataframe tbody tr th {\n",
       "        vertical-align: top;\n",
       "    }\n",
       "\n",
       "    .dataframe thead th {\n",
       "        text-align: right;\n",
       "    }\n",
       "</style>\n",
       "<table border=\"1\" class=\"dataframe\">\n",
       "  <thead>\n",
       "    <tr style=\"text-align: right;\">\n",
       "      <th></th>\n",
       "      <th>ID</th>\n",
       "      <th>age</th>\n",
       "      <th>sex</th>\n",
       "      <th>bmi</th>\n",
       "      <th>children</th>\n",
       "      <th>smoker</th>\n",
       "      <th>region</th>\n",
       "      <th>charges</th>\n",
       "    </tr>\n",
       "  </thead>\n",
       "  <tbody>\n",
       "    <tr>\n",
       "      <th>0</th>\n",
       "      <td>0</td>\n",
       "      <td>19</td>\n",
       "      <td>female</td>\n",
       "      <td>27.900</td>\n",
       "      <td>0</td>\n",
       "      <td>yes</td>\n",
       "      <td>southwest</td>\n",
       "      <td>16884.92400</td>\n",
       "    </tr>\n",
       "    <tr>\n",
       "      <th>1</th>\n",
       "      <td>1</td>\n",
       "      <td>18</td>\n",
       "      <td>male</td>\n",
       "      <td>33.770</td>\n",
       "      <td>1</td>\n",
       "      <td>no</td>\n",
       "      <td>southeast</td>\n",
       "      <td>1725.55230</td>\n",
       "    </tr>\n",
       "    <tr>\n",
       "      <th>2</th>\n",
       "      <td>2</td>\n",
       "      <td>28</td>\n",
       "      <td>male</td>\n",
       "      <td>33.000</td>\n",
       "      <td>3</td>\n",
       "      <td>no</td>\n",
       "      <td>southeast</td>\n",
       "      <td>4449.46200</td>\n",
       "    </tr>\n",
       "    <tr>\n",
       "      <th>3</th>\n",
       "      <td>3</td>\n",
       "      <td>33</td>\n",
       "      <td>male</td>\n",
       "      <td>22.705</td>\n",
       "      <td>0</td>\n",
       "      <td>no</td>\n",
       "      <td>northwest</td>\n",
       "      <td>21984.47061</td>\n",
       "    </tr>\n",
       "    <tr>\n",
       "      <th>4</th>\n",
       "      <td>4</td>\n",
       "      <td>32</td>\n",
       "      <td>male</td>\n",
       "      <td>28.880</td>\n",
       "      <td>0</td>\n",
       "      <td>no</td>\n",
       "      <td>northwest</td>\n",
       "      <td>3866.85520</td>\n",
       "    </tr>\n",
       "  </tbody>\n",
       "</table>\n",
       "</div>"
      ],
      "text/plain": [
       "   ID  age     sex     bmi  children smoker     region      charges\n",
       "0   0   19  female  27.900         0    yes  southwest  16884.92400\n",
       "1   1   18    male  33.770         1     no  southeast   1725.55230\n",
       "2   2   28    male  33.000         3     no  southeast   4449.46200\n",
       "3   3   33    male  22.705         0     no  northwest  21984.47061\n",
       "4   4   32    male  28.880         0     no  northwest   3866.85520"
      ]
     },
     "execution_count": 59,
     "metadata": {},
     "output_type": "execute_result"
    }
   ],
   "source": [
    "df.head()"
   ]
  },
  {
   "cell_type": "markdown",
   "id": "5403ff61-95a5-436b-8f8b-608aedf95e4f",
   "metadata": {},
   "source": [
    "## **Análisis de los datos**"
   ]
  },
  {
   "cell_type": "code",
   "execution_count": 8,
   "id": "d76b4ad7-38de-4795-b3fb-90aeb8ac21ba",
   "metadata": {},
   "outputs": [
    {
     "data": {
      "text/html": [
       "<div>\n",
       "<style scoped>\n",
       "    .dataframe tbody tr th:only-of-type {\n",
       "        vertical-align: middle;\n",
       "    }\n",
       "\n",
       "    .dataframe tbody tr th {\n",
       "        vertical-align: top;\n",
       "    }\n",
       "\n",
       "    .dataframe thead th {\n",
       "        text-align: right;\n",
       "    }\n",
       "</style>\n",
       "<table border=\"1\" class=\"dataframe\">\n",
       "  <thead>\n",
       "    <tr style=\"text-align: right;\">\n",
       "      <th></th>\n",
       "      <th>ID</th>\n",
       "      <th>age</th>\n",
       "      <th>bmi</th>\n",
       "      <th>children</th>\n",
       "      <th>charges</th>\n",
       "    </tr>\n",
       "  </thead>\n",
       "  <tbody>\n",
       "    <tr>\n",
       "      <th>count</th>\n",
       "      <td>1338.000000</td>\n",
       "      <td>1338.000000</td>\n",
       "      <td>1338.000000</td>\n",
       "      <td>1338.000000</td>\n",
       "      <td>1338.000000</td>\n",
       "    </tr>\n",
       "    <tr>\n",
       "      <th>mean</th>\n",
       "      <td>668.500000</td>\n",
       "      <td>39.207025</td>\n",
       "      <td>30.663397</td>\n",
       "      <td>1.094918</td>\n",
       "      <td>13270.422265</td>\n",
       "    </tr>\n",
       "    <tr>\n",
       "      <th>std</th>\n",
       "      <td>386.391641</td>\n",
       "      <td>14.049960</td>\n",
       "      <td>6.098187</td>\n",
       "      <td>1.205493</td>\n",
       "      <td>12110.011237</td>\n",
       "    </tr>\n",
       "    <tr>\n",
       "      <th>min</th>\n",
       "      <td>0.000000</td>\n",
       "      <td>18.000000</td>\n",
       "      <td>15.960000</td>\n",
       "      <td>0.000000</td>\n",
       "      <td>1121.873900</td>\n",
       "    </tr>\n",
       "    <tr>\n",
       "      <th>25%</th>\n",
       "      <td>334.250000</td>\n",
       "      <td>27.000000</td>\n",
       "      <td>26.296250</td>\n",
       "      <td>0.000000</td>\n",
       "      <td>4740.287150</td>\n",
       "    </tr>\n",
       "    <tr>\n",
       "      <th>50%</th>\n",
       "      <td>668.500000</td>\n",
       "      <td>39.000000</td>\n",
       "      <td>30.400000</td>\n",
       "      <td>1.000000</td>\n",
       "      <td>9382.033000</td>\n",
       "    </tr>\n",
       "    <tr>\n",
       "      <th>75%</th>\n",
       "      <td>1002.750000</td>\n",
       "      <td>51.000000</td>\n",
       "      <td>34.693750</td>\n",
       "      <td>2.000000</td>\n",
       "      <td>16639.912515</td>\n",
       "    </tr>\n",
       "    <tr>\n",
       "      <th>max</th>\n",
       "      <td>1337.000000</td>\n",
       "      <td>64.000000</td>\n",
       "      <td>53.130000</td>\n",
       "      <td>5.000000</td>\n",
       "      <td>63770.428010</td>\n",
       "    </tr>\n",
       "  </tbody>\n",
       "</table>\n",
       "</div>"
      ],
      "text/plain": [
       "                ID          age          bmi     children       charges\n",
       "count  1338.000000  1338.000000  1338.000000  1338.000000   1338.000000\n",
       "mean    668.500000    39.207025    30.663397     1.094918  13270.422265\n",
       "std     386.391641    14.049960     6.098187     1.205493  12110.011237\n",
       "min       0.000000    18.000000    15.960000     0.000000   1121.873900\n",
       "25%     334.250000    27.000000    26.296250     0.000000   4740.287150\n",
       "50%     668.500000    39.000000    30.400000     1.000000   9382.033000\n",
       "75%    1002.750000    51.000000    34.693750     2.000000  16639.912515\n",
       "max    1337.000000    64.000000    53.130000     5.000000  63770.428010"
      ]
     },
     "execution_count": 8,
     "metadata": {},
     "output_type": "execute_result"
    }
   ],
   "source": [
    "df.describe()"
   ]
  },
  {
   "cell_type": "code",
   "execution_count": 9,
   "id": "4f66389b-f6f7-4529-ba01-e85249a27226",
   "metadata": {},
   "outputs": [
    {
     "name": "stdout",
     "output_type": "stream",
     "text": [
      "<class 'pandas.core.frame.DataFrame'>\n",
      "RangeIndex: 1338 entries, 0 to 1337\n",
      "Data columns (total 8 columns):\n",
      " #   Column    Non-Null Count  Dtype  \n",
      "---  ------    --------------  -----  \n",
      " 0   ID        1338 non-null   int64  \n",
      " 1   age       1338 non-null   int64  \n",
      " 2   sex       1338 non-null   object \n",
      " 3   bmi       1338 non-null   float64\n",
      " 4   children  1338 non-null   int64  \n",
      " 5   smoker    1338 non-null   object \n",
      " 6   region    1338 non-null   object \n",
      " 7   charges   1338 non-null   float64\n",
      "dtypes: float64(2), int64(3), object(3)\n",
      "memory usage: 83.8+ KB\n"
     ]
    }
   ],
   "source": [
    "df.info()"
   ]
  },
  {
   "cell_type": "code",
   "execution_count": 10,
   "id": "6f55b52a-4a37-48d8-a48b-70232a8a481f",
   "metadata": {},
   "outputs": [
    {
     "data": {
      "image/png": "[encoded data removed]",
      "text/plain": [
       "<Figure size 1008x288 with 1 Axes>"
      ]
     },
     "metadata": {},
     "output_type": "display_data"
    }
   ],
   "source": [
    "fig, ax = plt.subplots(figsize=(14, 4))\n",
    "plt.title('Distribución de la variable objetivo [charges]', color='white', size=16)\n",
    "\n",
    "fig.patch.set_facecolor('#21252b') \n",
    "ax.set_facecolor('#282c34') \n",
    "\n",
    "plt.hist(df['charges'], bins=40)\n",
    "\n",
    "plt.xticks(color='white', size=12)\n",
    "ax.tick_params(axis='x', labelcolor='white', color='white')\n",
    "\n",
    "plt.yticks(color='white', size=12)\n",
    "ax.tick_params(axis='y', labelcolor='white', color='white')\n",
    "\n",
    "plt.grid(linewidth=0.1)\n",
    "\n",
    "plt.show()"
   ]
  },
  {
   "cell_type": "code",
   "execution_count": 60,
   "id": "3323ebb2-eeb2-4696-b3a7-2c10600e1a9a",
   "metadata": {},
   "outputs": [],
   "source": [
    "df['charges_log'] = df['charges'].apply(lambda x: np.log(x))"
   ]
  },
  {
   "cell_type": "code",
   "execution_count": 12,
   "id": "76db285a-06eb-42ea-b404-5ebc3a8afb17",
   "metadata": {},
   "outputs": [
    {
     "data": {
      "image/png": "[encoded data removed]",
      "text/plain": [
       "<Figure size 1008x288 with 1 Axes>"
      ]
     },
     "metadata": {},
     "output_type": "display_data"
    }
   ],
   "source": [
    "fig, ax = plt.subplots(figsize=(14, 4))\n",
    "plt.title('Distribución de la variable objetivo [charges]', color='white', size=16)\n",
    "\n",
    "fig.patch.set_facecolor('#21252b') \n",
    "ax.set_facecolor('#282c34') \n",
    "\n",
    "plt.hist(df['charges_log'], bins=40)\n",
    "\n",
    "plt.xticks(color='white', size=12)\n",
    "ax.tick_params(axis='x', labelcolor='white', color='white')\n",
    "\n",
    "plt.yticks(color='white', size=12)\n",
    "ax.tick_params(axis='y', labelcolor='white', color='white')\n",
    "\n",
    "plt.grid(linewidth=0.1)\n",
    "\n",
    "plt.show()"
   ]
  },
  {
   "cell_type": "code",
   "execution_count": 13,
   "id": "b8b4cac8-89e0-4492-9f8d-5fe68fb99f60",
   "metadata": {},
   "outputs": [
    {
     "data": {
      "text/plain": [
       "StandardScaler()"
      ]
     },
     "execution_count": 13,
     "metadata": {},
     "output_type": "execute_result"
    }
   ],
   "source": [
    "standarScaler = StandardScaler()\n",
    "standarScaler.fit(np.array(df['charges_log']).reshape(-1, 1))"
   ]
  },
  {
   "cell_type": "code",
   "execution_count": 61,
   "id": "b678295d-741f-432b-8eb9-d79572d421c2",
   "metadata": {},
   "outputs": [],
   "source": [
    "df['charges_log_est'] = standarScaler.transform(np.array(df['charges_log']).reshape(-1, 1))"
   ]
  },
  {
   "cell_type": "code",
   "execution_count": 15,
   "id": "c94154be-51b3-4b38-9a29-8aab70bb64a7",
   "metadata": {},
   "outputs": [
    {
     "data": {
      "image/png": "[encoded data removed]",
      "text/plain": [
       "<Figure size 1008x288 with 1 Axes>"
      ]
     },
     "metadata": {},
     "output_type": "display_data"
    }
   ],
   "source": [
    "fig, ax = plt.subplots(figsize=(14, 4))\n",
    "plt.title('Distribución de la variable objetivo [charges]', color='white', size=16)\n",
    "\n",
    "fig.patch.set_facecolor('#21252b') \n",
    "ax.set_facecolor('#282c34') \n",
    "\n",
    "plt.hist(df['charges_log_est'], bins=40)\n",
    "\n",
    "plt.xticks(color='white', size=12)\n",
    "ax.tick_params(axis='x', labelcolor='white', color='white')\n",
    "\n",
    "plt.yticks(color='white', size=12)\n",
    "ax.tick_params(axis='y', labelcolor='white', color='white')\n",
    "\n",
    "plt.grid(linewidth=0.1)\n",
    "\n",
    "plt.show()"
   ]
  },
  {
   "cell_type": "code",
   "execution_count": 16,
   "id": "5057af9d-69fc-4a63-862e-52304a0c16eb",
   "metadata": {},
   "outputs": [
    {
     "data": {
      "image/png": "[encoded data removed]",
      "text/plain": [
       "<Figure size 432x288 with 2 Axes>"
      ]
     },
     "metadata": {
      "needs_background": "light"
     },
     "output_type": "display_data"
    }
   ],
   "source": [
    "sns.heatmap(df[['age', 'bmi', 'children', 'charges']].corr(), annot=True)\n",
    "plt.show()"
   ]
  },
  {
   "cell_type": "code",
   "execution_count": 17,
   "id": "02b8f1f0-03eb-4810-9900-50ffb2d5a8e7",
   "metadata": {},
   "outputs": [
    {
     "data": {
      "image/png": "[encoded data removed]",
      "text/plain": [
       "<Figure size 432x288 with 2 Axes>"
      ]
     },
     "metadata": {
      "needs_background": "light"
     },
     "output_type": "display_data"
    }
   ],
   "source": [
    "sns.heatmap(df[['age', 'bmi', 'children', 'charges_log']].corr(), annot=True)\n",
    "plt.show()"
   ]
  },
  {
   "cell_type": "markdown",
   "id": "29d61c58-2a37-4901-ac4a-bae013bf63fe",
   "metadata": {},
   "source": [
    "### **Analizamos las variables explicativas**"
   ]
  },
  {
   "cell_type": "markdown",
   "id": "a90dfb7b-12b0-4c4e-9605-f86459a738a1",
   "metadata": {},
   "source": [
    "#### **1.Edad**"
   ]
  },
  {
   "cell_type": "code",
   "execution_count": 30,
   "id": "2c20807a-fcb7-4d2b-a176-cc7d2cfcd306",
   "metadata": {},
   "outputs": [
    {
     "data": {
      "image/png": "[encoded data removed]",
      "text/plain": [
       "<Figure size 1008x360 with 1 Axes>"
      ]
     },
     "metadata": {},
     "output_type": "display_data"
    }
   ],
   "source": [
    "fig, ax = plt.subplots(figsize=(14, 5))\n",
    "\n",
    "fig.patch.set_facecolor('#21252b') \n",
    "ax.set_facecolor('#282c34') \n",
    "\n",
    "plt.hist(df['age'])\n",
    "# plt.hist(df['age'].apply(lambda x: np.log(x)))\n",
    "\n",
    "plt.xticks(color='white', size=12)\n",
    "ax.tick_params(axis='x', labelcolor='white', color='white')\n",
    "\n",
    "plt.yticks(color='white', size=12)\n",
    "ax.tick_params(axis='y', labelcolor='white', color='white')\n",
    "\n",
    "plt.grid(linewidth=0.1)\n",
    "\n",
    "plt.show()"
   ]
  },
  {
   "cell_type": "code",
   "execution_count": 62,
   "id": "ab9e4c1c-6f7c-4ccf-8020-abb2325543fc",
   "metadata": {},
   "outputs": [],
   "source": [
    "df['age_log']=df['age'].apply(lambda x: np.log(x))"
   ]
  },
  {
   "cell_type": "code",
   "execution_count": 64,
   "id": "e18675c5-b528-4f06-b01b-a81c7370d4c9",
   "metadata": {},
   "outputs": [
    {
     "data": {
      "text/plain": [
       "StandardScaler()"
      ]
     },
     "execution_count": 64,
     "metadata": {},
     "output_type": "execute_result"
    }
   ],
   "source": [
    "standarScaler = StandardScaler()\n",
    "standarScaler.fit(np.array(df['age_log']).reshape(-1, 1))"
   ]
  },
  {
   "cell_type": "code",
   "execution_count": 65,
   "id": "198d4e8b-3ee7-40c6-a52d-18d74594b772",
   "metadata": {},
   "outputs": [],
   "source": [
    "df['age_log_est'] = standarScaler.transform(np.array(df['age_log']).reshape(-1, 1))"
   ]
  },
  {
   "cell_type": "markdown",
   "id": "b4234e66-6f23-4ff3-aaf2-4261e3d9500c",
   "metadata": {},
   "source": [
    "#### **2.Sexo**"
   ]
  },
  {
   "cell_type": "code",
   "execution_count": 69,
   "id": "36b479ca-cabb-440f-b4da-a66be79bcc99",
   "metadata": {},
   "outputs": [],
   "source": [
    "df_sex = pd.get_dummies(df['sex']).reset_index()"
   ]
  },
  {
   "cell_type": "code",
   "execution_count": 70,
   "id": "0845cd39-90f0-4527-a68c-c46c9e7bebd8",
   "metadata": {},
   "outputs": [],
   "source": [
    "df = pd.merge(df.reset_index(), df_sex, how='left', left_on='index', right_on='index').drop('index', axis=1)"
   ]
  },
  {
   "cell_type": "code",
   "execution_count": 22,
   "id": "01f87c71-23e6-42c3-95e1-33500d0569b5",
   "metadata": {},
   "outputs": [
    {
     "data": {
      "image/png": "[encoded data removed]",
      "text/plain": [
       "<Figure size 504x288 with 1 Axes>"
      ]
     },
     "metadata": {},
     "output_type": "display_data"
    }
   ],
   "source": [
    "names = ['Femenino', 'Masculino']\n",
    "values = [df.groupby('sex')[['ID']].count().loc['female']['ID'], df.groupby('sex')[['ID']].count().loc['male']['ID']]\n",
    "\n",
    "fig, ax = plt.subplots(figsize=(7, 4))\n",
    "\n",
    "plt.title('Sexo [sex]', fontsize=14 ,color='white')\n",
    "\n",
    "fig.patch.set_facecolor('#21252b')\n",
    "ax.set_facecolor('#282c34')\n",
    "\n",
    "plt.bar(names, height=values, width=0.8)\n",
    "\n",
    "plt.xticks(color='white', fontsize=12)\n",
    "ax.tick_params(axis='x', color='white')\n",
    "\n",
    "plt.yticks(color='white', fontsize=12)\n",
    "plt.tick_params(axis='y', color='white')\n",
    "\n",
    "plt.grid(linewidth=0.1)\n",
    "plt.show()"
   ]
  },
  {
   "cell_type": "markdown",
   "id": "c69838b9-1ffb-4258-810e-a0d68a4c482f",
   "metadata": {},
   "source": [
    "#### **3.Indice de masa corporal**"
   ]
  },
  {
   "cell_type": "code",
   "execution_count": 75,
   "id": "51d39407-11a5-46a9-a9be-c4fb46ed4df0",
   "metadata": {},
   "outputs": [
    {
     "data": {
      "image/png": "[encoded data removed]",
      "text/plain": [
       "<Figure size 1008x288 with 1 Axes>"
      ]
     },
     "metadata": {},
     "output_type": "display_data"
    }
   ],
   "source": [
    "fig, ax = plt.subplots(figsize = (14, 4))\n",
    "plt.title('Indice de masa corporal [bmi]', fontsize=14, color='white')\n",
    "\n",
    "fig.patch.set_facecolor('#21252b') \n",
    "ax.set_facecolor('#282c34') \n",
    "\n",
    "plt.hist(df['bmi'], bins=40)\n",
    "\n",
    "plt.yticks(color='white', size=12)\n",
    "ax.tick_params(axis='x', labelcolor='white', color='white')\n",
    "\n",
    "plt.yticks(color='white', size=12)\n",
    "ax.tick_params(axis='y', labelcolor='white', color='white')\n",
    "\n",
    "plt.grid(linewidth=0.1)\n",
    "\n",
    "plt.show()"
   ]
  },
  {
   "cell_type": "code",
   "execution_count": 71,
   "id": "f14ac3f9-02f2-403c-ad6a-6d497594218b",
   "metadata": {},
   "outputs": [
    {
     "data": {
      "text/plain": [
       "StandardScaler()"
      ]
     },
     "execution_count": 71,
     "metadata": {},
     "output_type": "execute_result"
    }
   ],
   "source": [
    "standarScaler = StandardScaler()\n",
    "standarScaler.fit(np.array(df['bmi']).reshape(-1, 1))"
   ]
  },
  {
   "cell_type": "code",
   "execution_count": 72,
   "id": "6a5589b3-60e3-48ee-a80d-2d559330232a",
   "metadata": {},
   "outputs": [],
   "source": [
    "df['bmi_est'] = standarScaler.transform(np.array(df['bmi']).reshape(-1, 1))"
   ]
  },
  {
   "cell_type": "markdown",
   "id": "97cf384c-5f4a-4a1e-aff8-786d57509a91",
   "metadata": {},
   "source": [
    "#### **4.Número de hijos**"
   ]
  },
  {
   "cell_type": "code",
   "execution_count": 24,
   "id": "d4860d7d-f55a-445c-8ae7-114a143cbbe7",
   "metadata": {},
   "outputs": [
    {
     "data": {
      "image/png": "[encoded data removed]",
      "text/plain": [
       "<Figure size 1008x288 with 1 Axes>"
      ]
     },
     "metadata": {},
     "output_type": "display_data"
    }
   ],
   "source": [
    "names = ['Sin hijos', '1 hijo', '2 hijos', '3 hijos', '4 hijos', '5 hijos']\n",
    "values = [\n",
    "    df.groupby('children')[['ID']].count().loc[0]['ID'], \n",
    "    df.groupby('children')[['ID']].count().loc[1]['ID'], \n",
    "    df.groupby('children')[['ID']].count().loc[2]['ID'], \n",
    "    df.groupby('children')[['ID']].count().loc[3]['ID'], \n",
    "    df.groupby('children')[['ID']].count().loc[4]['ID'], \n",
    "    df.groupby('children')[['ID']].count().loc[5]['ID'], \n",
    "]\n",
    "\n",
    "fig, ax = plt.subplots(figsize=(14, 4))\n",
    "\n",
    "plt.title('Número de hijos [children]', fontsize=14 ,color='white')\n",
    "\n",
    "fig.patch.set_facecolor('#21252b')\n",
    "ax.set_facecolor('#282c34')\n",
    "\n",
    "plt.bar(names, height=values, width=0.8)\n",
    "\n",
    "plt.xticks(color='white', fontsize=12)\n",
    "ax.tick_params(axis='x', color='white')\n",
    "\n",
    "plt.yticks(color='white', fontsize=12)\n",
    "plt.tick_params(axis='y', color='white')\n",
    "\n",
    "plt.grid(linewidth=0.1)\n",
    "plt.show()"
   ]
  },
  {
   "cell_type": "code",
   "execution_count": 77,
   "id": "5b9b4fa8-88f6-46d1-adf2-7096bc424661",
   "metadata": {},
   "outputs": [],
   "source": [
    "df_children = pd.get_dummies(df['children']).reset_index()"
   ]
  },
  {
   "cell_type": "code",
   "execution_count": 82,
   "id": "98523f00-0bf0-4abe-aa72-3ad25de5f85d",
   "metadata": {},
   "outputs": [],
   "source": [
    "df_children.columns = ['index', 'Sin hijos', '1 hijo', '2 hijos', '3 hijos', '4 hijos', '5 hijos']"
   ]
  },
  {
   "cell_type": "code",
   "execution_count": 83,
   "id": "d317b23b-4e9d-4924-a093-21c97a3e9fa0",
   "metadata": {},
   "outputs": [],
   "source": [
    "df = pd.merge(df.reset_index(), df_children, how='left', left_on='index', right_on='index').drop('index', axis=1)"
   ]
  },
  {
   "cell_type": "markdown",
   "id": "62e6b307-02a9-43b7-8532-8242d509e024",
   "metadata": {},
   "source": [
    "#### **5. Fumador - No Fumador**"
   ]
  },
  {
   "cell_type": "code",
   "execution_count": 37,
   "id": "ca193fe8-644d-47bf-90a1-f6f98d5b58be",
   "metadata": {},
   "outputs": [
    {
     "data": {
      "text/html": [
       "<div>\n",
       "<style scoped>\n",
       "    .dataframe tbody tr th:only-of-type {\n",
       "        vertical-align: middle;\n",
       "    }\n",
       "\n",
       "    .dataframe tbody tr th {\n",
       "        vertical-align: top;\n",
       "    }\n",
       "\n",
       "    .dataframe thead th {\n",
       "        text-align: right;\n",
       "    }\n",
       "</style>\n",
       "<table border=\"1\" class=\"dataframe\">\n",
       "  <thead>\n",
       "    <tr style=\"text-align: right;\">\n",
       "      <th></th>\n",
       "      <th>ID</th>\n",
       "    </tr>\n",
       "    <tr>\n",
       "      <th>smoker</th>\n",
       "      <th></th>\n",
       "    </tr>\n",
       "  </thead>\n",
       "  <tbody>\n",
       "    <tr>\n",
       "      <th>no</th>\n",
       "      <td>1064</td>\n",
       "    </tr>\n",
       "    <tr>\n",
       "      <th>yes</th>\n",
       "      <td>274</td>\n",
       "    </tr>\n",
       "  </tbody>\n",
       "</table>\n",
       "</div>"
      ],
      "text/plain": [
       "          ID\n",
       "smoker      \n",
       "no      1064\n",
       "yes      274"
      ]
     },
     "execution_count": 37,
     "metadata": {},
     "output_type": "execute_result"
    }
   ],
   "source": [
    "df.groupby(['smoker'])[['ID']].count()"
   ]
  },
  {
   "cell_type": "code",
   "execution_count": 38,
   "id": "512ff195-132a-4dd3-b4de-68f19a7ef523",
   "metadata": {},
   "outputs": [
    {
     "data": {
      "image/png": "[encoded data removed]",
      "text/plain": [
       "<Figure size 504x288 with 1 Axes>"
      ]
     },
     "metadata": {},
     "output_type": "display_data"
    }
   ],
   "source": [
    "names = ['Fumador', 'No Fumador']\n",
    "values = [df.groupby('smoker')[['ID']].count().loc['yes']['ID'], df.groupby('smoker')[['ID']].count().loc['no']['ID']]\n",
    "\n",
    "fig, ax = plt.subplots(figsize=(7, 4))\n",
    "\n",
    "plt.title('Fumador [smoker]', fontsize=14 ,color='white')\n",
    "\n",
    "fig.patch.set_facecolor('#21252b')\n",
    "ax.set_facecolor('#282c34')\n",
    "\n",
    "plt.bar(names, height=values, width=0.8)\n",
    "\n",
    "plt.xticks(color='white', fontsize=12)\n",
    "ax.tick_params(axis='x', color='white')\n",
    "\n",
    "plt.yticks(color='white', fontsize=12)\n",
    "plt.tick_params(axis='y', color='white')\n",
    "\n",
    "plt.grid(linewidth=0.1)\n",
    "\n",
    "plt.show()"
   ]
  },
  {
   "cell_type": "code",
   "execution_count": 85,
   "id": "31dd3366-c072-4cf5-b94a-37a2cc4e65c1",
   "metadata": {},
   "outputs": [],
   "source": [
    "df_smoker = pd.get_dummies(df['smoker']).reset_index()"
   ]
  },
  {
   "cell_type": "code",
   "execution_count": 87,
   "id": "fd2c001f-2a00-4702-b68e-b56b54d32a9e",
   "metadata": {},
   "outputs": [],
   "source": [
    "df_smoker.columns = ['index', 'No smoker', 'Smoker']"
   ]
  },
  {
   "cell_type": "code",
   "execution_count": 88,
   "id": "d80615e2-ae8f-4f09-896e-f84ef262d1c2",
   "metadata": {},
   "outputs": [],
   "source": [
    "df = pd.merge(df.reset_index(), df_smoker, how='left', left_on='index', right_on='index').drop('index', axis=1)"
   ]
  },
  {
   "cell_type": "markdown",
   "id": "5e3f0ce3-b282-41d8-8d46-70e8f214f620",
   "metadata": {},
   "source": [
    "#### **6. Region**"
   ]
  },
  {
   "cell_type": "code",
   "execution_count": 44,
   "id": "c7309ca8-233b-46c0-84a9-1ea746b7573e",
   "metadata": {},
   "outputs": [
    {
     "data": {
      "text/html": [
       "<div>\n",
       "<style scoped>\n",
       "    .dataframe tbody tr th:only-of-type {\n",
       "        vertical-align: middle;\n",
       "    }\n",
       "\n",
       "    .dataframe tbody tr th {\n",
       "        vertical-align: top;\n",
       "    }\n",
       "\n",
       "    .dataframe thead th {\n",
       "        text-align: right;\n",
       "    }\n",
       "</style>\n",
       "<table border=\"1\" class=\"dataframe\">\n",
       "  <thead>\n",
       "    <tr style=\"text-align: right;\">\n",
       "      <th></th>\n",
       "      <th>ID</th>\n",
       "    </tr>\n",
       "    <tr>\n",
       "      <th>region</th>\n",
       "      <th></th>\n",
       "    </tr>\n",
       "  </thead>\n",
       "  <tbody>\n",
       "    <tr>\n",
       "      <th>northeast</th>\n",
       "      <td>324</td>\n",
       "    </tr>\n",
       "    <tr>\n",
       "      <th>northwest</th>\n",
       "      <td>325</td>\n",
       "    </tr>\n",
       "    <tr>\n",
       "      <th>southeast</th>\n",
       "      <td>364</td>\n",
       "    </tr>\n",
       "    <tr>\n",
       "      <th>southwest</th>\n",
       "      <td>325</td>\n",
       "    </tr>\n",
       "  </tbody>\n",
       "</table>\n",
       "</div>"
      ],
      "text/plain": [
       "            ID\n",
       "region        \n",
       "northeast  324\n",
       "northwest  325\n",
       "southeast  364\n",
       "southwest  325"
      ]
     },
     "execution_count": 44,
     "metadata": {},
     "output_type": "execute_result"
    }
   ],
   "source": [
    "df.groupby(['region'])[['ID']].count()"
   ]
  },
  {
   "cell_type": "code",
   "execution_count": 51,
   "id": "bd00117d-737c-4d17-9543-0c7f6b32064f",
   "metadata": {},
   "outputs": [
    {
     "data": {
      "text/plain": [
       "324"
      ]
     },
     "execution_count": 51,
     "metadata": {},
     "output_type": "execute_result"
    }
   ],
   "source": [
    "df.groupby('region')[['ID']].count().reset_index().loc[0]['ID']"
   ]
  },
  {
   "cell_type": "code",
   "execution_count": 52,
   "id": "2963ec96-cf91-4e5d-8b1b-9f134ae53c51",
   "metadata": {},
   "outputs": [
    {
     "data": {
      "image/png": "[encoded data removed]",
      "text/plain": [
       "<Figure size 1008x288 with 1 Axes>"
      ]
     },
     "metadata": {},
     "output_type": "display_data"
    }
   ],
   "source": [
    "names = ['Northeast', 'Northwest', 'Southeast', 'Southwest']\n",
    "values = [\n",
    "    df.groupby('region')[['ID']].count().reset_index().loc[0]['ID'], \n",
    "    df.groupby('region')[['ID']].count().reset_index().loc[1]['ID'], \n",
    "    df.groupby('region')[['ID']].count().reset_index().loc[2]['ID'], \n",
    "    df.groupby('region')[['ID']].count().reset_index().loc[3]['ID'] \n",
    "]\n",
    "\n",
    "fig, ax = plt.subplots(figsize=(14, 4))\n",
    "\n",
    "plt.title('Region [region]', fontsize=14 ,color='white')\n",
    "\n",
    "fig.patch.set_facecolor('#21252b')\n",
    "ax.set_facecolor('#282c34')\n",
    "\n",
    "plt.bar(names, height=values, width=0.8)\n",
    "\n",
    "plt.xticks(color='white', fontsize=12)\n",
    "ax.tick_params(axis='x', color='white')\n",
    "\n",
    "plt.yticks(color='white', fontsize=12)\n",
    "plt.tick_params(axis='y', color='white')\n",
    "\n",
    "plt.grid(linewidth=0.1)\n",
    "plt.show()"
   ]
  },
  {
   "cell_type": "code",
   "execution_count": 90,
   "id": "63d156bb-6745-4dac-9082-eaa068f9c055",
   "metadata": {},
   "outputs": [],
   "source": [
    "df_region = pd.get_dummies(df['region']).reset_index()"
   ]
  },
  {
   "cell_type": "code",
   "execution_count": 92,
   "id": "50d8204c-9ecb-4d53-a29c-3c4a8bc0d04b",
   "metadata": {},
   "outputs": [],
   "source": [
    "df = pd.merge(df.reset_index(), df_region, how='left', left_on='index', right_on='index').drop('index', axis=1)"
   ]
  },
  {
   "cell_type": "markdown",
   "id": "845e8789-e921-495b-a565-ca9df136985a",
   "metadata": {},
   "source": [
    "## **Modelo de Regresión Lineal**"
   ]
  },
  {
   "cell_type": "markdown",
   "id": "7c518df8-ce34-400b-b4dc-1e0ad35cd02c",
   "metadata": {},
   "source": [
    "### **Entrenamiento del modelo**"
   ]
  },
  {
   "cell_type": "code",
   "execution_count": 99,
   "id": "742ab3ab-7456-46e5-896c-922a8200523d",
   "metadata": {},
   "outputs": [],
   "source": [
    "df_model = df[[\n",
    "    'age_log_est',\n",
    "    'female',\n",
    "    'male',\n",
    "    'bmi_est',\n",
    "    'Sin hijos',\n",
    "    '1 hijo',\n",
    "    '2 hijos',\n",
    "    '3 hijos',\n",
    "    '4 hijos',\n",
    "    '5 hijos',\n",
    "    'No smoker',\n",
    "    'Smoker',\n",
    "    'northeast',\n",
    "    'northwest',\n",
    "    'southeast',\n",
    "    'southwest',\n",
    "    'charges_log_est'\n",
    "]].copy()"
   ]
  },
  {
   "cell_type": "code",
   "execution_count": 104,
   "id": "fc6b3d4f-5fde-41fe-ab11-d5f5f4c0d354",
   "metadata": {},
   "outputs": [],
   "source": [
    "X = df_model.drop('charges_log_est', axis=1)\n",
    "y = df_model['charges_log_est']"
   ]
  },
  {
   "cell_type": "code",
   "execution_count": 105,
   "id": "a8359ebe-078f-4255-8166-220c0460831e",
   "metadata": {},
   "outputs": [],
   "source": [
    "X_train, X_test, y_train, y_test = train_test_split(X, y, test_size=0.2, random_state=13)"
   ]
  },
  {
   "cell_type": "code",
   "execution_count": 112,
   "id": "371c45c2-31f2-47c6-8159-224c23b3579e",
   "metadata": {},
   "outputs": [
    {
     "data": {
      "text/plain": [
       "LinearRegression()"
      ]
     },
     "execution_count": 112,
     "metadata": {},
     "output_type": "execute_result"
    }
   ],
   "source": [
    "model = LinearRegression()\n",
    "model.fit(X_train, y_train)"
   ]
  },
  {
   "cell_type": "markdown",
   "id": "9b5305b0-3af1-417f-8077-4654c5c94ffe",
   "metadata": {},
   "source": [
    "### **Feature Importance**"
   ]
  },
  {
   "cell_type": "code",
   "execution_count": 151,
   "id": "d2e76a04-0f15-44e9-837f-269473ddc0a4",
   "metadata": {},
   "outputs": [
    {
     "data": {
      "text/html": [
       "<div>\n",
       "<style scoped>\n",
       "    .dataframe tbody tr th:only-of-type {\n",
       "        vertical-align: middle;\n",
       "    }\n",
       "\n",
       "    .dataframe tbody tr th {\n",
       "        vertical-align: top;\n",
       "    }\n",
       "\n",
       "    .dataframe thead th {\n",
       "        text-align: right;\n",
       "    }\n",
       "</style>\n",
       "<table border=\"1\" class=\"dataframe\">\n",
       "  <thead>\n",
       "    <tr style=\"text-align: right;\">\n",
       "      <th></th>\n",
       "      <th>Variable</th>\n",
       "      <th>Importance</th>\n",
       "    </tr>\n",
       "  </thead>\n",
       "  <tbody>\n",
       "    <tr>\n",
       "      <th>11</th>\n",
       "      <td>Smoker</td>\n",
       "      <td>0.833829</td>\n",
       "    </tr>\n",
       "    <tr>\n",
       "      <th>0</th>\n",
       "      <td>age_log_est</td>\n",
       "      <td>0.521974</td>\n",
       "    </tr>\n",
       "    <tr>\n",
       "      <th>8</th>\n",
       "      <td>4 hijos</td>\n",
       "      <td>0.224111</td>\n",
       "    </tr>\n",
       "    <tr>\n",
       "      <th>9</th>\n",
       "      <td>5 hijos</td>\n",
       "      <td>0.137315</td>\n",
       "    </tr>\n",
       "    <tr>\n",
       "      <th>12</th>\n",
       "      <td>northeast</td>\n",
       "      <td>0.094419</td>\n",
       "    </tr>\n",
       "    <tr>\n",
       "      <th>3</th>\n",
       "      <td>bmi_est</td>\n",
       "      <td>0.091332</td>\n",
       "    </tr>\n",
       "    <tr>\n",
       "      <th>1</th>\n",
       "      <td>female</td>\n",
       "      <td>0.034820</td>\n",
       "    </tr>\n",
       "    <tr>\n",
       "      <th>6</th>\n",
       "      <td>2 hijos</td>\n",
       "      <td>0.032051</td>\n",
       "    </tr>\n",
       "    <tr>\n",
       "      <th>13</th>\n",
       "      <td>northwest</td>\n",
       "      <td>0.029513</td>\n",
       "    </tr>\n",
       "    <tr>\n",
       "      <th>7</th>\n",
       "      <td>3 hijos</td>\n",
       "      <td>-0.024348</td>\n",
       "    </tr>\n",
       "    <tr>\n",
       "      <th>2</th>\n",
       "      <td>male</td>\n",
       "      <td>-0.034820</td>\n",
       "    </tr>\n",
       "    <tr>\n",
       "      <th>14</th>\n",
       "      <td>southeast</td>\n",
       "      <td>-0.058751</td>\n",
       "    </tr>\n",
       "    <tr>\n",
       "      <th>15</th>\n",
       "      <td>southwest</td>\n",
       "      <td>-0.065180</td>\n",
       "    </tr>\n",
       "    <tr>\n",
       "      <th>5</th>\n",
       "      <td>1 hijo</td>\n",
       "      <td>-0.133320</td>\n",
       "    </tr>\n",
       "    <tr>\n",
       "      <th>4</th>\n",
       "      <td>Sin hijos</td>\n",
       "      <td>-0.235808</td>\n",
       "    </tr>\n",
       "    <tr>\n",
       "      <th>10</th>\n",
       "      <td>No smoker</td>\n",
       "      <td>-0.833829</td>\n",
       "    </tr>\n",
       "  </tbody>\n",
       "</table>\n",
       "</div>"
      ],
      "text/plain": [
       "       Variable  Importance\n",
       "11       Smoker    0.833829\n",
       "0   age_log_est    0.521974\n",
       "8       4 hijos    0.224111\n",
       "9       5 hijos    0.137315\n",
       "12    northeast    0.094419\n",
       "3       bmi_est    0.091332\n",
       "1        female    0.034820\n",
       "6       2 hijos    0.032051\n",
       "13    northwest    0.029513\n",
       "7       3 hijos   -0.024348\n",
       "2          male   -0.034820\n",
       "14    southeast   -0.058751\n",
       "15    southwest   -0.065180\n",
       "5        1 hijo   -0.133320\n",
       "4     Sin hijos   -0.235808\n",
       "10    No smoker   -0.833829"
      ]
     },
     "execution_count": 151,
     "metadata": {},
     "output_type": "execute_result"
    }
   ],
   "source": [
    "a = pd.DataFrame(enumerate(model.coef_))\n",
    "a.columns = ['Variable', 'Importance']\n",
    "\n",
    "a['Variable'] = a['Variable'].apply(lambda x: list(X)[x])\n",
    "a.sort_values('Importance', ascending=False)"
   ]
  },
  {
   "cell_type": "markdown",
   "id": "7e956fc3-38d0-47a7-8b5c-f24d52bc1e46",
   "metadata": {},
   "source": [
    "### **Resultados del modelo**"
   ]
  },
  {
   "cell_type": "code",
   "execution_count": 113,
   "id": "97a7279f-6846-4505-9057-6485767dc9e7",
   "metadata": {},
   "outputs": [],
   "source": [
    "y_predict = model.predict(X_test)"
   ]
  },
  {
   "cell_type": "markdown",
   "id": "199dca08-8771-4db2-9ae3-813035071ec0",
   "metadata": {},
   "source": [
    "**R2**"
   ]
  },
  {
   "cell_type": "code",
   "execution_count": 154,
   "id": "dd77d7a2-eaa1-42c7-988f-4b3d6c262adb",
   "metadata": {},
   "outputs": [],
   "source": [
    "r2 = r2_score(y_test, y_predict)"
   ]
  },
  {
   "cell_type": "code",
   "execution_count": 155,
   "id": "9de89d17-6eb4-46d3-832b-a80bb633b6fa",
   "metadata": {},
   "outputs": [
    {
     "name": "stdout",
     "output_type": "stream",
     "text": [
      "La presición del modelo es del 84.0%\n"
     ]
    }
   ],
   "source": [
    "print(f'La presición del modelo es del {round(r2, 2)*100}%')"
   ]
  },
  {
   "cell_type": "markdown",
   "id": "e00ed18b-a7dc-4473-9350-44bf7dd8dd74",
   "metadata": {},
   "source": [
    "**MSE**"
   ]
  },
  {
   "cell_type": "code",
   "execution_count": 152,
   "id": "a92eb2fd-9199-43b7-83a3-a114ee67b38c",
   "metadata": {},
   "outputs": [],
   "source": [
    "mse = round(mean_squared_error(y_test, y_predict), 2)"
   ]
  },
  {
   "cell_type": "code",
   "execution_count": 153,
   "id": "8815e4e6-1bfe-48e1-a35b-281fa4ef8724",
   "metadata": {},
   "outputs": [
    {
     "name": "stdout",
     "output_type": "stream",
     "text": [
      "El error cuadratico medio del modelo es de 0.16\n"
     ]
    }
   ],
   "source": [
    "print(f'El error cuadratico medio del modelo es de {mse}')"
   ]
  }
 ],
 "metadata": {
  "kernelspec": {
   "display_name": "Python 3 (ipykernel)",
   "language": "python",
   "name": "python3"
  },
  "language_info": {
   "codemirror_mode": {
    "name": "ipython",
    "version": 3
   },
   "file_extension": ".py",
   "mimetype": "text/x-python",
   "name": "python",
   "nbconvert_exporter": "python",
   "pygments_lexer": "ipython3",
   "version": "3.8.12"
  }
 },
 "nbformat": 4,
 "nbformat_minor": 5
}
