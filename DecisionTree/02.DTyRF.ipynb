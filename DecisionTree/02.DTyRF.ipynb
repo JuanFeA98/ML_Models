{
 "cells": [
  {
   "cell_type": "markdown",
   "id": "efd24530-b960-47f7-a7ad-1c43f0e090ba",
   "metadata": {},
   "source": [
    "# **Decision Tree y Random Forest**"
   ]
  },
  {
   "cell_type": "markdown",
   "id": "ab8a5ec3-223f-45d6-ae85-4796d55a479d",
   "metadata": {},
   "source": [
    "## **Librerías**"
   ]
  },
  {
   "cell_type": "code",
   "execution_count": 1,
   "id": "8abc2239-71dc-4e93-a71b-bbbbb67dce7d",
   "metadata": {},
   "outputs": [],
   "source": [
    "import pandas as pd\n",
    "import numpy as np\n",
    "import matplotlib.pyplot as plt\n",
    "import seaborn as sns"
   ]
  },
  {
   "cell_type": "code",
   "execution_count": 2,
   "id": "d8319144-3135-4985-9ada-f35b4f7f1a07",
   "metadata": {},
   "outputs": [],
   "source": [
    "pd.options.display.max_columns = False"
   ]
  },
  {
   "cell_type": "code",
   "execution_count": 54,
   "id": "479498ad-9e1f-4242-a604-8340593e8602",
   "metadata": {},
   "outputs": [],
   "source": [
    "import category_encoders as ce"
   ]
  },
  {
   "cell_type": "code",
   "execution_count": 46,
   "id": "20c38299-102e-4a23-b615-8e58b477aeaf",
   "metadata": {},
   "outputs": [],
   "source": [
    "from sklearn.model_selection import train_test_split\n",
    "\n",
    "from sklearn.tree import DecisionTreeClassifier\n",
    "\n",
    "from sklearn.metrics import classification_report, confusion_matrix, accuracy_score"
   ]
  },
  {
   "cell_type": "markdown",
   "id": "64cd64df-4858-4424-b974-7d242f6368bf",
   "metadata": {},
   "source": [
    "## **1. Datos**"
   ]
  },
  {
   "cell_type": "code",
   "execution_count": 30,
   "id": "c0b6b850-b9bd-4fd8-b063-5ac9cb351ce5",
   "metadata": {},
   "outputs": [],
   "source": [
    "df = pd.read_csv('./Datos/car_evaluation.csv', header=None)"
   ]
  },
  {
   "cell_type": "code",
   "execution_count": 31,
   "id": "7a82b5f2-a599-497c-a993-3d78f2541fb7",
   "metadata": {},
   "outputs": [],
   "source": [
    "df.columns=['buying', 'maint', 'doors', 'persons', 'lug_boot', 'safety', 'class']"
   ]
  },
  {
   "cell_type": "code",
   "execution_count": 32,
   "id": "7842032a-026f-4461-8d7d-7379398b3a57",
   "metadata": {},
   "outputs": [
    {
     "data": {
      "text/html": [
       "<div>\n",
       "<style scoped>\n",
       "    .dataframe tbody tr th:only-of-type {\n",
       "        vertical-align: middle;\n",
       "    }\n",
       "\n",
       "    .dataframe tbody tr th {\n",
       "        vertical-align: top;\n",
       "    }\n",
       "\n",
       "    .dataframe thead th {\n",
       "        text-align: right;\n",
       "    }\n",
       "</style>\n",
       "<table border=\"1\" class=\"dataframe\">\n",
       "  <thead>\n",
       "    <tr style=\"text-align: right;\">\n",
       "      <th></th>\n",
       "      <th>buying</th>\n",
       "      <th>maint</th>\n",
       "      <th>doors</th>\n",
       "      <th>persons</th>\n",
       "      <th>lug_boot</th>\n",
       "      <th>safety</th>\n",
       "      <th>class</th>\n",
       "    </tr>\n",
       "  </thead>\n",
       "  <tbody>\n",
       "    <tr>\n",
       "      <th>1505</th>\n",
       "      <td>low</td>\n",
       "      <td>high</td>\n",
       "      <td>5more</td>\n",
       "      <td>more</td>\n",
       "      <td>small</td>\n",
       "      <td>high</td>\n",
       "      <td>acc</td>\n",
       "    </tr>\n",
       "  </tbody>\n",
       "</table>\n",
       "</div>"
      ],
      "text/plain": [
       "     buying maint  doors persons lug_boot safety class\n",
       "1505    low  high  5more    more    small   high   acc"
      ]
     },
     "execution_count": 32,
     "metadata": {},
     "output_type": "execute_result"
    }
   ],
   "source": [
    "df.sample()"
   ]
  },
  {
   "cell_type": "code",
   "execution_count": 33,
   "id": "ed89b4af-4951-47c5-bf79-3e8ab9a5d545",
   "metadata": {},
   "outputs": [
    {
     "name": "stdout",
     "output_type": "stream",
     "text": [
      "<class 'pandas.core.frame.DataFrame'>\n",
      "RangeIndex: 1728 entries, 0 to 1727\n",
      "Data columns (total 7 columns):\n",
      " #   Column    Non-Null Count  Dtype \n",
      "---  ------    --------------  ----- \n",
      " 0   buying    1728 non-null   object\n",
      " 1   maint     1728 non-null   object\n",
      " 2   doors     1728 non-null   object\n",
      " 3   persons   1728 non-null   object\n",
      " 4   lug_boot  1728 non-null   object\n",
      " 5   safety    1728 non-null   object\n",
      " 6   class     1728 non-null   object\n",
      "dtypes: object(7)\n",
      "memory usage: 94.6+ KB\n"
     ]
    }
   ],
   "source": [
    "# Miramos el formato de los datos\n",
    "df.info()"
   ]
  },
  {
   "cell_type": "code",
   "execution_count": 34,
   "id": "e3429e41-4a0d-4aee-a0ab-262ffb2f724e",
   "metadata": {},
   "outputs": [
    {
     "data": {
      "text/plain": [
       "buying      0\n",
       "maint       0\n",
       "doors       0\n",
       "persons     0\n",
       "lug_boot    0\n",
       "safety      0\n",
       "class       0\n",
       "dtype: int64"
      ]
     },
     "execution_count": 34,
     "metadata": {},
     "output_type": "execute_result"
    }
   ],
   "source": [
    "#Buscamos valores nulos\n",
    "df.isnull().sum()"
   ]
  },
  {
   "cell_type": "code",
   "execution_count": 35,
   "id": "49e54803-021e-4293-9d49-5ef669d41c6f",
   "metadata": {},
   "outputs": [
    {
     "data": {
      "text/plain": [
       "class\n",
       "unacc    1210\n",
       "acc       384\n",
       "good       69\n",
       "vgood      65\n",
       "dtype: int64"
      ]
     },
     "execution_count": 35,
     "metadata": {},
     "output_type": "execute_result"
    }
   ],
   "source": [
    "# Exploramos nuestra variable objetivo\n",
    "df.value_counts('class')"
   ]
  },
  {
   "cell_type": "markdown",
   "id": "d31f62fe-a896-4fb7-9bfe-1f5030ed40e6",
   "metadata": {},
   "source": [
    "## **2. EDA**"
   ]
  },
  {
   "cell_type": "markdown",
   "id": "aa2e2457-2b13-4aa1-9e72-5eed6fbd5e5e",
   "metadata": {},
   "source": [
    "### **Preparación de los datos**"
   ]
  },
  {
   "cell_type": "code",
   "execution_count": 38,
   "id": "2b3bcc37-f660-459c-a1a1-e99be7c61abe",
   "metadata": {},
   "outputs": [],
   "source": [
    "X = df.drop('class', axis=1)\n",
    "y = df[['class']]"
   ]
  },
  {
   "cell_type": "code",
   "execution_count": 62,
   "id": "2ed0c9db-8d93-4bf7-8f26-d8af5900717c",
   "metadata": {},
   "outputs": [],
   "source": [
    "# Ajustamos el formato de nuestros datos\n",
    "encoder = ce.OrdinalEncoder(cols=X.columns)"
   ]
  },
  {
   "cell_type": "code",
   "execution_count": 67,
   "id": "ebfbb74c-43f9-43cd-844e-9d66674ebacd",
   "metadata": {},
   "outputs": [],
   "source": [
    "# Aplicamos el encoder\n",
    "X = encoder.fit_transform(X)"
   ]
  },
  {
   "cell_type": "code",
   "execution_count": 68,
   "id": "a2b08369-1cc7-4415-a1c7-f1410f8b26d9",
   "metadata": {},
   "outputs": [],
   "source": [
    "X_train, X_test, y_train, y_test = train_test_split(X, y, train_size=0.7, random_state=13)"
   ]
  },
  {
   "cell_type": "markdown",
   "id": "6a82af0c-6a98-47f8-ad5b-5b2eb4d02fc7",
   "metadata": {},
   "source": [
    "## **3. Modelaje**"
   ]
  },
  {
   "cell_type": "markdown",
   "id": "0439e9ab-303f-4d94-a481-88fb840164dd",
   "metadata": {},
   "source": [
    "### **Inicialización del modelo**"
   ]
  },
  {
   "cell_type": "code",
   "execution_count": 71,
   "id": "5d8ff7d7-e134-4a23-adbb-7aaa29bbce51",
   "metadata": {},
   "outputs": [],
   "source": [
    "dec_tree = DecisionTreeClassifier(\n",
    "    max_depth=3,\n",
    "    random_state=13\n",
    ")"
   ]
  },
  {
   "cell_type": "code",
   "execution_count": 72,
   "id": "8d752d10-240f-4f9a-9e4f-337332e0f831",
   "metadata": {},
   "outputs": [
    {
     "data": {
      "text/plain": [
       "DecisionTreeClassifier(max_depth=3, random_state=13)"
      ]
     },
     "execution_count": 72,
     "metadata": {},
     "output_type": "execute_result"
    }
   ],
   "source": [
    "dec_tree.fit(X_train, y_train)"
   ]
  },
  {
   "cell_type": "markdown",
   "id": "85dc3c44-c9c6-48d4-bd36-12d425463705",
   "metadata": {},
   "source": [
    "#### **Entrenamiento**"
   ]
  },
  {
   "cell_type": "code",
   "execution_count": 73,
   "id": "8378755a-9913-40e0-8e30-e7e3fabc5e19",
   "metadata": {},
   "outputs": [],
   "source": [
    "y_pred_train = dec_tree.predict(X_train)"
   ]
  },
  {
   "cell_type": "code",
   "execution_count": 76,
   "id": "1d41534a-5795-4a5f-8f66-28ce8cf48545",
   "metadata": {},
   "outputs": [
    {
     "data": {
      "text/plain": [
       "0.7923904052936311"
      ]
     },
     "execution_count": 76,
     "metadata": {},
     "output_type": "execute_result"
    }
   ],
   "source": [
    "accuracy_score(y_train, y_pred_train)"
   ]
  },
  {
   "cell_type": "code",
   "execution_count": 79,
   "id": "05268155-198d-4ab6-adab-bb0a4373daa0",
   "metadata": {},
   "outputs": [
    {
     "name": "stdout",
     "output_type": "stream",
     "text": [
      "              precision    recall  f1-score   support\n",
      "\n",
      "         acc       0.53      0.55      0.54       269\n",
      "        good       0.00      0.00      0.00        49\n",
      "       unacc       0.87      0.96      0.91       846\n",
      "       vgood       0.00      0.00      0.00        45\n",
      "\n",
      "    accuracy                           0.79      1209\n",
      "   macro avg       0.35      0.38      0.36      1209\n",
      "weighted avg       0.73      0.79      0.76      1209\n",
      "\n"
     ]
    },
    {
     "name": "stderr",
     "output_type": "stream",
     "text": [
      "C:\\Users\\jmart\\anaconda3\\lib\\site-packages\\sklearn\\metrics\\_classification.py:1318: UndefinedMetricWarning: Precision and F-score are ill-defined and being set to 0.0 in labels with no predicted samples. Use `zero_division` parameter to control this behavior.\n",
      "  _warn_prf(average, modifier, msg_start, len(result))\n",
      "C:\\Users\\jmart\\anaconda3\\lib\\site-packages\\sklearn\\metrics\\_classification.py:1318: UndefinedMetricWarning: Precision and F-score are ill-defined and being set to 0.0 in labels with no predicted samples. Use `zero_division` parameter to control this behavior.\n",
      "  _warn_prf(average, modifier, msg_start, len(result))\n",
      "C:\\Users\\jmart\\anaconda3\\lib\\site-packages\\sklearn\\metrics\\_classification.py:1318: UndefinedMetricWarning: Precision and F-score are ill-defined and being set to 0.0 in labels with no predicted samples. Use `zero_division` parameter to control this behavior.\n",
      "  _warn_prf(average, modifier, msg_start, len(result))\n"
     ]
    }
   ],
   "source": [
    "print(classification_report(y_train, y_pred_train))"
   ]
  },
  {
   "cell_type": "code",
   "execution_count": 84,
   "id": "a64b1e55-6998-450a-a916-3bcfc14308da",
   "metadata": {},
   "outputs": [
    {
     "data": {
      "image/png": "[encoded data removed]",
      "text/plain": [
       "<Figure size 640x480 with 2 Axes>"
      ]
     },
     "metadata": {},
     "output_type": "display_data"
    }
   ],
   "source": [
    "sns.heatmap(confusion_matrix(y_train, y_pred_train)/len(y_train)*100, annot=True)\n",
    "\n",
    "plt.show()"
   ]
  },
  {
   "cell_type": "markdown",
   "id": "3d639922-f0b0-4f1c-85d2-3f6e67df9711",
   "metadata": {},
   "source": [
    "#### **Testeo**"
   ]
  },
  {
   "cell_type": "code",
   "execution_count": 77,
   "id": "2f97104a-21e2-4643-a2b8-243127f4940f",
   "metadata": {},
   "outputs": [],
   "source": [
    "y_pred_test = dec_tree.predict(X_test)"
   ]
  },
  {
   "cell_type": "code",
   "execution_count": 78,
   "id": "0931bbc4-17db-40b7-811a-c657c744e985",
   "metadata": {},
   "outputs": [
    {
     "data": {
      "text/plain": [
       "0.789980732177264"
      ]
     },
     "execution_count": 78,
     "metadata": {},
     "output_type": "execute_result"
    }
   ],
   "source": [
    "accuracy_score(y_test, y_pred_test)"
   ]
  },
  {
   "cell_type": "code",
   "execution_count": 80,
   "id": "f726cf4f-eb7a-4006-b3d5-c21131dd9243",
   "metadata": {},
   "outputs": [
    {
     "name": "stdout",
     "output_type": "stream",
     "text": [
      "              precision    recall  f1-score   support\n",
      "\n",
      "         acc       0.53      0.49      0.51       115\n",
      "        good       0.00      0.00      0.00        20\n",
      "       unacc       0.86      0.97      0.91       364\n",
      "       vgood       0.00      0.00      0.00        20\n",
      "\n",
      "    accuracy                           0.79       519\n",
      "   macro avg       0.35      0.36      0.35       519\n",
      "weighted avg       0.72      0.79      0.75       519\n",
      "\n"
     ]
    },
    {
     "name": "stderr",
     "output_type": "stream",
     "text": [
      "C:\\Users\\jmart\\anaconda3\\lib\\site-packages\\sklearn\\metrics\\_classification.py:1318: UndefinedMetricWarning: Precision and F-score are ill-defined and being set to 0.0 in labels with no predicted samples. Use `zero_division` parameter to control this behavior.\n",
      "  _warn_prf(average, modifier, msg_start, len(result))\n",
      "C:\\Users\\jmart\\anaconda3\\lib\\site-packages\\sklearn\\metrics\\_classification.py:1318: UndefinedMetricWarning: Precision and F-score are ill-defined and being set to 0.0 in labels with no predicted samples. Use `zero_division` parameter to control this behavior.\n",
      "  _warn_prf(average, modifier, msg_start, len(result))\n",
      "C:\\Users\\jmart\\anaconda3\\lib\\site-packages\\sklearn\\metrics\\_classification.py:1318: UndefinedMetricWarning: Precision and F-score are ill-defined and being set to 0.0 in labels with no predicted samples. Use `zero_division` parameter to control this behavior.\n",
      "  _warn_prf(average, modifier, msg_start, len(result))\n"
     ]
    }
   ],
   "source": [
    "print(classification_report(y_test, y_pred_test))"
   ]
  },
  {
   "cell_type": "code",
   "execution_count": 85,
   "id": "cc60b4b1-c5d0-401d-8707-6d7950da4ee9",
   "metadata": {},
   "outputs": [
    {
     "data": {
      "image/png": "[encoded data removed]",
      "text/plain": [
       "<Figure size 640x480 with 2 Axes>"
      ]
     },
     "metadata": {},
     "output_type": "display_data"
    }
   ],
   "source": [
    "sns.heatmap(confusion_matrix(y_test, y_pred_test)/len(y_test)*100, annot=True)\n",
    "\n",
    "plt.show()"
   ]
  },
  {
   "cell_type": "code",
   "execution_count": null,
   "id": "977f269a-9d56-461e-b5a0-804f68c960ee",
   "metadata": {},
   "outputs": [],
   "source": []
  }
 ],
 "metadata": {
  "kernelspec": {
   "display_name": "Python 3 (ipykernel)",
   "language": "python",
   "name": "python3"
  },
  "language_info": {
   "codemirror_mode": {
    "name": "ipython",
    "version": 3
   },
   "file_extension": ".py",
   "mimetype": "text/x-python",
   "name": "python",
   "nbconvert_exporter": "python",
   "pygments_lexer": "ipython3",
   "version": "3.9.13"
  }
 },
 "nbformat": 4,
 "nbformat_minor": 5
}
