{
 "cells": [
  {
   "cell_type": "markdown",
   "id": "4c154ae5",
   "metadata": {},
   "source": [
    "## 2. Cargando datos"
   ]
  },
  {
   "cell_type": "markdown",
   "id": "ca9f9031",
   "metadata": {},
   "source": [
    "## Librerias"
   ]
  },
  {
   "cell_type": "code",
   "execution_count": 35,
   "id": "740072c1",
   "metadata": {},
   "outputs": [],
   "source": [
    "import pandas as pd\n",
    "import numpy as np\n",
    "import matplotlib.pyplot as plt"
   ]
  },
  {
   "cell_type": "code",
   "execution_count": 2,
   "id": "3c5107c2",
   "metadata": {},
   "outputs": [],
   "source": [
    "pd.options.display.max_columns = False"
   ]
  },
  {
   "cell_type": "code",
   "execution_count": 3,
   "id": "5da30afa",
   "metadata": {},
   "outputs": [],
   "source": [
    "from sklearn import datasets"
   ]
  },
  {
   "cell_type": "markdown",
   "id": "07a9b170",
   "metadata": {},
   "source": [
    "## 2.1 Cargando un dataset de muestra"
   ]
  },
  {
   "cell_type": "code",
   "execution_count": 4,
   "id": "d25cd5e4",
   "metadata": {},
   "outputs": [],
   "source": [
    "digitos = datasets.load_digits()"
   ]
  },
  {
   "cell_type": "code",
   "execution_count": 5,
   "id": "338ddbd4",
   "metadata": {},
   "outputs": [],
   "source": [
    "features = digitos.data"
   ]
  },
  {
   "cell_type": "code",
   "execution_count": 6,
   "id": "3bd923d1",
   "metadata": {},
   "outputs": [
    {
     "data": {
      "text/plain": [
       "array([[ 0.,  0.,  5., ...,  0.,  0.,  0.],\n",
       "       [ 0.,  0.,  0., ..., 10.,  0.,  0.],\n",
       "       [ 0.,  0.,  0., ..., 16.,  9.,  0.],\n",
       "       ...,\n",
       "       [ 0.,  0.,  1., ...,  6.,  0.,  0.],\n",
       "       [ 0.,  0.,  2., ..., 12.,  0.,  0.],\n",
       "       [ 0.,  0., 10., ..., 12.,  1.,  0.]])"
      ]
     },
     "execution_count": 6,
     "metadata": {},
     "output_type": "execute_result"
    }
   ],
   "source": [
    "features"
   ]
  },
  {
   "cell_type": "code",
   "execution_count": 7,
   "id": "4d0e3d5a",
   "metadata": {},
   "outputs": [
    {
     "data": {
      "text/plain": [
       "array([ 0.,  0.,  5., 13.,  9.,  1.,  0.,  0.,  0.,  0., 13., 15., 10.,\n",
       "       15.,  5.,  0.,  0.,  3., 15.,  2.,  0., 11.,  8.,  0.,  0.,  4.,\n",
       "       12.,  0.,  0.,  8.,  8.,  0.,  0.,  5.,  8.,  0.,  0.,  9.,  8.,\n",
       "        0.,  0.,  4., 11.,  0.,  1., 12.,  7.,  0.,  0.,  2., 14.,  5.,\n",
       "       10., 12.,  0.,  0.,  0.,  0.,  6., 13., 10.,  0.,  0.,  0.])"
      ]
     },
     "execution_count": 7,
     "metadata": {},
     "output_type": "execute_result"
    }
   ],
   "source": [
    "features[0]"
   ]
  },
  {
   "cell_type": "code",
   "execution_count": 8,
   "id": "81c672ee",
   "metadata": {},
   "outputs": [],
   "source": [
    "target = digitos.target"
   ]
  },
  {
   "cell_type": "code",
   "execution_count": 9,
   "id": "490975c4",
   "metadata": {},
   "outputs": [
    {
     "data": {
      "text/plain": [
       "array([0, 1, 2, ..., 8, 9, 8])"
      ]
     },
     "execution_count": 9,
     "metadata": {},
     "output_type": "execute_result"
    }
   ],
   "source": [
    "target"
   ]
  },
  {
   "cell_type": "markdown",
   "id": "ba99a357",
   "metadata": {},
   "source": [
    "## 2.2 Crear una simulación"
   ]
  },
  {
   "cell_type": "code",
   "execution_count": 10,
   "id": "ddf8e98d",
   "metadata": {},
   "outputs": [],
   "source": [
    "from sklearn.datasets import make_regression"
   ]
  },
  {
   "cell_type": "markdown",
   "id": "62311c6e",
   "metadata": {},
   "source": [
    "**Dataset para Regresión Lineal**"
   ]
  },
  {
   "cell_type": "code",
   "execution_count": 11,
   "id": "7f12bd0f",
   "metadata": {},
   "outputs": [],
   "source": [
    "# Generamos una matriz de features, un vector objetivo y los coeficientes\n",
    "features, target, coeficientes = make_regression(\n",
    "    n_samples=100, \n",
    "    n_features=3, \n",
    "    n_informative=3, \n",
    "    n_targets=1,\n",
    "    noise=0.0, \n",
    "    coef=True,\n",
    "    random_state=1\n",
    ")"
   ]
  },
  {
   "cell_type": "code",
   "execution_count": 17,
   "id": "b0054988",
   "metadata": {},
   "outputs": [
    {
     "name": "stdout",
     "output_type": "stream",
     "text": [
      "Matriz de features\n",
      " \n",
      "[[ 1.06354768 -1.42632219  1.02163151]\n",
      " [ 0.23156977  1.49535261  0.33251578]\n",
      " [ 0.15972951  0.83533515 -0.40869554]]\n",
      "\n",
      "Vector Objetivo\n",
      "\n",
      "[1 0 0]\n"
     ]
    }
   ],
   "source": [
    "print('Matriz de features')\n",
    "print(' ')\n",
    "print(features[:3])\n",
    "print('')\n",
    "print('Vector Objetivo')\n",
    "print('')\n",
    "print(target[:3])"
   ]
  },
  {
   "cell_type": "markdown",
   "id": "66d7f22d",
   "metadata": {},
   "source": [
    "**Dataset para Regresión Logistica**"
   ]
  },
  {
   "cell_type": "code",
   "execution_count": 13,
   "id": "22e91683",
   "metadata": {},
   "outputs": [],
   "source": [
    "from sklearn.datasets import make_classification"
   ]
  },
  {
   "cell_type": "code",
   "execution_count": 19,
   "id": "6766b923",
   "metadata": {},
   "outputs": [],
   "source": [
    "features, target = make_classification(\n",
    "    n_samples=100,\n",
    "    n_features=3,\n",
    "    n_informative=3,\n",
    "    n_redundant=0,\n",
    "    n_classes=2,\n",
    "    weights=[0.25, 0.75],\n",
    "    random_state=1\n",
    ")"
   ]
  },
  {
   "cell_type": "code",
   "execution_count": 23,
   "id": "7ae2d606",
   "metadata": {},
   "outputs": [
    {
     "name": "stdout",
     "output_type": "stream",
     "text": [
      "Matriz de features\n",
      " \n",
      "[[ 1.06354768 -1.42632219  1.02163151]\n",
      " [ 0.23156977  1.49535261  0.33251578]\n",
      " [ 0.15972951  0.83533515 -0.40869554]]\n",
      "\n",
      "Vector Objetivo\n",
      "\n",
      "[1 0 0]\n"
     ]
    }
   ],
   "source": [
    "print('Matriz de features')\n",
    "print(' ')\n",
    "print(features[:3])\n",
    "print('')\n",
    "print('Vector Objetivo')\n",
    "print('')\n",
    "print(target[:3])"
   ]
  },
  {
   "cell_type": "markdown",
   "id": "16e23f2f",
   "metadata": {},
   "source": [
    "**Dataset para Clustering**"
   ]
  },
  {
   "cell_type": "code",
   "execution_count": 25,
   "id": "47c880c9",
   "metadata": {},
   "outputs": [],
   "source": [
    "from sklearn.datasets import make_blobs"
   ]
  },
  {
   "cell_type": "code",
   "execution_count": 30,
   "id": "0c7b8889",
   "metadata": {},
   "outputs": [],
   "source": [
    "features, target = make_blobs(\n",
    "    n_samples=100,\n",
    "    n_features=2,\n",
    "    centers=3, \n",
    "    cluster_std=0.5,\n",
    "    shuffle=True,\n",
    "    random_state=1\n",
    ")"
   ]
  },
  {
   "cell_type": "code",
   "execution_count": 31,
   "id": "2fed0d2e",
   "metadata": {},
   "outputs": [
    {
     "name": "stdout",
     "output_type": "stream",
     "text": [
      "Matriz de features\n",
      " \n",
      "[[ -1.22685609   3.25572052]\n",
      " [ -9.57463218  -4.38310652]\n",
      " [-10.71976941  -4.20558148]]\n",
      "\n",
      "Vector Objetivo\n",
      "\n",
      "[0 1 1]\n"
     ]
    }
   ],
   "source": [
    "print('Matriz de features')\n",
    "print(' ')\n",
    "print(features[:3])\n",
    "print('')\n",
    "print('Vector Objetivo')\n",
    "print('')\n",
    "print(target[:3])"
   ]
  },
  {
   "cell_type": "code",
   "execution_count": 49,
   "id": "849b1b04",
   "metadata": {},
   "outputs": [
    {
     "data": {
      "image/png": "[encoded data removed]",
      "text/plain": [
       "<Figure size 640x480 with 1 Axes>"
      ]
     },
     "metadata": {},
     "output_type": "display_data"
    }
   ],
   "source": [
    "plt.scatter(features[:,0], features[:,1], c=target)\n",
    "plt.show()"
   ]
  },
  {
   "cell_type": "markdown",
   "id": "c182a4e2",
   "metadata": {},
   "source": [
    "## 2.3 Cargando un CSV"
   ]
  },
  {
   "cell_type": "code",
   "execution_count": 61,
   "id": "789b3ed7",
   "metadata": {},
   "outputs": [],
   "source": [
    "url = 'https://gist.githubusercontent.com/JuanFeA98/ce470cf42a2b4449a314adef81211bf5/raw/CSS_colors.csv'"
   ]
  },
  {
   "cell_type": "code",
   "execution_count": 62,
   "id": "d324ac54",
   "metadata": {},
   "outputs": [],
   "source": [
    "df = pd.read_csv(url)"
   ]
  },
  {
   "cell_type": "code",
   "execution_count": 63,
   "id": "d8acc657",
   "metadata": {},
   "outputs": [
    {
     "data": {
      "text/html": [
       "<div>\n",
       "<style scoped>\n",
       "    .dataframe tbody tr th:only-of-type {\n",
       "        vertical-align: middle;\n",
       "    }\n",
       "\n",
       "    .dataframe tbody tr th {\n",
       "        vertical-align: top;\n",
       "    }\n",
       "\n",
       "    .dataframe thead th {\n",
       "        text-align: right;\n",
       "    }\n",
       "</style>\n",
       "<table border=\"1\" class=\"dataframe\">\n",
       "  <thead>\n",
       "    <tr style=\"text-align: right;\">\n",
       "      <th></th>\n",
       "      <th>Especificacion</th>\n",
       "      <th>Palabra clave</th>\n",
       "      <th>Valor RGB hexadecimal</th>\n",
       "    </tr>\n",
       "  </thead>\n",
       "  <tbody>\n",
       "    <tr>\n",
       "      <th>0</th>\n",
       "      <td>CSS Level 1</td>\n",
       "      <td>black</td>\n",
       "      <td>#000000</td>\n",
       "    </tr>\n",
       "    <tr>\n",
       "      <th>1</th>\n",
       "      <td>CSS Level 1</td>\n",
       "      <td>silver</td>\n",
       "      <td>#c0c0c0</td>\n",
       "    </tr>\n",
       "    <tr>\n",
       "      <th>2</th>\n",
       "      <td>CSS Level 1</td>\n",
       "      <td>gray</td>\n",
       "      <td>#808080</td>\n",
       "    </tr>\n",
       "    <tr>\n",
       "      <th>3</th>\n",
       "      <td>CSS Level 1</td>\n",
       "      <td>white</td>\n",
       "      <td>#ffffff</td>\n",
       "    </tr>\n",
       "    <tr>\n",
       "      <th>4</th>\n",
       "      <td>CSS Level 1</td>\n",
       "      <td>maroon</td>\n",
       "      <td>#800000</td>\n",
       "    </tr>\n",
       "  </tbody>\n",
       "</table>\n",
       "</div>"
      ],
      "text/plain": [
       "  Especificacion Palabra clave Valor RGB hexadecimal\n",
       "0    CSS Level 1         black               #000000\n",
       "1    CSS Level 1        silver               #c0c0c0\n",
       "2    CSS Level 1          gray               #808080\n",
       "3    CSS Level 1         white               #ffffff\n",
       "4    CSS Level 1        maroon               #800000"
      ]
     },
     "execution_count": 63,
     "metadata": {},
     "output_type": "execute_result"
    }
   ],
   "source": [
    "df.head()"
   ]
  },
  {
   "cell_type": "markdown",
   "id": "9ca94df1",
   "metadata": {},
   "source": [
    "## 2.4 Cargando un archivo de Excel"
   ]
  },
  {
   "cell_type": "code",
   "execution_count": null,
   "id": "600531c7",
   "metadata": {},
   "outputs": [],
   "source": [
    "df = pd.read_excel(url, sheet_name=0, header=1)"
   ]
  },
  {
   "cell_type": "markdown",
   "id": "e73c9adf",
   "metadata": {},
   "source": [
    "## 2.5 Cargano un archivo JSON"
   ]
  },
  {
   "cell_type": "code",
   "execution_count": null,
   "id": "f626e011",
   "metadata": {},
   "outputs": [],
   "source": [
    "df = pd.read_json(url, orient='columns')"
   ]
  },
  {
   "cell_type": "markdown",
   "id": "7a59d826",
   "metadata": {},
   "source": [
    "## 2.6 Consultando una Base de Datos SQL"
   ]
  },
  {
   "cell_type": "code",
   "execution_count": 65,
   "id": "47698fed",
   "metadata": {},
   "outputs": [],
   "source": [
    "from sqlalchemy import create_engine"
   ]
  },
  {
   "cell_type": "code",
   "execution_count": 68,
   "id": "e44b9885",
   "metadata": {},
   "outputs": [],
   "source": [
    "db_con = create_engine('sqlite:////absolute/path/to/file.db')"
   ]
  },
  {
   "cell_type": "code",
   "execution_count": 71,
   "id": "523a291f",
   "metadata": {},
   "outputs": [],
   "source": [
    "df = pd.read_sql('SELECT * FROM DATA', db_con)"
   ]
  }
 ],
 "metadata": {
  "kernelspec": {
   "display_name": "Python 3",
   "language": "python",
   "name": "python3"
  },
  "language_info": {
   "codemirror_mode": {
    "name": "ipython",
    "version": 3
   },
   "file_extension": ".py",
   "mimetype": "text/x-python",
   "name": "python",
   "nbconvert_exporter": "python",
   "pygments_lexer": "ipython3",
   "version": "3.9.6"
  }
 },
 "nbformat": 4,
 "nbformat_minor": 5
}
