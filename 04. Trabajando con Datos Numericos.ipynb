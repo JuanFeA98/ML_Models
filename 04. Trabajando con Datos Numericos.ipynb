{
 "cells": [
  {
   "cell_type": "markdown",
   "id": "9c59109c",
   "metadata": {},
   "source": [
    "# 4. Trabajando con Datos Númericos"
   ]
  },
  {
   "cell_type": "markdown",
   "id": "b025aa85",
   "metadata": {},
   "source": [
    "## Librerias"
   ]
  },
  {
   "cell_type": "code",
   "execution_count": 1,
   "id": "ce58711d",
   "metadata": {},
   "outputs": [],
   "source": [
    "import pandas as pd\n",
    "import numpy as np"
   ]
  },
  {
   "cell_type": "code",
   "execution_count": 2,
   "id": "579fcf7f",
   "metadata": {},
   "outputs": [],
   "source": [
    "from sklearn import preprocessing"
   ]
  },
  {
   "cell_type": "markdown",
   "id": "70cb8ec9",
   "metadata": {},
   "source": [
    "## 4.1 Reescalar features"
   ]
  },
  {
   "cell_type": "code",
   "execution_count": 3,
   "id": "12ce2d51",
   "metadata": {},
   "outputs": [],
   "source": [
    "feature = np.array([\n",
    "    [-500.5],\n",
    "    [-100.1],\n",
    "    [0],\n",
    "    [100.1],\n",
    "    [900.9]\n",
    "])"
   ]
  },
  {
   "cell_type": "code",
   "execution_count": 4,
   "id": "e5ad993a",
   "metadata": {},
   "outputs": [
    {
     "data": {
      "text/plain": [
       "array([[-500.5],\n",
       "       [-100.1],\n",
       "       [   0. ],\n",
       "       [ 100.1],\n",
       "       [ 900.9]])"
      ]
     },
     "execution_count": 4,
     "metadata": {},
     "output_type": "execute_result"
    }
   ],
   "source": [
    "feature"
   ]
  },
  {
   "cell_type": "code",
   "execution_count": 5,
   "id": "58b850be",
   "metadata": {},
   "outputs": [],
   "source": [
    "# Creamos el escalador\n",
    "\n",
    "minmax_scale = preprocessing.MinMaxScaler(feature_range=(0, 1))"
   ]
  },
  {
   "cell_type": "code",
   "execution_count": 6,
   "id": "0f89fae5",
   "metadata": {},
   "outputs": [
    {
     "data": {
      "text/plain": [
       "array([[0.        ],\n",
       "       [0.28571429],\n",
       "       [0.35714286],\n",
       "       [0.42857143],\n",
       "       [1.        ]])"
      ]
     },
     "execution_count": 6,
     "metadata": {},
     "output_type": "execute_result"
    }
   ],
   "source": [
    "# Escalamos nuestros datos\n",
    "\n",
    "scaled_feature = minmax_scale.fit_transform(feature)\n",
    "scaled_feature"
   ]
  },
  {
   "cell_type": "markdown",
   "id": "58ae1221",
   "metadata": {},
   "source": [
    "## 4.2 Estandarizar features"
   ]
  },
  {
   "cell_type": "code",
   "execution_count": 7,
   "id": "ee0cb1e5",
   "metadata": {},
   "outputs": [],
   "source": [
    "feature = np.array([\n",
    "    [-1000.1],\n",
    "    [-200.2],\n",
    "    [500.5],\n",
    "    [600.6],\n",
    "    [9000.9]\n",
    "])"
   ]
  },
  {
   "cell_type": "code",
   "execution_count": 8,
   "id": "d739b9cf",
   "metadata": {},
   "outputs": [],
   "source": [
    "# Creamos el escalador\n",
    "\n",
    "scaler = preprocessing.StandardScaler()"
   ]
  },
  {
   "cell_type": "code",
   "execution_count": 10,
   "id": "101ed284",
   "metadata": {},
   "outputs": [
    {
     "data": {
      "text/plain": [
       "array([[-0.76058269],\n",
       "       [-0.54177196],\n",
       "       [-0.35009716],\n",
       "       [-0.32271504],\n",
       "       [ 1.97516685]])"
      ]
     },
     "execution_count": 10,
     "metadata": {},
     "output_type": "execute_result"
    }
   ],
   "source": [
    "standarized = scaler.fit_transform(feature)\n",
    "standarized"
   ]
  },
  {
   "cell_type": "code",
   "execution_count": 11,
   "id": "a5e19896",
   "metadata": {},
   "outputs": [
    {
     "name": "stdout",
     "output_type": "stream",
     "text": [
      "Mean: 0\n",
      "D. Est: 1\n"
     ]
    }
   ],
   "source": [
    "print(f'Mean: {round(standarized.mean())}')\n",
    "print(f'D. Est: {round(standarized.std())}')"
   ]
  },
  {
   "cell_type": "markdown",
   "id": "360609d5",
   "metadata": {},
   "source": [
    "Si nuestros datos tienen outliers significativos podemos usar un escalador robusto"
   ]
  },
  {
   "cell_type": "code",
   "execution_count": 12,
   "id": "15dbfd0a",
   "metadata": {},
   "outputs": [],
   "source": [
    "robust_scaler = preprocessing.RobustScaler()"
   ]
  },
  {
   "cell_type": "code",
   "execution_count": 13,
   "id": "ce43ceea",
   "metadata": {},
   "outputs": [
    {
     "data": {
      "text/plain": [
       "array([[-1.87387612],\n",
       "       [-0.875     ],\n",
       "       [ 0.        ],\n",
       "       [ 0.125     ],\n",
       "       [10.61488511]])"
      ]
     },
     "execution_count": 13,
     "metadata": {},
     "output_type": "execute_result"
    }
   ],
   "source": [
    "robust_scaler.fit_transform(feature)"
   ]
  },
  {
   "cell_type": "markdown",
   "id": "f7608ab5",
   "metadata": {},
   "source": [
    "## 4.3 Normalizar observaciones"
   ]
  },
  {
   "cell_type": "markdown",
   "id": "a385e88b",
   "metadata": {},
   "source": [
    "**Normalizar:**  Consiste en ajustar los valores medidos en diferentes escalas respecto a una escala común."
   ]
  },
  {
   "cell_type": "code",
   "execution_count": 14,
   "id": "997c5a4c",
   "metadata": {},
   "outputs": [],
   "source": [
    "feature = np.array([\n",
    "    [0.5, 0.5],\n",
    "    [1.1, 3.4],\n",
    "    [1.5, 20.2],\n",
    "    [1.63, 34.4],\n",
    "    [10.9, 3.3]\n",
    "])"
   ]
  },
  {
   "cell_type": "code",
   "execution_count": 15,
   "id": "5c8f8858",
   "metadata": {},
   "outputs": [
    {
     "data": {
      "text/plain": [
       "array([[ 0.5 ,  0.5 ],\n",
       "       [ 1.1 ,  3.4 ],\n",
       "       [ 1.5 , 20.2 ],\n",
       "       [ 1.63, 34.4 ],\n",
       "       [10.9 ,  3.3 ]])"
      ]
     },
     "execution_count": 15,
     "metadata": {},
     "output_type": "execute_result"
    }
   ],
   "source": [
    "feature"
   ]
  },
  {
   "cell_type": "code",
   "execution_count": 16,
   "id": "9feb08a8",
   "metadata": {},
   "outputs": [],
   "source": [
    "# Creamos el normalizador \n",
    "\n",
    "normalizer = preprocessing.Normalizer(norm='l2')"
   ]
  },
  {
   "cell_type": "code",
   "execution_count": 17,
   "id": "3196bb46",
   "metadata": {},
   "outputs": [
    {
     "data": {
      "text/plain": [
       "array([[0.70710678, 0.70710678],\n",
       "       [0.30782029, 0.95144452],\n",
       "       [0.07405353, 0.99725427],\n",
       "       [0.04733062, 0.99887928],\n",
       "       [0.95709822, 0.28976368]])"
      ]
     },
     "execution_count": 17,
     "metadata": {},
     "output_type": "execute_result"
    }
   ],
   "source": [
    "normalizer.transform(feature)"
   ]
  },
  {
   "cell_type": "markdown",
   "id": "541fb70e",
   "metadata": {},
   "source": [
    "## 4.4 Generación de características polinomiales y de interacción"
   ]
  },
  {
   "cell_type": "code",
   "execution_count": 18,
   "id": "06ff19c0",
   "metadata": {},
   "outputs": [],
   "source": [
    "from sklearn.preprocessing import PolynomialFeatures"
   ]
  },
  {
   "cell_type": "code",
   "execution_count": 21,
   "id": "08541dc4",
   "metadata": {},
   "outputs": [],
   "source": [
    "features = np.array([\n",
    "    [2,3],\n",
    "    [2,4],\n",
    "    [2,3]\n",
    "])\n",
    "features"
   ]
  },
  {
   "cell_type": "code",
   "execution_count": 23,
   "id": "3e535419",
   "metadata": {},
   "outputs": [],
   "source": [
    "polynomial_interaction=PolynomialFeatures(degree=2, include_bias=False)"
   ]
  },
  {
   "cell_type": "code",
   "execution_count": 25,
   "id": "03fa508f",
   "metadata": {},
   "outputs": [
    {
     "data": {
      "text/plain": [
       "array([[ 2.,  3.,  4.,  6.,  9.],\n",
       "       [ 2.,  4.,  4.,  8., 16.],\n",
       "       [ 2.,  3.,  4.,  6.,  9.]])"
      ]
     },
     "execution_count": 25,
     "metadata": {},
     "output_type": "execute_result"
    }
   ],
   "source": [
    "polynomial_interaction.fit_transform(features)"
   ]
  },
  {
   "cell_type": "markdown",
   "id": "98bbe691",
   "metadata": {},
   "source": [
    "## 4.5 Transformando caracteristicas"
   ]
  },
  {
   "cell_type": "code",
   "execution_count": 26,
   "id": "6bc36e96",
   "metadata": {},
   "outputs": [],
   "source": [
    "from sklearn.preprocessing import FunctionTransformer"
   ]
  },
  {
   "cell_type": "code",
   "execution_count": 28,
   "id": "160de6ec",
   "metadata": {},
   "outputs": [],
   "source": [
    "def add_ten(x):\n",
    "    return x+10"
   ]
  },
  {
   "cell_type": "code",
   "execution_count": 30,
   "id": "46517daa",
   "metadata": {},
   "outputs": [],
   "source": [
    "ten_transformer = FunctionTransformer(add_ten)"
   ]
  },
  {
   "cell_type": "code",
   "execution_count": 32,
   "id": "053ef8e4",
   "metadata": {},
   "outputs": [
    {
     "data": {
      "text/plain": [
       "array([[12, 13],\n",
       "       [12, 14],\n",
       "       [12, 13]])"
      ]
     },
     "execution_count": 32,
     "metadata": {},
     "output_type": "execute_result"
    }
   ],
   "source": [
    "ten_transformer.transform(features)"
   ]
  },
  {
   "cell_type": "markdown",
   "id": "2974784c",
   "metadata": {},
   "source": [
    "## 4.6 Detectando Outliers"
   ]
  },
  {
   "cell_type": "code",
   "execution_count": 33,
   "id": "995393b5",
   "metadata": {},
   "outputs": [],
   "source": [
    "from sklearn.covariance import EllipticEnvelope\n",
    "from sklearn.datasets import make_blobs"
   ]
  },
  {
   "cell_type": "code",
   "execution_count": 36,
   "id": "649ee744",
   "metadata": {},
   "outputs": [
    {
     "data": {
      "text/plain": [
       "array([[-1.83198811,  3.52863145],\n",
       "       [-2.76017908,  5.55121358],\n",
       "       [-1.61734616,  4.98930508],\n",
       "       [-0.52579046,  3.3065986 ],\n",
       "       [ 0.08525186,  3.64528297],\n",
       "       [-0.79415228,  2.10495117],\n",
       "       [-1.34052081,  4.15711949],\n",
       "       [-1.98197711,  4.02243551],\n",
       "       [-2.18773166,  3.33352125],\n",
       "       [-0.19745197,  2.34634916]])"
      ]
     },
     "execution_count": 36,
     "metadata": {},
     "output_type": "execute_result"
    }
   ],
   "source": [
    "features, _ = make_blobs(\n",
    "    n_samples=10,\n",
    "    n_features=2, \n",
    "    centers=1,\n",
    "    random_state=1\n",
    ")\n",
    "\n",
    "features"
   ]
  },
  {
   "cell_type": "code",
   "execution_count": 37,
   "id": "5aa48760",
   "metadata": {},
   "outputs": [
    {
     "data": {
      "text/plain": [
       "array([[ 1.00000000e+04,  1.00000000e+04],\n",
       "       [-2.76017908e+00,  5.55121358e+00],\n",
       "       [-1.61734616e+00,  4.98930508e+00],\n",
       "       [-5.25790464e-01,  3.30659860e+00],\n",
       "       [ 8.52518583e-02,  3.64528297e+00],\n",
       "       [-7.94152277e-01,  2.10495117e+00],\n",
       "       [-1.34052081e+00,  4.15711949e+00],\n",
       "       [-1.98197711e+00,  4.02243551e+00],\n",
       "       [-2.18773166e+00,  3.33352125e+00],\n",
       "       [-1.97451969e-01,  2.34634916e+00]])"
      ]
     },
     "execution_count": 37,
     "metadata": {},
     "output_type": "execute_result"
    }
   ],
   "source": [
    "features[0, 0] = 10000\n",
    "features[0, 1] = 10000\n",
    "features"
   ]
  },
  {
   "cell_type": "code",
   "execution_count": 38,
   "id": "bae9da72",
   "metadata": {},
   "outputs": [],
   "source": [
    "outlier_detector = EllipticEnvelope(contamination=.1)"
   ]
  },
  {
   "cell_type": "code",
   "execution_count": 40,
   "id": "39eedead",
   "metadata": {},
   "outputs": [
    {
     "data": {
      "text/plain": [
       "EllipticEnvelope()"
      ]
     },
     "execution_count": 40,
     "metadata": {},
     "output_type": "execute_result"
    }
   ],
   "source": [
    "# Ajustamos el detector\n",
    "outlier_detector.fit(features)"
   ]
  },
  {
   "cell_type": "code",
   "execution_count": 41,
   "id": "b7444928",
   "metadata": {},
   "outputs": [
    {
     "data": {
      "text/plain": [
       "array([-1,  1,  1,  1,  1,  1,  1,  1,  1,  1])"
      ]
     },
     "execution_count": 41,
     "metadata": {},
     "output_type": "execute_result"
    }
   ],
   "source": [
    "#Predecimos los outliers\n",
    "outlier_detector.predict(features)"
   ]
  },
  {
   "cell_type": "markdown",
   "id": "fdb6eb1c",
   "metadata": {},
   "source": [
    "pp 85"
   ]
  }
 ],
 "metadata": {
  "kernelspec": {
   "display_name": "Python 3",
   "language": "python",
   "name": "python3"
  },
  "language_info": {
   "codemirror_mode": {
    "name": "ipython",
    "version": 3
   },
   "file_extension": ".py",
   "mimetype": "text/x-python",
   "name": "python",
   "nbconvert_exporter": "python",
   "pygments_lexer": "ipython3",
   "version": "3.9.6"
  }
 },
 "nbformat": 4,
 "nbformat_minor": 5
}
