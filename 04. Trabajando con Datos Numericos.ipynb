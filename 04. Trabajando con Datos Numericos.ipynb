{
 "cells": [
  {
   "cell_type": "markdown",
   "id": "9c59109c",
   "metadata": {},
   "source": [
    "# 4. Trabajando con Datos Númericos"
   ]
  },
  {
   "cell_type": "markdown",
   "id": "b025aa85",
   "metadata": {},
   "source": [
    "## Librerias"
   ]
  },
  {
   "cell_type": "code",
   "execution_count": 1,
   "id": "ce58711d",
   "metadata": {},
   "outputs": [],
   "source": [
    "import pandas as pd\n",
    "import numpy as np"
   ]
  },
  {
   "cell_type": "code",
   "execution_count": 2,
   "id": "579fcf7f",
   "metadata": {},
   "outputs": [],
   "source": [
    "from sklearn import preprocessing"
   ]
  },
  {
   "cell_type": "markdown",
   "id": "70cb8ec9",
   "metadata": {},
   "source": [
    "## 4.1 Reescalar features"
   ]
  },
  {
   "cell_type": "code",
   "execution_count": 3,
   "id": "12ce2d51",
   "metadata": {},
   "outputs": [],
   "source": [
    "feature = np.array([\n",
    "    [-500.5],\n",
    "    [-100.1],\n",
    "    [0],\n",
    "    [100.1],\n",
    "    [900.9]\n",
    "])"
   ]
  },
  {
   "cell_type": "code",
   "execution_count": 4,
   "id": "e5ad993a",
   "metadata": {},
   "outputs": [
    {
     "data": {
      "text/plain": [
       "array([[-500.5],\n",
       "       [-100.1],\n",
       "       [   0. ],\n",
       "       [ 100.1],\n",
       "       [ 900.9]])"
      ]
     },
     "execution_count": 4,
     "metadata": {},
     "output_type": "execute_result"
    }
   ],
   "source": [
    "feature"
   ]
  },
  {
   "cell_type": "code",
   "execution_count": 5,
   "id": "58b850be",
   "metadata": {},
   "outputs": [],
   "source": [
    "# Creamos el escalador\n",
    "\n",
    "minmax_scale = preprocessing.MinMaxScaler(feature_range=(0, 1))"
   ]
  },
  {
   "cell_type": "code",
   "execution_count": 6,
   "id": "0f89fae5",
   "metadata": {},
   "outputs": [
    {
     "data": {
      "text/plain": [
       "array([[0.        ],\n",
       "       [0.28571429],\n",
       "       [0.35714286],\n",
       "       [0.42857143],\n",
       "       [1.        ]])"
      ]
     },
     "execution_count": 6,
     "metadata": {},
     "output_type": "execute_result"
    }
   ],
   "source": [
    "# Escalamos nuestros datos\n",
    "\n",
    "scaled_feature = minmax_scale.fit_transform(feature)\n",
    "scaled_feature"
   ]
  },
  {
   "cell_type": "markdown",
   "id": "58ae1221",
   "metadata": {},
   "source": [
    "## 4.2 Estandarizar features"
   ]
  },
  {
   "cell_type": "code",
   "execution_count": 7,
   "id": "ee0cb1e5",
   "metadata": {},
   "outputs": [],
   "source": [
    "feature = np.array([\n",
    "    [-1000.1],\n",
    "    [-200.2],\n",
    "    [500.5],\n",
    "    [600.6],\n",
    "    [9000.9]\n",
    "])"
   ]
  },
  {
   "cell_type": "code",
   "execution_count": 8,
   "id": "d739b9cf",
   "metadata": {},
   "outputs": [],
   "source": [
    "# Creamos el escalador\n",
    "\n",
    "scaler = preprocessing.StandardScaler()"
   ]
  },
  {
   "cell_type": "code",
   "execution_count": 9,
   "id": "101ed284",
   "metadata": {},
   "outputs": [
    {
     "data": {
      "text/plain": [
       "array([[-0.76058269],\n",
       "       [-0.54177196],\n",
       "       [-0.35009716],\n",
       "       [-0.32271504],\n",
       "       [ 1.97516685]])"
      ]
     },
     "execution_count": 9,
     "metadata": {},
     "output_type": "execute_result"
    }
   ],
   "source": [
    "standarized = scaler.fit_transform(feature)\n",
    "standarized"
   ]
  },
  {
   "cell_type": "code",
   "execution_count": 10,
   "id": "a5e19896",
   "metadata": {},
   "outputs": [
    {
     "name": "stdout",
     "output_type": "stream",
     "text": [
      "Mean: 0\n",
      "D. Est: 1\n"
     ]
    }
   ],
   "source": [
    "print(f'Mean: {round(standarized.mean())}')\n",
    "print(f'D. Est: {round(standarized.std())}')"
   ]
  },
  {
   "cell_type": "markdown",
   "id": "360609d5",
   "metadata": {},
   "source": [
    "Si nuestros datos tienen outliers significativos podemos usar un escalador robusto"
   ]
  },
  {
   "cell_type": "code",
   "execution_count": 11,
   "id": "15dbfd0a",
   "metadata": {},
   "outputs": [],
   "source": [
    "robust_scaler = preprocessing.RobustScaler()"
   ]
  },
  {
   "cell_type": "code",
   "execution_count": 12,
   "id": "ce43ceea",
   "metadata": {},
   "outputs": [
    {
     "data": {
      "text/plain": [
       "array([[-1.87387612],\n",
       "       [-0.875     ],\n",
       "       [ 0.        ],\n",
       "       [ 0.125     ],\n",
       "       [10.61488511]])"
      ]
     },
     "execution_count": 12,
     "metadata": {},
     "output_type": "execute_result"
    }
   ],
   "source": [
    "robust_scaler.fit_transform(feature)"
   ]
  },
  {
   "cell_type": "markdown",
   "id": "f7608ab5",
   "metadata": {},
   "source": [
    "## 4.3 Normalizar observaciones"
   ]
  },
  {
   "cell_type": "markdown",
   "id": "a385e88b",
   "metadata": {},
   "source": [
    "**Normalizar:**  Consiste en ajustar los valores medidos en diferentes escalas respecto a una escala común."
   ]
  },
  {
   "cell_type": "code",
   "execution_count": 13,
   "id": "997c5a4c",
   "metadata": {},
   "outputs": [],
   "source": [
    "feature = np.array([\n",
    "    [0.5, 0.5],\n",
    "    [1.1, 3.4],\n",
    "    [1.5, 20.2],\n",
    "    [1.63, 34.4],\n",
    "    [10.9, 3.3]\n",
    "])"
   ]
  },
  {
   "cell_type": "code",
   "execution_count": 14,
   "id": "5c8f8858",
   "metadata": {},
   "outputs": [
    {
     "data": {
      "text/plain": [
       "array([[ 0.5 ,  0.5 ],\n",
       "       [ 1.1 ,  3.4 ],\n",
       "       [ 1.5 , 20.2 ],\n",
       "       [ 1.63, 34.4 ],\n",
       "       [10.9 ,  3.3 ]])"
      ]
     },
     "execution_count": 14,
     "metadata": {},
     "output_type": "execute_result"
    }
   ],
   "source": [
    "feature"
   ]
  },
  {
   "cell_type": "code",
   "execution_count": 15,
   "id": "9feb08a8",
   "metadata": {},
   "outputs": [],
   "source": [
    "# Creamos el normalizador \n",
    "\n",
    "normalizer = preprocessing.Normalizer(norm='l2')"
   ]
  },
  {
   "cell_type": "code",
   "execution_count": 16,
   "id": "3196bb46",
   "metadata": {},
   "outputs": [
    {
     "data": {
      "text/plain": [
       "array([[0.70710678, 0.70710678],\n",
       "       [0.30782029, 0.95144452],\n",
       "       [0.07405353, 0.99725427],\n",
       "       [0.04733062, 0.99887928],\n",
       "       [0.95709822, 0.28976368]])"
      ]
     },
     "execution_count": 16,
     "metadata": {},
     "output_type": "execute_result"
    }
   ],
   "source": [
    "normalizer.transform(feature)"
   ]
  },
  {
   "cell_type": "markdown",
   "id": "541fb70e",
   "metadata": {},
   "source": [
    "## 4.4 Generación de características polinomiales y de interacción"
   ]
  },
  {
   "cell_type": "code",
   "execution_count": 17,
   "id": "06ff19c0",
   "metadata": {},
   "outputs": [],
   "source": [
    "from sklearn.preprocessing import PolynomialFeatures"
   ]
  },
  {
   "cell_type": "code",
   "execution_count": 18,
   "id": "08541dc4",
   "metadata": {},
   "outputs": [
    {
     "data": {
      "text/plain": [
       "array([[2, 3],\n",
       "       [2, 4],\n",
       "       [2, 3]])"
      ]
     },
     "execution_count": 18,
     "metadata": {},
     "output_type": "execute_result"
    }
   ],
   "source": [
    "features = np.array([\n",
    "    [2,3],\n",
    "    [2,4],\n",
    "    [2,3]\n",
    "])\n",
    "features"
   ]
  },
  {
   "cell_type": "code",
   "execution_count": 19,
   "id": "3e535419",
   "metadata": {},
   "outputs": [],
   "source": [
    "polynomial_interaction=PolynomialFeatures(degree=2, include_bias=False)"
   ]
  },
  {
   "cell_type": "code",
   "execution_count": 20,
   "id": "03fa508f",
   "metadata": {},
   "outputs": [
    {
     "data": {
      "text/plain": [
       "array([[ 2.,  3.,  4.,  6.,  9.],\n",
       "       [ 2.,  4.,  4.,  8., 16.],\n",
       "       [ 2.,  3.,  4.,  6.,  9.]])"
      ]
     },
     "execution_count": 20,
     "metadata": {},
     "output_type": "execute_result"
    }
   ],
   "source": [
    "polynomial_interaction.fit_transform(features)"
   ]
  },
  {
   "cell_type": "markdown",
   "id": "98bbe691",
   "metadata": {},
   "source": [
    "## 4.5 Transformando caracteristicas"
   ]
  },
  {
   "cell_type": "code",
   "execution_count": 21,
   "id": "6bc36e96",
   "metadata": {},
   "outputs": [],
   "source": [
    "from sklearn.preprocessing import FunctionTransformer"
   ]
  },
  {
   "cell_type": "code",
   "execution_count": 22,
   "id": "160de6ec",
   "metadata": {},
   "outputs": [],
   "source": [
    "def add_ten(x):\n",
    "    return x+10"
   ]
  },
  {
   "cell_type": "code",
   "execution_count": 23,
   "id": "46517daa",
   "metadata": {},
   "outputs": [],
   "source": [
    "ten_transformer = FunctionTransformer(add_ten)"
   ]
  },
  {
   "cell_type": "code",
   "execution_count": 24,
   "id": "053ef8e4",
   "metadata": {},
   "outputs": [
    {
     "data": {
      "text/plain": [
       "array([[12, 13],\n",
       "       [12, 14],\n",
       "       [12, 13]])"
      ]
     },
     "execution_count": 24,
     "metadata": {},
     "output_type": "execute_result"
    }
   ],
   "source": [
    "ten_transformer.transform(features)"
   ]
  },
  {
   "cell_type": "markdown",
   "id": "2974784c",
   "metadata": {},
   "source": [
    "## 4.6 Detectando Outliers"
   ]
  },
  {
   "cell_type": "markdown",
   "id": "78cabd93",
   "metadata": {},
   "source": [
    "**Metodo 1**"
   ]
  },
  {
   "cell_type": "code",
   "execution_count": 25,
   "id": "995393b5",
   "metadata": {},
   "outputs": [],
   "source": [
    "from sklearn.covariance import EllipticEnvelope\n",
    "from sklearn.datasets import make_blobs"
   ]
  },
  {
   "cell_type": "code",
   "execution_count": 26,
   "id": "649ee744",
   "metadata": {},
   "outputs": [
    {
     "data": {
      "text/plain": [
       "array([[-1.83198811,  3.52863145],\n",
       "       [-2.76017908,  5.55121358],\n",
       "       [-1.61734616,  4.98930508],\n",
       "       [-0.52579046,  3.3065986 ],\n",
       "       [ 0.08525186,  3.64528297],\n",
       "       [-0.79415228,  2.10495117],\n",
       "       [-1.34052081,  4.15711949],\n",
       "       [-1.98197711,  4.02243551],\n",
       "       [-2.18773166,  3.33352125],\n",
       "       [-0.19745197,  2.34634916]])"
      ]
     },
     "execution_count": 26,
     "metadata": {},
     "output_type": "execute_result"
    }
   ],
   "source": [
    "features, _ = make_blobs(\n",
    "    n_samples=10,\n",
    "    n_features=2, \n",
    "    centers=1,\n",
    "    random_state=1\n",
    ")\n",
    "\n",
    "features"
   ]
  },
  {
   "cell_type": "code",
   "execution_count": 27,
   "id": "5aa48760",
   "metadata": {},
   "outputs": [
    {
     "data": {
      "text/plain": [
       "array([[ 1.00000000e+04,  1.00000000e+04],\n",
       "       [-2.76017908e+00,  5.55121358e+00],\n",
       "       [-1.61734616e+00,  4.98930508e+00],\n",
       "       [-5.25790464e-01,  3.30659860e+00],\n",
       "       [ 8.52518583e-02,  3.64528297e+00],\n",
       "       [-7.94152277e-01,  2.10495117e+00],\n",
       "       [-1.34052081e+00,  4.15711949e+00],\n",
       "       [-1.98197711e+00,  4.02243551e+00],\n",
       "       [-2.18773166e+00,  3.33352125e+00],\n",
       "       [-1.97451969e-01,  2.34634916e+00]])"
      ]
     },
     "execution_count": 27,
     "metadata": {},
     "output_type": "execute_result"
    }
   ],
   "source": [
    "features[0, 0] = 10000\n",
    "features[0, 1] = 10000\n",
    "features"
   ]
  },
  {
   "cell_type": "code",
   "execution_count": 28,
   "id": "bae9da72",
   "metadata": {},
   "outputs": [],
   "source": [
    "outlier_detector = EllipticEnvelope(contamination=.1)"
   ]
  },
  {
   "cell_type": "code",
   "execution_count": 29,
   "id": "39eedead",
   "metadata": {},
   "outputs": [
    {
     "data": {
      "text/plain": [
       "EllipticEnvelope()"
      ]
     },
     "execution_count": 29,
     "metadata": {},
     "output_type": "execute_result"
    }
   ],
   "source": [
    "# Ajustamos el detector\n",
    "outlier_detector.fit(features)"
   ]
  },
  {
   "cell_type": "code",
   "execution_count": 30,
   "id": "b7444928",
   "metadata": {},
   "outputs": [
    {
     "data": {
      "text/plain": [
       "array([-1,  1,  1,  1,  1,  1,  1,  1,  1,  1])"
      ]
     },
     "execution_count": 30,
     "metadata": {},
     "output_type": "execute_result"
    }
   ],
   "source": [
    "#Predecimos los outliers\n",
    "outlier_detector.predict(features)"
   ]
  },
  {
   "cell_type": "markdown",
   "id": "fdb6eb1c",
   "metadata": {},
   "source": [
    "**Metodo 2**"
   ]
  },
  {
   "cell_type": "code",
   "execution_count": 31,
   "id": "e30241b8",
   "metadata": {},
   "outputs": [],
   "source": [
    "feature = features[:,0]"
   ]
  },
  {
   "cell_type": "code",
   "execution_count": 41,
   "id": "811ca123",
   "metadata": {},
   "outputs": [],
   "source": [
    "def indices_outliers(x):\n",
    "    q1, q3 = np.percentile(x, [25, 75])\n",
    "    iqr = q3 - q1\n",
    "    lower_bound = q1 - (iqr * 1.5)\n",
    "    upper_bound = q3 + (iqr * 1.5)\n",
    "    \n",
    "    return np.where((x > upper_bound) | (x < lower_bound))"
   ]
  },
  {
   "cell_type": "code",
   "execution_count": 44,
   "id": "654cbc3d",
   "metadata": {},
   "outputs": [],
   "source": [
    "outliers = indices_outliers(feature)"
   ]
  },
  {
   "cell_type": "code",
   "execution_count": 45,
   "id": "e5886d9f",
   "metadata": {},
   "outputs": [
    {
     "data": {
      "text/plain": [
       "(array([0], dtype=int64),)"
      ]
     },
     "execution_count": 45,
     "metadata": {},
     "output_type": "execute_result"
    }
   ],
   "source": [
    "outliers"
   ]
  },
  {
   "cell_type": "markdown",
   "id": "482ff666",
   "metadata": {},
   "source": [
    "## 4.7 Manejando los Outliers"
   ]
  },
  {
   "cell_type": "code",
   "execution_count": 53,
   "id": "6b5cad5f",
   "metadata": {},
   "outputs": [],
   "source": [
    "houses = pd.DataFrame()\n",
    "houses['Price'] = [534433, 392333, 293222, 4322032]\n",
    "houses['Bathrooms'] = [2, 3.5, 2, 116]\n",
    "houses['Square_feet'] = [1500, 2500, 1500, 48000]"
   ]
  },
  {
   "cell_type": "code",
   "execution_count": 56,
   "id": "80b56c63",
   "metadata": {},
   "outputs": [
    {
     "data": {
      "text/html": [
       "<div>\n",
       "<style scoped>\n",
       "    .dataframe tbody tr th:only-of-type {\n",
       "        vertical-align: middle;\n",
       "    }\n",
       "\n",
       "    .dataframe tbody tr th {\n",
       "        vertical-align: top;\n",
       "    }\n",
       "\n",
       "    .dataframe thead th {\n",
       "        text-align: right;\n",
       "    }\n",
       "</style>\n",
       "<table border=\"1\" class=\"dataframe\">\n",
       "  <thead>\n",
       "    <tr style=\"text-align: right;\">\n",
       "      <th></th>\n",
       "      <th>Price</th>\n",
       "      <th>Bathrooms</th>\n",
       "      <th>Square_feet</th>\n",
       "    </tr>\n",
       "  </thead>\n",
       "  <tbody>\n",
       "    <tr>\n",
       "      <th>0</th>\n",
       "      <td>534433</td>\n",
       "      <td>2.0</td>\n",
       "      <td>1500</td>\n",
       "    </tr>\n",
       "    <tr>\n",
       "      <th>1</th>\n",
       "      <td>392333</td>\n",
       "      <td>3.5</td>\n",
       "      <td>2500</td>\n",
       "    </tr>\n",
       "    <tr>\n",
       "      <th>2</th>\n",
       "      <td>293222</td>\n",
       "      <td>2.0</td>\n",
       "      <td>1500</td>\n",
       "    </tr>\n",
       "  </tbody>\n",
       "</table>\n",
       "</div>"
      ],
      "text/plain": [
       "    Price  Bathrooms  Square_feet\n",
       "0  534433        2.0         1500\n",
       "1  392333        3.5         2500\n",
       "2  293222        2.0         1500"
      ]
     },
     "execution_count": 56,
     "metadata": {},
     "output_type": "execute_result"
    }
   ],
   "source": [
    "# Filtramos las observaciones\n",
    "\n",
    "houses[houses['Bathrooms'] < 10]"
   ]
  },
  {
   "cell_type": "code",
   "execution_count": 57,
   "id": "16ee37e5",
   "metadata": {},
   "outputs": [],
   "source": [
    "# Podemos marcar los outliers con un nuevo feature\n",
    "\n",
    "houses['Outliers'] = np.where(houses['Bathrooms']>10, 1, 0)"
   ]
  },
  {
   "cell_type": "code",
   "execution_count": 63,
   "id": "22a47d40",
   "metadata": {},
   "outputs": [
    {
     "data": {
      "text/html": [
       "<div>\n",
       "<style scoped>\n",
       "    .dataframe tbody tr th:only-of-type {\n",
       "        vertical-align: middle;\n",
       "    }\n",
       "\n",
       "    .dataframe tbody tr th {\n",
       "        vertical-align: top;\n",
       "    }\n",
       "\n",
       "    .dataframe thead th {\n",
       "        text-align: right;\n",
       "    }\n",
       "</style>\n",
       "<table border=\"1\" class=\"dataframe\">\n",
       "  <thead>\n",
       "    <tr style=\"text-align: right;\">\n",
       "      <th></th>\n",
       "      <th>Price</th>\n",
       "      <th>Bathrooms</th>\n",
       "      <th>Square_feet</th>\n",
       "      <th>Outliers</th>\n",
       "      <th>Log_Of_Square_feet</th>\n",
       "    </tr>\n",
       "  </thead>\n",
       "  <tbody>\n",
       "    <tr>\n",
       "      <th>0</th>\n",
       "      <td>534433</td>\n",
       "      <td>2.0</td>\n",
       "      <td>1500</td>\n",
       "      <td>0</td>\n",
       "      <td>7.313220</td>\n",
       "    </tr>\n",
       "    <tr>\n",
       "      <th>1</th>\n",
       "      <td>392333</td>\n",
       "      <td>3.5</td>\n",
       "      <td>2500</td>\n",
       "      <td>0</td>\n",
       "      <td>7.824046</td>\n",
       "    </tr>\n",
       "    <tr>\n",
       "      <th>2</th>\n",
       "      <td>293222</td>\n",
       "      <td>2.0</td>\n",
       "      <td>1500</td>\n",
       "      <td>0</td>\n",
       "      <td>7.313220</td>\n",
       "    </tr>\n",
       "    <tr>\n",
       "      <th>3</th>\n",
       "      <td>4322032</td>\n",
       "      <td>116.0</td>\n",
       "      <td>48000</td>\n",
       "      <td>1</td>\n",
       "      <td>10.778956</td>\n",
       "    </tr>\n",
       "  </tbody>\n",
       "</table>\n",
       "</div>"
      ],
      "text/plain": [
       "     Price  Bathrooms  Square_feet  Outliers  Log_Of_Square_feet\n",
       "0   534433        2.0         1500         0            7.313220\n",
       "1   392333        3.5         2500         0            7.824046\n",
       "2   293222        2.0         1500         0            7.313220\n",
       "3  4322032      116.0        48000         1           10.778956"
      ]
     },
     "execution_count": 63,
     "metadata": {},
     "output_type": "execute_result"
    }
   ],
   "source": [
    "# Podemos transformas nuestros datos para disminuir el efecto de los outliers\n",
    "\n",
    "houses['Log_Of_Square_feet'] = np.log(houses['Square_feet'])\n",
    "houses"
   ]
  },
  {
   "cell_type": "markdown",
   "id": "42f5011b",
   "metadata": {},
   "source": [
    "## 4.8 Discretizando características"
   ]
  },
  {
   "cell_type": "code",
   "execution_count": 64,
   "id": "98492789",
   "metadata": {},
   "outputs": [],
   "source": [
    "from sklearn.preprocessing import Binarizer"
   ]
  },
  {
   "cell_type": "code",
   "execution_count": 76,
   "id": "515bb4a0",
   "metadata": {},
   "outputs": [],
   "source": [
    "age = np.array([\n",
    "    [6],\n",
    "    [12],\n",
    "    [18],\n",
    "    [20],\n",
    "    [36],\n",
    "    [65]\n",
    "])"
   ]
  },
  {
   "cell_type": "code",
   "execution_count": 77,
   "id": "09e73125",
   "metadata": {},
   "outputs": [
    {
     "data": {
      "text/plain": [
       "array([[0],\n",
       "       [0],\n",
       "       [0],\n",
       "       [1],\n",
       "       [1],\n",
       "       [1]])"
      ]
     },
     "execution_count": 77,
     "metadata": {},
     "output_type": "execute_result"
    }
   ],
   "source": [
    "# Podemos crear rangos para nuestros datos númericos\n",
    "\n",
    "binarizer = Binarizer(threshold=18)\n",
    "binarizer.fit_transform(age)"
   ]
  },
  {
   "cell_type": "code",
   "execution_count": 78,
   "id": "5799f4db",
   "metadata": {},
   "outputs": [
    {
     "data": {
      "text/plain": [
       "array([[0],\n",
       "       [0],\n",
       "       [0],\n",
       "       [1],\n",
       "       [2],\n",
       "       [3]], dtype=int64)"
      ]
     },
     "execution_count": 78,
     "metadata": {},
     "output_type": "execute_result"
    }
   ],
   "source": [
    "np.digitize(age, bins=[20, 30, 40])"
   ]
  },
  {
   "cell_type": "markdown",
   "id": "eb218c9b",
   "metadata": {},
   "source": [
    "## 4.9 Agrupar observaciones utilizando Clustering"
   ]
  },
  {
   "cell_type": "code",
   "execution_count": 80,
   "id": "985cf223",
   "metadata": {},
   "outputs": [],
   "source": [
    "from sklearn.datasets import make_blobs\n",
    "from sklearn.cluster import KMeans"
   ]
  },
  {
   "cell_type": "code",
   "execution_count": 84,
   "id": "36d24d5f",
   "metadata": {},
   "outputs": [],
   "source": [
    "features, _ = make_blobs(\n",
    "    n_samples=50,\n",
    "    n_features=2,\n",
    "    centers=3,\n",
    "    random_state=1\n",
    ")"
   ]
  },
  {
   "cell_type": "code",
   "execution_count": 85,
   "id": "e7724a5e",
   "metadata": {},
   "outputs": [],
   "source": [
    "df = pd.DataFrame(features, columns=[\"feature 1\", \"feature 2\"])"
   ]
  },
  {
   "cell_type": "code",
   "execution_count": 89,
   "id": "0d56d8df",
   "metadata": {},
   "outputs": [
    {
     "data": {
      "text/plain": [
       "KMeans(n_clusters=3, random_state=0)"
      ]
     },
     "execution_count": 89,
     "metadata": {},
     "output_type": "execute_result"
    }
   ],
   "source": [
    "clusterer = KMeans(3, random_state=0)\n",
    "clusterer.fit(features)"
   ]
  },
  {
   "cell_type": "code",
   "execution_count": 90,
   "id": "f96e35b3",
   "metadata": {},
   "outputs": [],
   "source": [
    "df['group'] = clusterer.predict(features)"
   ]
  },
  {
   "cell_type": "code",
   "execution_count": 93,
   "id": "f4c5bedd",
   "metadata": {},
   "outputs": [
    {
     "data": {
      "text/html": [
       "<div>\n",
       "<style scoped>\n",
       "    .dataframe tbody tr th:only-of-type {\n",
       "        vertical-align: middle;\n",
       "    }\n",
       "\n",
       "    .dataframe tbody tr th {\n",
       "        vertical-align: top;\n",
       "    }\n",
       "\n",
       "    .dataframe thead th {\n",
       "        text-align: right;\n",
       "    }\n",
       "</style>\n",
       "<table border=\"1\" class=\"dataframe\">\n",
       "  <thead>\n",
       "    <tr style=\"text-align: right;\">\n",
       "      <th></th>\n",
       "      <th>feature 1</th>\n",
       "    </tr>\n",
       "    <tr>\n",
       "      <th>group</th>\n",
       "      <th></th>\n",
       "    </tr>\n",
       "  </thead>\n",
       "  <tbody>\n",
       "    <tr>\n",
       "      <th>0</th>\n",
       "      <td>16</td>\n",
       "    </tr>\n",
       "    <tr>\n",
       "      <th>1</th>\n",
       "      <td>17</td>\n",
       "    </tr>\n",
       "    <tr>\n",
       "      <th>2</th>\n",
       "      <td>17</td>\n",
       "    </tr>\n",
       "  </tbody>\n",
       "</table>\n",
       "</div>"
      ],
      "text/plain": [
       "       feature 1\n",
       "group           \n",
       "0             16\n",
       "1             17\n",
       "2             17"
      ]
     },
     "execution_count": 93,
     "metadata": {},
     "output_type": "execute_result"
    }
   ],
   "source": [
    "df.groupby('group')[['feature 1']].count()"
   ]
  },
  {
   "cell_type": "markdown",
   "id": "d2985f83",
   "metadata": {},
   "source": [
    "## 4.10 Borrando observaciones con valores faltantes"
   ]
  },
  {
   "cell_type": "code",
   "execution_count": 96,
   "id": "b70fb034",
   "metadata": {},
   "outputs": [
    {
     "data": {
      "text/plain": [
       "array([[ 1.1, 11.1],\n",
       "       [ 2.2, 22.2],\n",
       "       [ 3.3, 33.3],\n",
       "       [ 4.4, 44.4],\n",
       "       [ nan, 55.5]])"
      ]
     },
     "execution_count": 96,
     "metadata": {},
     "output_type": "execute_result"
    }
   ],
   "source": [
    "features = np.array([\n",
    "    [1.1, 11.1],\n",
    "    [2.2, 22.2],\n",
    "    [3.3, 33.3],\n",
    "    [4.4, 44.4],\n",
    "    [np.nan, 55.5]\n",
    "])\n",
    "\n",
    "features"
   ]
  },
  {
   "cell_type": "code",
   "execution_count": 102,
   "id": "85018a62",
   "metadata": {},
   "outputs": [
    {
     "data": {
      "text/plain": [
       "array([[ 1.1, 11.1],\n",
       "       [ 2.2, 22.2],\n",
       "       [ 3.3, 33.3],\n",
       "       [ 4.4, 44.4]])"
      ]
     },
     "execution_count": 102,
     "metadata": {},
     "output_type": "execute_result"
    }
   ],
   "source": [
    "# Utilizando numpy\n",
    "\n",
    "features[~np.isnan(features).any(axis=1)]"
   ]
  },
  {
   "cell_type": "code",
   "execution_count": 105,
   "id": "af5294aa",
   "metadata": {},
   "outputs": [
    {
     "data": {
      "text/html": [
       "<div>\n",
       "<style scoped>\n",
       "    .dataframe tbody tr th:only-of-type {\n",
       "        vertical-align: middle;\n",
       "    }\n",
       "\n",
       "    .dataframe tbody tr th {\n",
       "        vertical-align: top;\n",
       "    }\n",
       "\n",
       "    .dataframe thead th {\n",
       "        text-align: right;\n",
       "    }\n",
       "</style>\n",
       "<table border=\"1\" class=\"dataframe\">\n",
       "  <thead>\n",
       "    <tr style=\"text-align: right;\">\n",
       "      <th></th>\n",
       "      <th>feature 1</th>\n",
       "      <th>feature 2</th>\n",
       "    </tr>\n",
       "  </thead>\n",
       "  <tbody>\n",
       "    <tr>\n",
       "      <th>0</th>\n",
       "      <td>1.1</td>\n",
       "      <td>11.1</td>\n",
       "    </tr>\n",
       "    <tr>\n",
       "      <th>1</th>\n",
       "      <td>2.2</td>\n",
       "      <td>22.2</td>\n",
       "    </tr>\n",
       "    <tr>\n",
       "      <th>2</th>\n",
       "      <td>3.3</td>\n",
       "      <td>33.3</td>\n",
       "    </tr>\n",
       "    <tr>\n",
       "      <th>3</th>\n",
       "      <td>4.4</td>\n",
       "      <td>44.4</td>\n",
       "    </tr>\n",
       "  </tbody>\n",
       "</table>\n",
       "</div>"
      ],
      "text/plain": [
       "   feature 1  feature 2\n",
       "0        1.1       11.1\n",
       "1        2.2       22.2\n",
       "2        3.3       33.3\n",
       "3        4.4       44.4"
      ]
     },
     "execution_count": 105,
     "metadata": {},
     "output_type": "execute_result"
    }
   ],
   "source": [
    "# Utilizando pandas\n",
    "\n",
    "df = pd.DataFrame(features, columns=['feature 1', 'feature 2'])\n",
    "df.dropna()"
   ]
  },
  {
   "cell_type": "markdown",
   "id": "2bd573e7",
   "metadata": {},
   "source": [
    "## 4.11 Asignando valores a los datos faltantes"
   ]
  },
  {
   "cell_type": "code",
   "execution_count": 1,
   "id": "d982a94b",
   "metadata": {},
   "outputs": [
    {
     "ename": "ModuleNotFoundError",
     "evalue": "No module named 'fancyimpute'",
     "output_type": "error",
     "traceback": [
      "\u001b[1;31m---------------------------------------------------------------------------\u001b[0m",
      "\u001b[1;31mModuleNotFoundError\u001b[0m                       Traceback (most recent call last)",
      "\u001b[1;32m<ipython-input-1-082daf1fc59c>\u001b[0m in \u001b[0;36m<module>\u001b[1;34m\u001b[0m\n\u001b[1;32m----> 1\u001b[1;33m \u001b[1;32mfrom\u001b[0m \u001b[0mfancyimpute\u001b[0m \u001b[1;32mimport\u001b[0m \u001b[0mKNN\u001b[0m\u001b[1;33m\u001b[0m\u001b[1;33m\u001b[0m\u001b[0m\n\u001b[0m",
      "\u001b[1;31mModuleNotFoundError\u001b[0m: No module named 'fancyimpute'"
     ]
    }
   ],
   "source": [
    "from fancyimpute import KNN"
   ]
  },
  {
   "cell_type": "code",
   "execution_count": null,
   "id": "379b6174",
   "metadata": {},
   "outputs": [],
   "source": []
  },
  {
   "cell_type": "markdown",
   "id": "51100198",
   "metadata": {},
   "source": [
    "pp 94"
   ]
  },
  {
   "cell_type": "code",
   "execution_count": null,
   "id": "90a82726",
   "metadata": {},
   "outputs": [],
   "source": []
  },
  {
   "cell_type": "code",
   "execution_count": null,
   "id": "b0e76e52",
   "metadata": {},
   "outputs": [],
   "source": []
  }
 ],
 "metadata": {
  "kernelspec": {
   "display_name": "Python 3",
   "language": "python",
   "name": "python3"
  },
  "language_info": {
   "codemirror_mode": {
    "name": "ipython",
    "version": 3
   },
   "file_extension": ".py",
   "mimetype": "text/x-python",
   "name": "python",
   "nbconvert_exporter": "python",
   "pygments_lexer": "ipython3",
   "version": "3.9.6"
  }
 },
 "nbformat": 4,
 "nbformat_minor": 5
}
